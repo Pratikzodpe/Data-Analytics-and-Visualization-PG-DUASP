{
 "cells": [
  {
   "cell_type": "markdown",
   "id": "846a2203-2868-44bf-bbe1-2c72a33c9362",
   "metadata": {},
   "source": [
    "### Probability\n"
   ]
  },
  {
   "cell_type": "markdown",
   "id": "0e00b4d5-9ff9-4eb7-9171-b04ef4a5971a",
   "metadata": {},
   "source": [
    "probability measure the likelihood of certain event \n",
    "we can predict only the chance of event to occur i.e how likely they are going to happen "
   ]
  },
  {
   "cell_type": "code",
   "execution_count": 1,
   "id": "d0b885af-ecf8-4bcb-8fb5-33c134aae684",
   "metadata": {},
   "outputs": [],
   "source": [
    "p_green=450/1000\n",
    "p_not_red=1-(200/1000)\n",
    "p_blue_or_orange=0.35"
   ]
  },
  {
   "cell_type": "markdown",
   "id": "66bf0067-97d1-45b0-9506-385f10e95155",
   "metadata": {},
   "source": [
    "Theoritical prob\n",
    "taking the equal number of chances for each smaple space"
   ]
  },
  {
   "cell_type": "markdown",
   "id": "8871170e-1239-464e-901f-bf22b8a89309",
   "metadata": {},
   "source": [
    "it is based on the basis of the obervation of an experiment \n",
    "calculated by based on the number of possible outcomes by the total number of trials"
   ]
  },
  {
   "cell_type": "code",
   "execution_count": 2,
   "id": "3a98595d-862c-4c12-96ec-5552f70696cd",
   "metadata": {},
   "outputs": [],
   "source": [
    "def coin_flip_pro():\n",
    "    # calculate the probability of heads in a fair coin flip\n",
    "    pro=1/2\n",
    "    return pro\n",
    "\n",
    "def rolling_dice_pro(number):\n",
    "    # Calculate the probability of rolling a specific number on a fair dice \n",
    "    if number not in range(1,7):\n",
    "        raise ValueError(\"Number must in 1 to 6 \")\n",
    "    return 1/6\n",
    "\n"
   ]
  },
  {
   "cell_type": "code",
   "execution_count": 3,
   "id": "c9bc5df4-ed08-4106-97b8-f4d3ef38c0b8",
   "metadata": {},
   "outputs": [
    {
     "name": "stdout",
     "output_type": "stream",
     "text": [
      "rolling dice probability 0.16666666666666666\n"
     ]
    }
   ],
   "source": [
    "print(\"rolling dice probability\",rolling_dice_pro(4))"
   ]
  },
  {
   "cell_type": "markdown",
   "id": "2ae87568-6db5-4c1b-9e34-a7a47d5dbe00",
   "metadata": {},
   "source": [
    "Experimental Probability\n",
    "based on the basis of the observation of an experiment .\n",
    "calculated based on the number of possible outcomes by total number of trials "
   ]
  },
  {
   "cell_type": "code",
   "execution_count": 4,
   "id": "c987756c-c57d-43e6-a368-a08036862cfe",
   "metadata": {},
   "outputs": [
    {
     "name": "stderr",
     "output_type": "stream",
     "text": [
      "C:\\Users\\duasp\\AppData\\Roaming\\Python\\Python311\\site-packages\\pandas\\core\\arrays\\masked.py:60: UserWarning: Pandas requires version '1.3.6' or newer of 'bottleneck' (version '1.3.5' currently installed).\n",
      "  from pandas.core import (\n"
     ]
    }
   ],
   "source": [
    "import random\n",
    "import pandas as pd"
   ]
  },
  {
   "cell_type": "code",
   "execution_count": 5,
   "id": "358e7217-10a1-4d12-963b-0ede825a7ee0",
   "metadata": {},
   "outputs": [],
   "source": [
    "def simulate_coin_flips(number_flip):\n",
    "    # simulate coin flip and return list of result\n",
    "    res=[random.choice([\"head\",\"tail\"]) for i in range(number_flip)]\n",
    "    return res"
   ]
  },
  {
   "cell_type": "code",
   "execution_count": 6,
   "id": "717004e1-e0a1-48ce-af14-461d7aab34e7",
   "metadata": {},
   "outputs": [],
   "source": [
    "def calculate_experimnetal_probability(result,event):\n",
    "    # calucalte the expreimental probabilyt of specific event \n",
    "    return result.count(event)/len(result)"
   ]
  },
  {
   "cell_type": "code",
   "execution_count": 7,
   "id": "0cd31007-d3cc-440a-a880-76dec43c64ea",
   "metadata": {},
   "outputs": [
    {
     "data": {
      "text/plain": [
       "['head', 'tail', 'head', 'tail', 'tail']"
      ]
     },
     "execution_count": 7,
     "metadata": {},
     "output_type": "execute_result"
    }
   ],
   "source": [
    "simulate_coin_flips(5)"
   ]
  },
  {
   "cell_type": "code",
   "execution_count": 8,
   "id": "90462c8b-87ef-427d-9463-a2f903b9c5cc",
   "metadata": {},
   "outputs": [
    {
     "data": {
      "text/plain": [
       "0.49964"
      ]
     },
     "execution_count": 8,
     "metadata": {},
     "output_type": "execute_result"
    }
   ],
   "source": [
    "calculate_experimnetal_probability(simulate_coin_flips(50000),\"head\")"
   ]
  },
  {
   "cell_type": "code",
   "execution_count": 9,
   "id": "4bbfe280-4c9d-4eb2-9945-82ebeb1e1ddb",
   "metadata": {},
   "outputs": [
    {
     "data": {
      "text/plain": [
       "0.5036"
      ]
     },
     "execution_count": 9,
     "metadata": {},
     "output_type": "execute_result"
    }
   ],
   "source": [
    "calculate_experimnetal_probability(simulate_coin_flips(5000),\"tail\")"
   ]
  },
  {
   "cell_type": "markdown",
   "id": "a6f88608-4efb-48b4-9079-c19ff73f3a66",
   "metadata": {},
   "source": [
    "## Axiomatic probability"
   ]
  },
  {
   "cell_type": "markdown",
   "id": "21164b5d-7f0e-4e49-bf7f-a5d720f0d7d7",
   "metadata": {},
   "source": [
    "conditional probability is the likelihood of an event of an event or outcomes occuring basd on the occurrance of a previous event "
   ]
  },
  {
   "cell_type": "markdown",
   "id": "90090582-1d27-46e7-ac92-3ad2e49e2c66",
   "metadata": {},
   "source": [
    "completmentry event \n",
    "<br> the possibility that ther wwill be not only two outcomes which states that an event will occur or not"
   ]
  },
  {
   "cell_type": "markdown",
   "id": "dfb3ddf6-acf6-451e-b057-26b670ce2301",
   "metadata": {},
   "source": [
    "Indepedent Event \n",
    "*occurance of one event is not effected by the occurance of the another event "
   ]
  },
  {
   "cell_type": "markdown",
   "id": "95348798-6d06-4a90-849b-d837d5814539",
   "metadata": {},
   "source": [
    "### Discrete Probability"
   ]
  },
  {
   "cell_type": "code",
   "execution_count": 10,
   "id": "3525ffd0-0d6d-4d70-a64d-296b05f0554a",
   "metadata": {},
   "outputs": [],
   "source": [
    "import numpy as np\n",
    "import matplotlib.pyplot as plt\n",
    "import seaborn as sns\n",
    "\n"
   ]
  },
  {
   "cell_type": "code",
   "execution_count": 11,
   "id": "59228c3f-f331-47ee-a6e6-63f9f18f0a15",
   "metadata": {},
   "outputs": [],
   "source": [
    "ages = [29,29,24,25,25,27,28,29,30,15,21,54,62,12,35,62,41,75,26,85,95,63,14,25,100,100,100,100,100,100,100]"
   ]
  },
  {
   "cell_type": "code",
   "execution_count": 12,
   "id": "6ab9bcf6-fa98-4a7f-83a5-8d1fb451dfb1",
   "metadata": {},
   "outputs": [
    {
     "data": {
      "image/png": "[encoded data removed]",
      "text/plain": [
       "<Figure size 640x480 with 1 Axes>"
      ]
     },
     "metadata": {},
     "output_type": "display_data"
    }
   ],
   "source": [
    "plt.hist(ages,bins = [24,25,26,27,28,29,30,40,50,60,70,80,120]);"
   ]
  },
  {
   "cell_type": "code",
   "execution_count": 13,
   "id": "5f39dac4-fa83-40db-b8f6-931bfb924afa",
   "metadata": {},
   "outputs": [
    {
     "data": {
      "text/plain": [
       "<Axes: ylabel='Density'>"
      ]
     },
     "execution_count": 13,
     "metadata": {},
     "output_type": "execute_result"
    },
    {
     "data": {
      "image/png": "[encoded data removed]",
      "text/plain": [
       "<Figure size 640x480 with 1 Axes>"
      ]
     },
     "metadata": {},
     "output_type": "display_data"
    }
   ],
   "source": [
    "sns.kdeplot(ages)"
   ]
  },
  {
   "cell_type": "code",
   "execution_count": 14,
   "id": "5da6b9f6-883d-45cb-aec0-0cc5506b770f",
   "metadata": {},
   "outputs": [],
   "source": [
    "cars=[]\n",
    "zero=['0 cars'for x in range(30)]\n",
    "one=['1 cars'for x in range(130)]\n",
    "two=['2 cars'for x in range(700)]\n",
    "three=['3 cars'for x in range(100)]\n",
    "four=['4 cars+'for x in range(40)]\n",
    "cars.extend(zero);cars.extend(one);cars.extend(two);cars.extend(three);cars.extend(four);"
   ]
  },
  {
   "cell_type": "code",
   "execution_count": 15,
   "id": "40c64c8d-39e1-4792-a722-944e9fa47ebd",
   "metadata": {},
   "outputs": [
    {
     "data": {
      "text/plain": [
       "1000"
      ]
     },
     "execution_count": 15,
     "metadata": {},
     "output_type": "execute_result"
    }
   ],
   "source": [
    "len(cars)"
   ]
  },
  {
   "cell_type": "code",
   "execution_count": 16,
   "id": "8ab27619-037d-4566-a1d0-f4dc856cbf17",
   "metadata": {},
   "outputs": [
    {
     "data": {
      "image/png": "[encoded data removed]",
      "text/plain": [
       "<Figure size 640x480 with 1 Axes>"
      ]
     },
     "metadata": {},
     "output_type": "display_data"
    }
   ],
   "source": [
    "plt.xticks\n",
    "plt.hist(cars,bins = ['0 cars','1 cars','2 cars','3 cars','4 cars+']);"
   ]
  },
  {
   "cell_type": "code",
   "execution_count": 17,
   "id": "d8a183bd-b2a9-4e81-a778-3602b08764de",
   "metadata": {},
   "outputs": [
    {
     "data": {
      "text/plain": [
       "<Axes: xlabel='count', ylabel='Density'>"
      ]
     },
     "execution_count": 17,
     "metadata": {},
     "output_type": "execute_result"
    },
    {
     "data": {
      "image/png": "[encoded data removed]",
      "text/plain": [
       "<Figure size 640x480 with 1 Axes>"
      ]
     },
     "metadata": {},
     "output_type": "display_data"
    }
   ],
   "source": [
    "sns.kdeplot(pd.Series(cars).value_counts())"
   ]
  },
  {
   "cell_type": "code",
   "execution_count": 18,
   "id": "b6e54521-409e-4415-84b7-b24dc295e55a",
   "metadata": {},
   "outputs": [],
   "source": [
    "temp= [ np.random.randint(20,40)for x in range(1000)]"
   ]
  },
  {
   "cell_type": "code",
   "execution_count": 19,
   "id": "216bad4f-f654-4b47-b7f2-174dec899597",
   "metadata": {},
   "outputs": [
    {
     "data": {
      "text/plain": [
       "<Axes: ylabel='Density'>"
      ]
     },
     "execution_count": 19,
     "metadata": {},
     "output_type": "execute_result"
    },
    {
     "data": {
      "image/png": "[encoded data removed]",
      "text/plain": [
       "<Figure size 640x480 with 1 Axes>"
      ]
     },
     "metadata": {},
     "output_type": "display_data"
    }
   ],
   "source": [
    "sns.kdeplot(temp)"
   ]
  },
  {
   "cell_type": "code",
   "execution_count": 20,
   "id": "43b0ef3b-b278-4805-aadd-22377c180551",
   "metadata": {},
   "outputs": [],
   "source": [
    "####gausion Distribution"
   ]
  },
  {
   "cell_type": "code",
   "execution_count": 21,
   "id": "730f70ef-83f8-4f84-a797-4a5c657938a5",
   "metadata": {},
   "outputs": [],
   "source": [
    "data=np.random.normal(0,1,1000)"
   ]
  },
  {
   "cell_type": "code",
   "execution_count": 22,
   "id": "3d26647d-1f2c-4f4c-84a4-6aa08b1310df",
   "metadata": {},
   "outputs": [
    {
     "data": {
      "text/plain": [
       "array([ 8.49663281e-01, -1.01361488e-01, -3.79450857e-01,  9.24968362e-01,\n",
       "       -6.01791767e-01,  1.03262243e+00,  1.35627214e+00, -4.05368191e-01,\n",
       "       -8.51057024e-01, -1.33638812e-01, -1.62012641e+00,  1.13626328e+00,\n",
       "       -3.21985377e-01,  7.67031759e-01,  2.99501418e+00, -7.55130144e-02,\n",
       "       -2.46573484e+00, -1.94633289e+00,  1.30775668e+00,  6.59016251e-01,\n",
       "       -2.73106622e-01, -4.29827807e-01,  2.51369908e-01,  1.91964657e+00,\n",
       "        2.97622741e-01, -3.92530396e-01, -2.98443072e-01,  2.55851611e-01,\n",
       "       -3.43918130e-01,  1.24875999e+00, -1.04100326e+00, -2.59956159e-01,\n",
       "       -1.26405212e+00, -1.69281552e+00,  9.85332409e-01,  8.51586863e-02,\n",
       "       -8.79765334e-02,  7.99898257e-02,  1.30686644e+00,  1.68989723e-02,\n",
       "        8.15504553e-01,  1.58269086e-01,  1.12664152e-01,  4.87465254e-01,\n",
       "       -1.08829353e+00,  5.97703004e-02,  4.23375672e-01, -5.24408305e-01,\n",
       "       -1.64616735e+00,  8.02578484e-01,  2.58853079e-01, -1.74016204e+00,\n",
       "        5.62364523e-01,  5.86396579e-01, -1.04269612e+00,  2.64593538e-01,\n",
       "        1.16578305e+00,  9.32181944e-01,  6.52327519e-01, -1.28904789e+00,\n",
       "        5.34358303e-01, -1.19508034e+00, -1.15810361e+00,  8.28609956e-01,\n",
       "       -1.13673007e+00, -5.98771328e-01,  1.03690491e+00, -9.02613685e-01,\n",
       "        8.26790281e-01, -1.35769090e+00,  1.19296741e+00, -2.83497206e-01,\n",
       "       -3.25008677e-01,  1.46284215e+00,  4.11290992e-02, -5.89771578e-01,\n",
       "       -1.94791770e+00,  3.04315185e-01, -1.48928590e+00,  2.00417550e+00,\n",
       "       -7.17346679e-01,  1.15613488e+00, -2.72617196e-01,  7.61810336e-02,\n",
       "       -2.70725090e-01,  2.38738598e-01, -8.81464380e-01,  7.26517632e-01,\n",
       "        5.18291878e-01,  6.14137717e-01,  3.78819364e-01,  4.60453972e-01,\n",
       "       -7.64437753e-01, -3.33521173e-01, -7.83254538e-01,  5.52202629e-02,\n",
       "        3.35287208e-01, -9.41195070e-01,  6.25388115e-01,  8.61269240e-01,\n",
       "       -6.77513998e-01,  1.41527330e+00, -5.35879442e-01,  1.72067632e+00,\n",
       "       -7.56040406e-03, -5.35903988e-01,  2.06855541e+00,  4.27606482e-01,\n",
       "       -1.44271064e-01, -8.36498302e-01, -1.43864770e+00,  1.50218502e+00,\n",
       "       -1.77946474e+00, -2.41856530e-01,  6.41488646e-01,  9.99169379e-01,\n",
       "        1.29801603e+00, -2.49468618e-01, -2.39067767e-01,  7.99914461e-01,\n",
       "        1.25638283e+00,  7.48372953e-01, -1.14972099e+00,  2.49454539e-01,\n",
       "       -3.45039898e-01, -1.43896094e+00,  1.19445776e+00,  5.27354956e-01,\n",
       "        4.77995766e-01, -1.51841290e+00,  1.48105473e+00,  7.89378698e-02,\n",
       "        5.92973128e-01,  1.11266957e+00,  8.34005182e-01, -9.57724002e-01,\n",
       "       -1.14123773e+00, -1.16595035e-01, -1.02206847e-01,  3.70047834e-02,\n",
       "       -2.21133320e-01,  3.76241719e-01, -1.88372502e+00,  1.76141887e-01,\n",
       "       -1.12145236e+00,  1.72619879e-01,  3.87203387e-01,  1.20001184e+00,\n",
       "        8.07669525e-01, -1.79406811e+00,  1.18503268e-01,  1.02974864e-01,\n",
       "        7.62370819e-01,  9.31401523e-01, -4.82711808e-02, -2.02564190e-01,\n",
       "       -8.45663837e-01,  7.05841428e-01, -5.16533361e-01, -1.67957894e-01,\n",
       "       -5.84780870e-01, -2.57037091e-01, -2.13027064e-01,  1.28639387e-01,\n",
       "        1.42608519e+00, -1.43658788e+00, -1.68363819e+00, -2.09541976e-01,\n",
       "        1.83676481e-01,  1.32582476e+00,  3.71376826e-01,  1.19481570e+00,\n",
       "        3.04486162e+00, -8.24963145e-01, -1.61803095e+00,  3.36411904e-01,\n",
       "       -5.59165062e-01, -1.19283251e+00,  6.44449902e-01,  2.56675330e-01,\n",
       "        2.78056782e-01,  4.03485615e-01, -5.98029323e-01,  1.05772461e+00,\n",
       "       -4.27781364e-01, -5.42287243e-01,  5.34350561e-01, -4.94118061e-01,\n",
       "       -1.83641665e+00,  1.11581798e+00,  1.53649152e+00,  6.62430075e-01,\n",
       "        1.53529093e+00, -4.40908291e-01, -4.70608215e-01,  4.27736066e-01,\n",
       "        2.55806274e-01, -3.66283144e-01, -2.77844183e-01, -8.90884344e-01,\n",
       "        9.78443085e-01, -1.04004744e+00, -7.43983761e-01, -3.29601963e-01,\n",
       "        3.46819065e-01,  1.05953291e+00, -7.41626253e-02, -2.01659441e-01,\n",
       "       -6.39510838e-01,  1.60693647e-01, -1.71061934e+00,  1.19800685e+00,\n",
       "       -1.28598869e+00, -9.45456434e-01, -4.73556761e-01,  1.20004161e+00,\n",
       "       -1.12193507e+00,  2.23053280e-01,  9.07603401e-01,  2.89748352e-01,\n",
       "       -1.76555345e+00,  6.90233739e-01,  3.34191640e-01,  1.60100690e+00,\n",
       "       -2.09105971e+00, -7.50841285e-01, -1.27476668e-01, -5.84239117e-01,\n",
       "       -7.24981378e-01, -1.12906690e+00,  1.05715687e+00,  7.20091197e-01,\n",
       "        5.04076406e-01, -1.04892229e+00, -1.02754879e+00,  5.47591899e-01,\n",
       "        8.40593016e-01,  3.71605523e-01,  5.67694763e-01, -1.18986265e+00,\n",
       "        5.68035401e-01, -1.44854147e+00, -1.78437902e+00,  4.40465955e-01,\n",
       "        9.42032483e-01, -1.75897895e-01, -8.02295588e-01,  6.97079383e-02,\n",
       "       -7.68609235e-01, -9.23355212e-01, -6.06625776e-01,  1.23596896e+00,\n",
       "        4.98241315e-01, -1.89768391e+00, -1.22680032e+00,  9.05401944e-01,\n",
       "       -1.19582125e+00, -2.03420841e+00,  1.20026487e+00,  5.02020571e-01,\n",
       "        9.51015263e-01, -1.12072774e+00,  7.69550885e-01,  1.38906874e+00,\n",
       "       -8.14158145e-01, -2.89707180e-01, -6.76814057e-01,  3.34409652e-01,\n",
       "       -4.81740542e-01, -2.66009390e-01,  4.18648653e-01, -7.80496640e-01,\n",
       "       -1.51344993e+00, -3.00941494e-01, -5.01951709e-01, -1.04300178e+00,\n",
       "       -1.11708158e+00, -1.72731906e-01, -7.46716206e-02, -1.46843412e+00,\n",
       "        9.73026890e-01, -1.69002837e-01, -1.40567660e-01, -2.43225191e+00,\n",
       "       -3.37212514e-01,  1.36219363e+00,  1.86836094e-01,  4.86973432e-01,\n",
       "       -1.94519508e-01,  8.77717412e-01, -2.33776416e-01,  1.40174353e+00,\n",
       "        2.28946241e+00, -1.90912879e+00,  4.25135891e-02, -5.93071543e-02,\n",
       "        4.57874260e-01,  6.42794127e-01, -3.12772284e-01,  6.16439339e-01,\n",
       "       -1.24572311e+00,  2.47453553e-01,  6.73973756e-01, -1.48727815e+00,\n",
       "       -1.35941049e-01,  9.31003081e-01, -1.68464759e+00, -5.94086877e-01,\n",
       "        3.85332888e-02, -9.51933484e-01,  1.74877602e-01, -1.55293851e+00,\n",
       "        4.14612779e-01, -1.17815055e+00, -7.97466994e-01, -3.22203167e-01,\n",
       "       -6.95419742e-01, -1.61035005e-01,  1.77372981e-01,  1.20828394e+00,\n",
       "        6.39545433e-01,  1.30205810e+00,  9.60124618e-02, -1.29090619e+00,\n",
       "       -8.17165110e-01,  1.02112777e+00, -1.24065941e-01, -1.55235690e+00,\n",
       "       -9.51249316e-01, -1.68272371e+00, -8.02835206e-01,  1.56196958e+00,\n",
       "        9.70831453e-01, -1.24267160e-01,  1.04194856e-01, -8.88103803e-01,\n",
       "        6.60884352e-01, -8.52722803e-01,  1.43036305e+00, -4.74561501e-01,\n",
       "       -1.75811265e+00,  5.57194696e-02, -6.82221188e-01,  9.61136547e-02,\n",
       "        6.73510292e-01, -5.32626750e-01, -7.05393258e-01,  9.44775966e-02,\n",
       "        2.29748888e-01, -1.10543430e+00,  1.06769535e+00, -9.00082274e-01,\n",
       "       -7.87238331e-01,  2.18615062e-01, -9.03516904e-01,  1.11990413e+00,\n",
       "        1.80520810e-01,  5.76944733e-02, -1.97259994e+00, -1.63888984e+00,\n",
       "       -6.41080928e-01, -2.45001534e+00, -1.39582160e+00, -1.11031553e+00,\n",
       "        1.05547772e+00,  1.37523445e+00, -5.90425161e-01,  2.58412721e-01,\n",
       "       -9.30931259e-01, -4.55907788e-01,  6.41157163e-01,  1.05371950e+00,\n",
       "       -1.78993138e+00,  9.77467412e-01,  1.12444773e+00, -4.96505215e-01,\n",
       "        2.57584588e-01, -3.84413033e-01,  4.73888488e-01,  1.30503576e+00,\n",
       "       -5.45943620e-01,  5.92077736e-01, -6.55584080e-01, -8.93938360e-01,\n",
       "       -5.65890947e-01, -4.26911692e-01,  2.14461564e-01,  1.93447255e+00,\n",
       "       -1.49945768e+00, -5.43410504e-01, -4.83174764e-01,  4.56666987e-01,\n",
       "        1.63581322e+00,  3.17153606e-01,  1.13794689e+00, -1.01453805e+00,\n",
       "       -4.15156647e-01, -1.80793490e+00,  6.91263838e-01, -2.76169581e+00,\n",
       "        1.18711344e+00,  7.29180839e-02, -5.57335443e-01, -1.26862909e-01,\n",
       "        2.39005747e+00, -1.28657785e+00, -9.20467869e-01, -5.02168076e-01,\n",
       "       -2.06549553e+00, -1.92663163e-01, -1.98008016e-01, -1.81724297e+00,\n",
       "        8.75354762e-01, -1.78127307e+00, -7.61617534e-01,  1.07567628e-01,\n",
       "        9.58757868e-01, -2.40779947e+00,  4.07418981e-01,  5.31426562e-03,\n",
       "       -8.54907387e-01,  5.02736747e-01,  2.23224897e-01, -2.01200201e+00,\n",
       "       -9.08452796e-01,  2.65383027e+00,  1.14618081e+00, -8.84872092e-01,\n",
       "       -2.82884103e-01,  1.18632872e+00,  7.63420438e-01,  1.02477487e+00,\n",
       "        5.31420338e-01,  1.69404269e+00, -1.63973319e+00,  1.44521257e+00,\n",
       "       -9.02228741e-01, -4.45813509e-01,  1.35462583e+00,  2.55146174e+00,\n",
       "        3.66947362e-01, -4.07747771e-02,  7.45618683e-02,  1.07655331e+00,\n",
       "        4.74050897e-01,  4.55833978e-01, -9.52088598e-01,  1.71570293e+00,\n",
       "       -1.12507577e+00, -8.11240723e-01, -1.26735481e+00, -1.58092655e+00,\n",
       "       -1.26382835e+00, -1.50071728e-01,  5.66374977e-01, -1.31401920e-01,\n",
       "       -8.12795372e-01, -5.23602811e-01,  1.17786312e+00, -2.29873762e-01,\n",
       "        3.43998574e-01, -3.68680560e-01, -1.47640081e+00,  4.96631685e-01,\n",
       "       -3.86995691e-01,  2.60844089e-01,  5.78580417e-01,  2.02368917e-01,\n",
       "       -5.58983760e-01, -6.69755241e-01, -2.82541264e-01, -8.56449876e-01,\n",
       "        1.37140279e+00,  3.24896513e-01,  1.65172381e-03,  3.21973973e-01,\n",
       "        4.45346971e-01,  1.55643221e+00,  8.29626622e-01,  6.66567321e-01,\n",
       "        1.54494076e+00, -5.46548413e-01,  1.68796946e+00,  6.60272062e-02,\n",
       "       -8.94282104e-02, -9.51977420e-01,  2.41617484e-01, -2.18841656e+00,\n",
       "       -3.78224973e-01, -3.98983665e-01, -2.69286571e-01,  1.39342921e-01,\n",
       "        3.01044590e-01, -1.38494594e+00,  4.93941665e-01, -1.54824898e-01,\n",
       "       -1.74538764e-01,  4.76035494e-01, -2.24724955e+00, -1.00882027e+00,\n",
       "        6.24806618e-01, -1.03322328e+00, -1.89961497e+00,  9.49757286e-01,\n",
       "       -3.90458665e-02,  8.84335501e-01,  9.68530199e-01,  3.29630027e-02,\n",
       "        2.52134101e+00, -3.70487709e-02,  1.41011105e+00,  4.47677135e-01,\n",
       "       -8.56954391e-01,  8.92732266e-01, -2.48537124e-01, -5.61996005e-01,\n",
       "        1.00509985e+00,  5.15496963e-01, -2.47198150e+00,  3.30990865e-01,\n",
       "       -1.37682564e+00,  2.00799724e+00, -1.11651793e-01,  1.17163856e+00,\n",
       "        7.20426609e-01,  9.53641264e-01, -1.29837413e+00,  1.98034117e-01,\n",
       "        6.18805587e-01,  3.15099571e-01, -1.49529983e+00,  7.30151320e-01,\n",
       "        1.70261815e+00,  1.30710857e-01, -1.58504334e+00,  6.13890265e-01,\n",
       "       -8.57716410e-01, -4.83061001e-01,  1.27259845e+00, -3.37910165e-01,\n",
       "        1.64136695e-01,  1.97066838e-01,  1.24565582e+00, -1.79316027e-01,\n",
       "        9.14986536e-01,  4.05929306e-01, -1.06032690e-01, -1.36983136e+00,\n",
       "       -1.34416244e-01, -2.46188898e-01, -1.07445651e+00, -6.75005121e-01,\n",
       "        4.93643295e-01,  7.80070883e-02, -3.03959914e-01, -6.95044264e-01,\n",
       "       -1.24533425e-01, -1.99802427e+00, -7.97751369e-01,  9.35311669e-01,\n",
       "       -1.47990959e+00,  4.63517110e-02, -8.12941579e-01, -1.47194164e+00,\n",
       "        8.57006529e-01,  8.45720324e-01,  1.94095514e+00,  3.52828352e-01,\n",
       "       -2.20596150e+00,  3.61040500e-01,  1.23026713e+00,  1.63444159e-01,\n",
       "        2.69134285e+00, -5.50918975e-01, -4.05365017e-01,  2.46517047e-01,\n",
       "       -8.69006444e-01,  1.33203052e+00, -4.24663373e-01, -2.93360877e-01,\n",
       "        1.57634625e+00,  3.34507709e+00, -1.54247848e+00,  9.87054891e-01,\n",
       "        1.63467916e-01,  6.75175805e-01,  1.15075231e+00,  2.07423139e+00,\n",
       "       -2.70049631e+00, -9.50972385e-02,  1.08828250e+00, -7.70120301e-01,\n",
       "       -1.04525837e+00, -1.15001260e+00,  1.09827629e+00,  7.29853975e-01,\n",
       "       -4.80463313e-01,  6.94464950e-01,  1.99111189e+00, -1.27617625e+00,\n",
       "        1.21694199e+00, -8.90480745e-02, -1.76607539e+00, -6.04798556e-01,\n",
       "       -1.73171682e-01, -1.40907152e+00, -5.39849613e-01,  4.49417544e-01,\n",
       "        1.06932738e+00,  5.15855650e-01, -4.46799099e-01, -2.00019152e+00,\n",
       "        8.53625846e-01, -1.81621922e+00,  4.91985245e-01,  5.73566885e-01,\n",
       "        6.89148949e-02,  1.93088303e+00, -6.66211667e-01, -7.52041996e-01,\n",
       "       -1.68713972e+00,  1.72177616e+00, -4.41307630e-01, -3.44217198e-01,\n",
       "        5.30468320e-01, -6.92281755e-01, -1.40529507e+00,  1.39859387e-01,\n",
       "        1.90775661e-02, -2.65202911e+00, -8.10624978e-02,  2.08871786e+00,\n",
       "       -4.50786964e-01,  1.36869063e+00, -5.50879008e-01,  1.18198798e+00,\n",
       "       -9.66986805e-01, -6.02823752e-02, -4.15069187e-01,  1.72182240e+00,\n",
       "       -9.06628044e-01,  4.74256652e-01, -1.15618538e-01, -5.89154228e-01,\n",
       "       -8.23423560e-01,  8.27964911e-02, -1.35766112e+00,  3.39657811e-01,\n",
       "       -3.41749743e-01,  6.72021027e-01, -1.50179562e+00,  1.76151090e-01,\n",
       "       -4.66228446e-01,  1.24288003e+00, -1.01504575e+00,  5.61891617e-01,\n",
       "       -3.72681685e-01,  3.17088389e-01, -4.07602075e-01, -8.82413814e-01,\n",
       "        1.18659186e+00,  9.45409146e-01,  1.30541339e+00,  3.84275475e-01,\n",
       "        1.45239765e+00,  4.31900716e-01,  6.49371352e-01,  7.03514072e-01,\n",
       "       -6.74727782e-02, -1.22498078e+00,  2.70668594e-01, -1.05167693e+00,\n",
       "       -1.21504344e+00,  4.20064450e-01, -4.91096892e-01, -1.43446323e+00,\n",
       "       -4.33874463e-01,  3.89935745e-01, -4.05779075e-01, -6.45201454e-01,\n",
       "       -9.51306393e-01, -3.96875961e-01, -6.23710146e-01,  5.43403112e-01,\n",
       "       -5.46648369e-01, -3.26303477e+00, -9.20518333e-01, -6.65100871e-01,\n",
       "        1.02730948e-01, -3.68612605e-01, -6.25492515e-01,  8.52338102e-01,\n",
       "        6.50918637e-01, -1.98349929e-01,  1.14020379e+00, -1.31600558e+00,\n",
       "       -3.10426416e-03,  8.12305228e-01, -2.25373848e+00,  7.78853444e-01,\n",
       "       -1.33888319e+00,  9.30633807e-01, -5.54458779e-01,  3.48530773e-01,\n",
       "       -1.29404238e+00, -1.43666980e-01, -9.52816241e-01, -4.90179791e-01,\n",
       "        9.71475704e-02, -4.22536871e-01, -1.67868603e+00, -1.60908322e+00,\n",
       "       -5.13758861e-01,  1.16834441e+00, -1.72323611e-01, -5.85830992e-02,\n",
       "        3.28733607e-01, -7.37221019e-01,  1.72646829e+00, -1.01160588e+00,\n",
       "       -4.86207026e-02, -8.64017410e-01,  4.24322205e-01, -1.67855259e+00,\n",
       "       -5.11324299e-01, -1.26856069e+00,  4.02152811e-01, -5.93534480e-01,\n",
       "        5.33492461e-01, -1.50352998e-01, -6.62348943e-01,  4.89743804e-01,\n",
       "        8.40782375e-01, -1.06901147e+00,  8.71830817e-01, -1.19368679e+00,\n",
       "        5.05784548e-01,  7.26280977e-01,  1.54337866e+00, -1.47560895e-02,\n",
       "        1.08196981e+00,  8.20799583e-01,  1.23700005e+00, -4.09717996e-01,\n",
       "        1.12853331e+00,  8.12053910e-01, -3.99702216e-01, -1.73400301e-01,\n",
       "        5.31348358e-01,  1.87603583e-01,  2.01323003e+00,  3.78581233e-01,\n",
       "        2.99446164e-01,  8.40150457e-01, -2.32581717e+00,  2.30521990e-01,\n",
       "       -1.67871698e-01, -2.07993944e+00, -1.19986288e+00, -9.67942733e-01,\n",
       "       -7.08252641e-03, -1.09977429e+00, -1.33533829e+00, -1.00220859e-04,\n",
       "        1.11635385e+00, -1.56157868e+00, -4.61357109e-02, -2.69583843e-01,\n",
       "       -2.93823762e+00, -2.06876222e-01,  6.04475577e-01, -3.99205180e-01,\n",
       "       -3.61676487e-01, -2.72425622e-02,  1.88873683e-01,  4.06723786e-01,\n",
       "        7.17417730e-01,  8.39204860e-01, -2.60075197e-01, -5.96499240e-01,\n",
       "        7.66559356e-01,  2.99935694e-01,  4.11753672e-01,  2.27850890e-01,\n",
       "        5.97987826e-01,  7.77156710e-01,  2.91116436e-01, -5.92749378e-01,\n",
       "       -6.22072611e-01,  1.88820334e-01, -3.33885199e-01,  1.06039567e+00,\n",
       "       -1.95021668e-01, -4.26043997e-01,  1.58771137e+00, -2.34495463e-01,\n",
       "        8.68319181e-01, -1.72934659e+00,  3.70979089e-01, -2.64560593e-02,\n",
       "        7.66642733e-01,  1.75008177e+00, -1.09939930e-02, -8.77751928e-01,\n",
       "       -3.01705579e-01, -2.41184030e+00,  2.79455747e+00,  3.03941644e-01,\n",
       "       -2.94070750e-02,  1.36307063e+00,  2.95583499e-01, -3.70038305e-01,\n",
       "        1.10617527e+00, -6.83542300e-01, -6.19987256e-01, -2.40495209e+00,\n",
       "        1.23121654e+00,  9.13528634e-01,  8.07294255e-01, -5.53615688e-01,\n",
       "        5.56326121e-01,  3.57799137e-01, -1.41592536e-01, -7.95734625e-01,\n",
       "       -4.88645038e-01,  1.74953898e+00,  7.60711712e-02,  1.78067946e+00,\n",
       "       -9.25432815e-01,  7.61028297e-01, -5.22254333e-01, -6.11903854e-01,\n",
       "        4.16781871e-01, -8.24553249e-01,  1.28429742e+00, -1.95911415e-01,\n",
       "        8.26220562e-01,  7.07013353e-03, -2.13220738e+00,  2.66110989e-01,\n",
       "        2.56369956e-01, -7.28879498e-01, -3.99841168e-01,  3.24527498e-01,\n",
       "       -3.51349060e-01,  9.14644110e-02, -5.63261626e-01, -4.89765452e-01,\n",
       "        3.08241812e-01,  1.92782245e-01,  1.41323734e-01,  6.02954895e-01,\n",
       "       -1.48770459e+00,  7.38618920e-01,  8.22842278e-01, -3.39216947e-01,\n",
       "        9.95740006e-01, -1.40725467e-01,  8.81654022e-02, -2.17193990e+00,\n",
       "       -8.36938593e-01, -1.08533506e+00,  2.04330701e+00, -7.13851266e-01,\n",
       "        1.01210050e+00, -1.89790826e+00,  6.38957783e-01,  1.43063375e-01,\n",
       "       -1.11633259e+00, -1.86185168e+00, -1.82729122e-01,  4.33887958e-01,\n",
       "       -1.02304808e+00,  1.26017911e+00, -2.13438660e-01,  3.87843865e-01,\n",
       "       -4.93274681e-01,  4.12895292e-01, -1.10401613e+00, -1.38788222e-01,\n",
       "        7.29064116e-01,  7.64877271e-01,  5.47362074e-01,  3.38163951e+00,\n",
       "       -7.63326906e-01,  1.53408168e-01, -7.77200551e-01,  2.19167795e-01,\n",
       "        6.90588540e-01,  1.63652408e+00,  3.34974362e-01,  1.79900914e-02,\n",
       "        2.77450723e+00,  1.01179538e+00, -2.98630834e-01,  1.16349662e+00,\n",
       "       -3.64731890e-01,  1.25176991e+00,  3.06703825e-01,  1.91593683e+00,\n",
       "        1.48340394e+00, -9.03488188e-01, -7.64133030e-01,  5.68221454e-01,\n",
       "       -1.93085135e+00,  1.07409213e-01, -1.35354477e-01,  5.45146029e-02,\n",
       "       -5.34772699e-01, -8.93818386e-01,  2.21037470e-01,  9.14360375e-01,\n",
       "        7.41983271e-02,  7.94485006e-02, -1.24478863e+00,  1.32023187e+00,\n",
       "        6.68637974e-02, -8.54726484e-01, -1.94438135e+00, -4.72624887e-02,\n",
       "       -2.95486547e-01, -9.24426749e-01,  3.79875882e-01, -8.21164984e-02,\n",
       "       -4.08353650e-01,  2.57844464e-01,  1.01464795e-01,  3.53154786e-01,\n",
       "       -1.36250404e-01,  7.21659466e-01, -1.27048572e+00, -1.70039876e+00,\n",
       "        1.06473115e+00,  1.22949155e-01,  1.45774771e+00, -2.17512635e+00,\n",
       "        1.65452239e+00, -1.05452175e+00, -7.10098634e-01, -3.21284056e-01,\n",
       "        1.58590768e+00,  5.78320786e-01, -1.85387236e+00, -1.41352372e+00,\n",
       "       -6.79664657e-01, -9.99095607e-02,  1.11193005e+00,  1.41394315e+00,\n",
       "        6.86541966e-01, -8.69652225e-01,  3.06914896e-01,  4.27690672e-01,\n",
       "       -3.64259188e-01, -6.32555282e-01,  5.04369722e-01, -8.20705452e-01,\n",
       "        5.57706249e-01,  1.84932568e+00,  3.94880593e-01, -3.91191719e-01,\n",
       "       -1.95555839e+00,  7.04571390e-01,  8.53451942e-01, -5.30869500e-01,\n",
       "       -3.20099642e-01, -1.21649432e+00, -1.17398792e+00, -2.88528559e+00,\n",
       "       -7.84977423e-02, -8.64700953e-01,  1.51731872e-01, -1.81700815e+00,\n",
       "        1.70383468e+00,  4.67593232e-01,  8.17757700e-01, -7.01401960e-01,\n",
       "        1.11639418e+00, -2.16344431e-01, -2.12063779e-01, -6.11125400e-01,\n",
       "        1.05655659e-01, -1.04316708e+00, -6.02529335e-01,  3.97684078e-01,\n",
       "       -1.62608239e+00, -1.00130176e-01, -3.24552063e-01,  4.71621712e-01,\n",
       "       -1.30428598e+00, -1.90545372e+00, -4.29568099e-01,  1.06898981e-01,\n",
       "        2.00393415e+00, -3.13693755e+00, -8.58663879e-01, -4.29359793e-01,\n",
       "       -7.36002872e-01,  6.37896180e-01,  3.80365090e-01, -6.30082152e-01])"
      ]
     },
     "execution_count": 22,
     "metadata": {},
     "output_type": "execute_result"
    }
   ],
   "source": [
    "data"
   ]
  },
  {
   "cell_type": "code",
   "execution_count": 23,
   "id": "1e32bfbd-8ed7-4de9-80ed-263f6df996c4",
   "metadata": {},
   "outputs": [],
   "source": [
    "data;"
   ]
  },
  {
   "cell_type": "code",
   "execution_count": 24,
   "id": "c8b29334-4894-46e0-8a22-51cccc9d96ce",
   "metadata": {},
   "outputs": [
    {
     "data": {
      "text/plain": [
       "<Axes: ylabel='Density'>"
      ]
     },
     "execution_count": 24,
     "metadata": {},
     "output_type": "execute_result"
    },
    {
     "data": {
      "image/png": "[encoded data removed]",
      "text/plain": [
       "<Figure size 640x480 with 1 Axes>"
      ]
     },
     "metadata": {},
     "output_type": "display_data"
    }
   ],
   "source": [
    "sns.kdeplot(data)"
   ]
  },
  {
   "cell_type": "markdown",
   "id": "3aa9b888-9cd9-4717-bb01-4cfc95b14660",
   "metadata": {},
   "source": [
    "### Binomial Distribution"
   ]
  },
  {
   "cell_type": "code",
   "execution_count": 25,
   "id": "22944274-5334-4f15-9360-43bec75ac7da",
   "metadata": {},
   "outputs": [],
   "source": [
    "#cal prob of getting 7 heads in 10 flips "
   ]
  },
  {
   "cell_type": "code",
   "execution_count": 26,
   "id": "0eb7d20a-6054-4eb0-8c8d-0782101febf1",
   "metadata": {},
   "outputs": [],
   "source": [
    "p=0.5  # prob of heads\n",
    "n=10   # no of experiments"
   ]
  },
  {
   "cell_type": "code",
   "execution_count": 27,
   "id": "880445d4-2a76-4dd7-b222-c54e54bdf69b",
   "metadata": {},
   "outputs": [
    {
     "name": "stdout",
     "output_type": "stream",
     "text": [
      "0.8571428571428571\n"
     ]
    }
   ],
   "source": [
    "prob=np.random.binomial(n,p)\n",
    "print(prob/7)"
   ]
  },
  {
   "cell_type": "code",
   "execution_count": null,
   "id": "04f09b99-2c61-4660-add9-39b8d1b2af60",
   "metadata": {},
   "outputs": [],
   "source": []
  },
  {
   "cell_type": "markdown",
   "id": "7176cd3b-6878-466f-8898-f39963fdc4b8",
   "metadata": {},
   "source": [
    "### Poission Probability Distribution"
   ]
  },
  {
   "cell_type": "code",
   "execution_count": 28,
   "id": "b8279981-e312-45df-a3f3-2eca8f6d77f1",
   "metadata": {},
   "outputs": [],
   "source": [
    "#cal prob of getting 5 costomers in store in one hour given that avg no of customers in one hour"
   ]
  },
  {
   "cell_type": "code",
   "execution_count": 29,
   "id": "e33e61f9-eb7f-40ba-97d7-c8a1022dcd0d",
   "metadata": {},
   "outputs": [],
   "source": [
    "lamb=5 # mean no of customers in one hour"
   ]
  },
  {
   "cell_type": "code",
   "execution_count": 30,
   "id": "f8b9a998-40b4-4bc1-b5d7-ea50899bffe7",
   "metadata": {},
   "outputs": [],
   "source": [
    "prob=np.random.poisson(lamb)"
   ]
  },
  {
   "cell_type": "code",
   "execution_count": 31,
   "id": "db7b2b35-7394-49d5-bd9d-e60f96f54b94",
   "metadata": {},
   "outputs": [
    {
     "data": {
      "text/plain": [
       "0.5"
      ]
     },
     "execution_count": 31,
     "metadata": {},
     "output_type": "execute_result"
    }
   ],
   "source": [
    "prob/10"
   ]
  },
  {
   "cell_type": "markdown",
   "id": "6b3b21f2-9fca-44c9-b2a5-eb81394c0e5f",
   "metadata": {},
   "source": [
    "### Bayes Theorem and Classification"
   ]
  },
  {
   "cell_type": "code",
   "execution_count": 32,
   "id": "87cbcbed-21a1-4fdd-9ece-cd8035d383c4",
   "metadata": {},
   "outputs": [
    {
     "data": {
      "text/html": [
       "<div>\n",
       "<style scoped>\n",
       "    .dataframe tbody tr th:only-of-type {\n",
       "        vertical-align: middle;\n",
       "    }\n",
       "\n",
       "    .dataframe tbody tr th {\n",
       "        vertical-align: top;\n",
       "    }\n",
       "\n",
       "    .dataframe thead th {\n",
       "        text-align: right;\n",
       "    }\n",
       "</style>\n",
       "<table border=\"1\" class=\"dataframe\">\n",
       "  <thead>\n",
       "    <tr style=\"text-align: right;\">\n",
       "      <th></th>\n",
       "      <th>sweetness</th>\n",
       "      <th>crunchiness</th>\n",
       "      <th>ingredients</th>\n",
       "      <th>class</th>\n",
       "    </tr>\n",
       "  </thead>\n",
       "  <tbody>\n",
       "    <tr>\n",
       "      <th>0</th>\n",
       "      <td>1</td>\n",
       "      <td>1</td>\n",
       "      <td>cheese</td>\n",
       "      <td>protein</td>\n",
       "    </tr>\n",
       "    <tr>\n",
       "      <th>1</th>\n",
       "      <td>3</td>\n",
       "      <td>1</td>\n",
       "      <td>fish</td>\n",
       "      <td>protein</td>\n",
       "    </tr>\n",
       "    <tr>\n",
       "      <th>2</th>\n",
       "      <td>2</td>\n",
       "      <td>2</td>\n",
       "      <td>shrimp</td>\n",
       "      <td>protein</td>\n",
       "    </tr>\n",
       "    <tr>\n",
       "      <th>3</th>\n",
       "      <td>1</td>\n",
       "      <td>4</td>\n",
       "      <td>bacon</td>\n",
       "      <td>protein</td>\n",
       "    </tr>\n",
       "    <tr>\n",
       "      <th>4</th>\n",
       "      <td>3</td>\n",
       "      <td>5</td>\n",
       "      <td>nuts</td>\n",
       "      <td>protein</td>\n",
       "    </tr>\n",
       "    <tr>\n",
       "      <th>5</th>\n",
       "      <td>1</td>\n",
       "      <td>9</td>\n",
       "      <td>lettuce</td>\n",
       "      <td>vegetable</td>\n",
       "    </tr>\n",
       "    <tr>\n",
       "      <th>6</th>\n",
       "      <td>2</td>\n",
       "      <td>8</td>\n",
       "      <td>cucumber</td>\n",
       "      <td>vegetable</td>\n",
       "    </tr>\n",
       "    <tr>\n",
       "      <th>7</th>\n",
       "      <td>3</td>\n",
       "      <td>7</td>\n",
       "      <td>green bean</td>\n",
       "      <td>vegetable</td>\n",
       "    </tr>\n",
       "    <tr>\n",
       "      <th>8</th>\n",
       "      <td>5</td>\n",
       "      <td>10</td>\n",
       "      <td>carrot</td>\n",
       "      <td>vegetable</td>\n",
       "    </tr>\n",
       "    <tr>\n",
       "      <th>9</th>\n",
       "      <td>3</td>\n",
       "      <td>10</td>\n",
       "      <td>celery</td>\n",
       "      <td>vegetable</td>\n",
       "    </tr>\n",
       "    <tr>\n",
       "      <th>10</th>\n",
       "      <td>10</td>\n",
       "      <td>9</td>\n",
       "      <td>apple</td>\n",
       "      <td>fruit</td>\n",
       "    </tr>\n",
       "    <tr>\n",
       "      <th>11</th>\n",
       "      <td>10</td>\n",
       "      <td>7</td>\n",
       "      <td>pear</td>\n",
       "      <td>fruit</td>\n",
       "    </tr>\n",
       "    <tr>\n",
       "      <th>12</th>\n",
       "      <td>9</td>\n",
       "      <td>5</td>\n",
       "      <td>grape</td>\n",
       "      <td>fruit</td>\n",
       "    </tr>\n",
       "    <tr>\n",
       "      <th>13</th>\n",
       "      <td>9</td>\n",
       "      <td>2</td>\n",
       "      <td>orange</td>\n",
       "      <td>fruit</td>\n",
       "    </tr>\n",
       "    <tr>\n",
       "      <th>14</th>\n",
       "      <td>10</td>\n",
       "      <td>2</td>\n",
       "      <td>banana</td>\n",
       "      <td>fruit</td>\n",
       "    </tr>\n",
       "  </tbody>\n",
       "</table>\n",
       "</div>"
      ],
      "text/plain": [
       "    sweetness  crunchiness ingredients      class\n",
       "0           1            1      cheese    protein\n",
       "1           3            1        fish    protein\n",
       "2           2            2      shrimp    protein\n",
       "3           1            4       bacon    protein\n",
       "4           3            5        nuts    protein\n",
       "5           1            9     lettuce  vegetable\n",
       "6           2            8    cucumber  vegetable\n",
       "7           3            7  green bean  vegetable\n",
       "8           5           10      carrot  vegetable\n",
       "9           3           10      celery  vegetable\n",
       "10         10            9       apple      fruit\n",
       "11         10            7        pear      fruit\n",
       "12          9            5       grape      fruit\n",
       "13          9            2      orange      fruit\n",
       "14         10            2      banana      fruit"
      ]
     },
     "execution_count": 32,
     "metadata": {},
     "output_type": "execute_result"
    }
   ],
   "source": [
    "df = pd.read_csv(\"ingredients.csv\")\n",
    "df"
   ]
  },
  {
   "cell_type": "code",
   "execution_count": 33,
   "id": "20642d99-146d-49c3-b16d-8b474326cd8c",
   "metadata": {},
   "outputs": [],
   "source": [
    "x = df[['sweetness','crunchiness']]\n",
    "y = df['class']"
   ]
  },
  {
   "cell_type": "code",
   "execution_count": 34,
   "id": "cabcbc18-f5dd-4b29-8f97-bc4ec1638234",
   "metadata": {},
   "outputs": [],
   "source": [
    "#import the class\n",
    "from sklearn.naive_bayes import GaussianNB\n",
    "import warnings\n",
    "warnings.filterwarnings(\"ignore\") "
   ]
  },
  {
   "cell_type": "code",
   "execution_count": 35,
   "id": "99ac0210-06bb-41f6-88b9-76a71503f3d4",
   "metadata": {},
   "outputs": [],
   "source": [
    "nb = GaussianNB()"
   ]
  },
  {
   "cell_type": "code",
   "execution_count": 36,
   "id": "59f1c875-24ce-482f-ace5-38376d2e8efc",
   "metadata": {},
   "outputs": [
    {
     "data": {
      "text/html": [
       "<style>#sk-container-id-1 {\n",
       "  /* Definition of color scheme common for light and dark mode */\n",
       "  --sklearn-color-text: black;\n",
       "  --sklearn-color-line: gray;\n",
       "  /* Definition of color scheme for unfitted estimators */\n",
       "  --sklearn-color-unfitted-level-0: #fff5e6;\n",
       "  --sklearn-color-unfitted-level-1: #f6e4d2;\n",
       "  --sklearn-color-unfitted-level-2: #ffe0b3;\n",
       "  --sklearn-color-unfitted-level-3: chocolate;\n",
       "  /* Definition of color scheme for fitted estimators */\n",
       "  --sklearn-color-fitted-level-0: #f0f8ff;\n",
       "  --sklearn-color-fitted-level-1: #d4ebff;\n",
       "  --sklearn-color-fitted-level-2: #b3dbfd;\n",
       "  --sklearn-color-fitted-level-3: cornflowerblue;\n",
       "\n",
       "  /* Specific color for light theme */\n",
       "  --sklearn-color-text-on-default-background: var(--sg-text-color, var(--theme-code-foreground, var(--jp-content-font-color1, black)));\n",
       "  --sklearn-color-background: var(--sg-background-color, var(--theme-background, var(--jp-layout-color0, white)));\n",
       "  --sklearn-color-border-box: var(--sg-text-color, var(--theme-code-foreground, var(--jp-content-font-color1, black)));\n",
       "  --sklearn-color-icon: #696969;\n",
       "\n",
       "  @media (prefers-color-scheme: dark) {\n",
       "    /* Redefinition of color scheme for dark theme */\n",
       "    --sklearn-color-text-on-default-background: var(--sg-text-color, var(--theme-code-foreground, var(--jp-content-font-color1, white)));\n",
       "    --sklearn-color-background: var(--sg-background-color, var(--theme-background, var(--jp-layout-color0, #111)));\n",
       "    --sklearn-color-border-box: var(--sg-text-color, var(--theme-code-foreground, var(--jp-content-font-color1, white)));\n",
       "    --sklearn-color-icon: #878787;\n",
       "  }\n",
       "}\n",
       "\n",
       "#sk-container-id-1 {\n",
       "  color: var(--sklearn-color-text);\n",
       "}\n",
       "\n",
       "#sk-container-id-1 pre {\n",
       "  padding: 0;\n",
       "}\n",
       "\n",
       "#sk-container-id-1 input.sk-hidden--visually {\n",
       "  border: 0;\n",
       "  clip: rect(1px 1px 1px 1px);\n",
       "  clip: rect(1px, 1px, 1px, 1px);\n",
       "  height: 1px;\n",
       "  margin: -1px;\n",
       "  overflow: hidden;\n",
       "  padding: 0;\n",
       "  position: absolute;\n",
       "  width: 1px;\n",
       "}\n",
       "\n",
       "#sk-container-id-1 div.sk-dashed-wrapped {\n",
       "  border: 1px dashed var(--sklearn-color-line);\n",
       "  margin: 0 0.4em 0.5em 0.4em;\n",
       "  box-sizing: border-box;\n",
       "  padding-bottom: 0.4em;\n",
       "  background-color: var(--sklearn-color-background);\n",
       "}\n",
       "\n",
       "#sk-container-id-1 div.sk-container {\n",
       "  /* jupyter's `normalize.less` sets `[hidden] { display: none; }`\n",
       "     but bootstrap.min.css set `[hidden] { display: none !important; }`\n",
       "     so we also need the `!important` here to be able to override the\n",
       "     default hidden behavior on the sphinx rendered scikit-learn.org.\n",
       "     See: https://github.com/scikit-learn/scikit-learn/issues/21755 */\n",
       "  display: inline-block !important;\n",
       "  position: relative;\n",
       "}\n",
       "\n",
       "#sk-container-id-1 div.sk-text-repr-fallback {\n",
       "  display: none;\n",
       "}\n",
       "\n",
       "div.sk-parallel-item,\n",
       "div.sk-serial,\n",
       "div.sk-item {\n",
       "  /* draw centered vertical line to link estimators */\n",
       "  background-image: linear-gradient(var(--sklearn-color-text-on-default-background), var(--sklearn-color-text-on-default-background));\n",
       "  background-size: 2px 100%;\n",
       "  background-repeat: no-repeat;\n",
       "  background-position: center center;\n",
       "}\n",
       "\n",
       "/* Parallel-specific style estimator block */\n",
       "\n",
       "#sk-container-id-1 div.sk-parallel-item::after {\n",
       "  content: \"\";\n",
       "  width: 100%;\n",
       "  border-bottom: 2px solid var(--sklearn-color-text-on-default-background);\n",
       "  flex-grow: 1;\n",
       "}\n",
       "\n",
       "#sk-container-id-1 div.sk-parallel {\n",
       "  display: flex;\n",
       "  align-items: stretch;\n",
       "  justify-content: center;\n",
       "  background-color: var(--sklearn-color-background);\n",
       "  position: relative;\n",
       "}\n",
       "\n",
       "#sk-container-id-1 div.sk-parallel-item {\n",
       "  display: flex;\n",
       "  flex-direction: column;\n",
       "}\n",
       "\n",
       "#sk-container-id-1 div.sk-parallel-item:first-child::after {\n",
       "  align-self: flex-end;\n",
       "  width: 50%;\n",
       "}\n",
       "\n",
       "#sk-container-id-1 div.sk-parallel-item:last-child::after {\n",
       "  align-self: flex-start;\n",
       "  width: 50%;\n",
       "}\n",
       "\n",
       "#sk-container-id-1 div.sk-parallel-item:only-child::after {\n",
       "  width: 0;\n",
       "}\n",
       "\n",
       "/* Serial-specific style estimator block */\n",
       "\n",
       "#sk-container-id-1 div.sk-serial {\n",
       "  display: flex;\n",
       "  flex-direction: column;\n",
       "  align-items: center;\n",
       "  background-color: var(--sklearn-color-background);\n",
       "  padding-right: 1em;\n",
       "  padding-left: 1em;\n",
       "}\n",
       "\n",
       "\n",
       "/* Toggleable style: style used for estimator/Pipeline/ColumnTransformer box that is\n",
       "clickable and can be expanded/collapsed.\n",
       "- Pipeline and ColumnTransformer use this feature and define the default style\n",
       "- Estimators will overwrite some part of the style using the `sk-estimator` class\n",
       "*/\n",
       "\n",
       "/* Pipeline and ColumnTransformer style (default) */\n",
       "\n",
       "#sk-container-id-1 div.sk-toggleable {\n",
       "  /* Default theme specific background. It is overwritten whether we have a\n",
       "  specific estimator or a Pipeline/ColumnTransformer */\n",
       "  background-color: var(--sklearn-color-background);\n",
       "}\n",
       "\n",
       "/* Toggleable label */\n",
       "#sk-container-id-1 label.sk-toggleable__label {\n",
       "  cursor: pointer;\n",
       "  display: block;\n",
       "  width: 100%;\n",
       "  margin-bottom: 0;\n",
       "  padding: 0.5em;\n",
       "  box-sizing: border-box;\n",
       "  text-align: center;\n",
       "}\n",
       "\n",
       "#sk-container-id-1 label.sk-toggleable__label-arrow:before {\n",
       "  /* Arrow on the left of the label */\n",
       "  content: \"▸\";\n",
       "  float: left;\n",
       "  margin-right: 0.25em;\n",
       "  color: var(--sklearn-color-icon);\n",
       "}\n",
       "\n",
       "#sk-container-id-1 label.sk-toggleable__label-arrow:hover:before {\n",
       "  color: var(--sklearn-color-text);\n",
       "}\n",
       "\n",
       "/* Toggleable content - dropdown */\n",
       "\n",
       "#sk-container-id-1 div.sk-toggleable__content {\n",
       "  max-height: 0;\n",
       "  max-width: 0;\n",
       "  overflow: hidden;\n",
       "  text-align: left;\n",
       "  /* unfitted */\n",
       "  background-color: var(--sklearn-color-unfitted-level-0);\n",
       "}\n",
       "\n",
       "#sk-container-id-1 div.sk-toggleable__content.fitted {\n",
       "  /* fitted */\n",
       "  background-color: var(--sklearn-color-fitted-level-0);\n",
       "}\n",
       "\n",
       "#sk-container-id-1 div.sk-toggleable__content pre {\n",
       "  margin: 0.2em;\n",
       "  border-radius: 0.25em;\n",
       "  color: var(--sklearn-color-text);\n",
       "  /* unfitted */\n",
       "  background-color: var(--sklearn-color-unfitted-level-0);\n",
       "}\n",
       "\n",
       "#sk-container-id-1 div.sk-toggleable__content.fitted pre {\n",
       "  /* unfitted */\n",
       "  background-color: var(--sklearn-color-fitted-level-0);\n",
       "}\n",
       "\n",
       "#sk-container-id-1 input.sk-toggleable__control:checked~div.sk-toggleable__content {\n",
       "  /* Expand drop-down */\n",
       "  max-height: 200px;\n",
       "  max-width: 100%;\n",
       "  overflow: auto;\n",
       "}\n",
       "\n",
       "#sk-container-id-1 input.sk-toggleable__control:checked~label.sk-toggleable__label-arrow:before {\n",
       "  content: \"▾\";\n",
       "}\n",
       "\n",
       "/* Pipeline/ColumnTransformer-specific style */\n",
       "\n",
       "#sk-container-id-1 div.sk-label input.sk-toggleable__control:checked~label.sk-toggleable__label {\n",
       "  color: var(--sklearn-color-text);\n",
       "  background-color: var(--sklearn-color-unfitted-level-2);\n",
       "}\n",
       "\n",
       "#sk-container-id-1 div.sk-label.fitted input.sk-toggleable__control:checked~label.sk-toggleable__label {\n",
       "  background-color: var(--sklearn-color-fitted-level-2);\n",
       "}\n",
       "\n",
       "/* Estimator-specific style */\n",
       "\n",
       "/* Colorize estimator box */\n",
       "#sk-container-id-1 div.sk-estimator input.sk-toggleable__control:checked~label.sk-toggleable__label {\n",
       "  /* unfitted */\n",
       "  background-color: var(--sklearn-color-unfitted-level-2);\n",
       "}\n",
       "\n",
       "#sk-container-id-1 div.sk-estimator.fitted input.sk-toggleable__control:checked~label.sk-toggleable__label {\n",
       "  /* fitted */\n",
       "  background-color: var(--sklearn-color-fitted-level-2);\n",
       "}\n",
       "\n",
       "#sk-container-id-1 div.sk-label label.sk-toggleable__label,\n",
       "#sk-container-id-1 div.sk-label label {\n",
       "  /* The background is the default theme color */\n",
       "  color: var(--sklearn-color-text-on-default-background);\n",
       "}\n",
       "\n",
       "/* On hover, darken the color of the background */\n",
       "#sk-container-id-1 div.sk-label:hover label.sk-toggleable__label {\n",
       "  color: var(--sklearn-color-text);\n",
       "  background-color: var(--sklearn-color-unfitted-level-2);\n",
       "}\n",
       "\n",
       "/* Label box, darken color on hover, fitted */\n",
       "#sk-container-id-1 div.sk-label.fitted:hover label.sk-toggleable__label.fitted {\n",
       "  color: var(--sklearn-color-text);\n",
       "  background-color: var(--sklearn-color-fitted-level-2);\n",
       "}\n",
       "\n",
       "/* Estimator label */\n",
       "\n",
       "#sk-container-id-1 div.sk-label label {\n",
       "  font-family: monospace;\n",
       "  font-weight: bold;\n",
       "  display: inline-block;\n",
       "  line-height: 1.2em;\n",
       "}\n",
       "\n",
       "#sk-container-id-1 div.sk-label-container {\n",
       "  text-align: center;\n",
       "}\n",
       "\n",
       "/* Estimator-specific */\n",
       "#sk-container-id-1 div.sk-estimator {\n",
       "  font-family: monospace;\n",
       "  border: 1px dotted var(--sklearn-color-border-box);\n",
       "  border-radius: 0.25em;\n",
       "  box-sizing: border-box;\n",
       "  margin-bottom: 0.5em;\n",
       "  /* unfitted */\n",
       "  background-color: var(--sklearn-color-unfitted-level-0);\n",
       "}\n",
       "\n",
       "#sk-container-id-1 div.sk-estimator.fitted {\n",
       "  /* fitted */\n",
       "  background-color: var(--sklearn-color-fitted-level-0);\n",
       "}\n",
       "\n",
       "/* on hover */\n",
       "#sk-container-id-1 div.sk-estimator:hover {\n",
       "  /* unfitted */\n",
       "  background-color: var(--sklearn-color-unfitted-level-2);\n",
       "}\n",
       "\n",
       "#sk-container-id-1 div.sk-estimator.fitted:hover {\n",
       "  /* fitted */\n",
       "  background-color: var(--sklearn-color-fitted-level-2);\n",
       "}\n",
       "\n",
       "/* Specification for estimator info (e.g. \"i\" and \"?\") */\n",
       "\n",
       "/* Common style for \"i\" and \"?\" */\n",
       "\n",
       ".sk-estimator-doc-link,\n",
       "a:link.sk-estimator-doc-link,\n",
       "a:visited.sk-estimator-doc-link {\n",
       "  float: right;\n",
       "  font-size: smaller;\n",
       "  line-height: 1em;\n",
       "  font-family: monospace;\n",
       "  background-color: var(--sklearn-color-background);\n",
       "  border-radius: 1em;\n",
       "  height: 1em;\n",
       "  width: 1em;\n",
       "  text-decoration: none !important;\n",
       "  margin-left: 1ex;\n",
       "  /* unfitted */\n",
       "  border: var(--sklearn-color-unfitted-level-1) 1pt solid;\n",
       "  color: var(--sklearn-color-unfitted-level-1);\n",
       "}\n",
       "\n",
       ".sk-estimator-doc-link.fitted,\n",
       "a:link.sk-estimator-doc-link.fitted,\n",
       "a:visited.sk-estimator-doc-link.fitted {\n",
       "  /* fitted */\n",
       "  border: var(--sklearn-color-fitted-level-1) 1pt solid;\n",
       "  color: var(--sklearn-color-fitted-level-1);\n",
       "}\n",
       "\n",
       "/* On hover */\n",
       "div.sk-estimator:hover .sk-estimator-doc-link:hover,\n",
       ".sk-estimator-doc-link:hover,\n",
       "div.sk-label-container:hover .sk-estimator-doc-link:hover,\n",
       ".sk-estimator-doc-link:hover {\n",
       "  /* unfitted */\n",
       "  background-color: var(--sklearn-color-unfitted-level-3);\n",
       "  color: var(--sklearn-color-background);\n",
       "  text-decoration: none;\n",
       "}\n",
       "\n",
       "div.sk-estimator.fitted:hover .sk-estimator-doc-link.fitted:hover,\n",
       ".sk-estimator-doc-link.fitted:hover,\n",
       "div.sk-label-container:hover .sk-estimator-doc-link.fitted:hover,\n",
       ".sk-estimator-doc-link.fitted:hover {\n",
       "  /* fitted */\n",
       "  background-color: var(--sklearn-color-fitted-level-3);\n",
       "  color: var(--sklearn-color-background);\n",
       "  text-decoration: none;\n",
       "}\n",
       "\n",
       "/* Span, style for the box shown on hovering the info icon */\n",
       ".sk-estimator-doc-link span {\n",
       "  display: none;\n",
       "  z-index: 9999;\n",
       "  position: relative;\n",
       "  font-weight: normal;\n",
       "  right: .2ex;\n",
       "  padding: .5ex;\n",
       "  margin: .5ex;\n",
       "  width: min-content;\n",
       "  min-width: 20ex;\n",
       "  max-width: 50ex;\n",
       "  color: var(--sklearn-color-text);\n",
       "  box-shadow: 2pt 2pt 4pt #999;\n",
       "  /* unfitted */\n",
       "  background: var(--sklearn-color-unfitted-level-0);\n",
       "  border: .5pt solid var(--sklearn-color-unfitted-level-3);\n",
       "}\n",
       "\n",
       ".sk-estimator-doc-link.fitted span {\n",
       "  /* fitted */\n",
       "  background: var(--sklearn-color-fitted-level-0);\n",
       "  border: var(--sklearn-color-fitted-level-3);\n",
       "}\n",
       "\n",
       ".sk-estimator-doc-link:hover span {\n",
       "  display: block;\n",
       "}\n",
       "\n",
       "/* \"?\"-specific style due to the `<a>` HTML tag */\n",
       "\n",
       "#sk-container-id-1 a.estimator_doc_link {\n",
       "  float: right;\n",
       "  font-size: 1rem;\n",
       "  line-height: 1em;\n",
       "  font-family: monospace;\n",
       "  background-color: var(--sklearn-color-background);\n",
       "  border-radius: 1rem;\n",
       "  height: 1rem;\n",
       "  width: 1rem;\n",
       "  text-decoration: none;\n",
       "  /* unfitted */\n",
       "  color: var(--sklearn-color-unfitted-level-1);\n",
       "  border: var(--sklearn-color-unfitted-level-1) 1pt solid;\n",
       "}\n",
       "\n",
       "#sk-container-id-1 a.estimator_doc_link.fitted {\n",
       "  /* fitted */\n",
       "  border: var(--sklearn-color-fitted-level-1) 1pt solid;\n",
       "  color: var(--sklearn-color-fitted-level-1);\n",
       "}\n",
       "\n",
       "/* On hover */\n",
       "#sk-container-id-1 a.estimator_doc_link:hover {\n",
       "  /* unfitted */\n",
       "  background-color: var(--sklearn-color-unfitted-level-3);\n",
       "  color: var(--sklearn-color-background);\n",
       "  text-decoration: none;\n",
       "}\n",
       "\n",
       "#sk-container-id-1 a.estimator_doc_link.fitted:hover {\n",
       "  /* fitted */\n",
       "  background-color: var(--sklearn-color-fitted-level-3);\n",
       "}\n",
       "</style><div id=\"sk-container-id-1\" class=\"sk-top-container\"><div class=\"sk-text-repr-fallback\"><pre>GaussianNB()</pre><b>In a Jupyter environment, please rerun this cell to show the HTML representation or trust the notebook. <br />On GitHub, the HTML representation is unable to render, please try loading this page with nbviewer.org.</b></div><div class=\"sk-container\" hidden><div class=\"sk-item\"><div class=\"sk-estimator fitted sk-toggleable\"><input class=\"sk-toggleable__control sk-hidden--visually\" id=\"sk-estimator-id-1\" type=\"checkbox\" checked><label for=\"sk-estimator-id-1\" class=\"sk-toggleable__label fitted sk-toggleable__label-arrow fitted\">&nbsp;&nbsp;GaussianNB<a class=\"sk-estimator-doc-link fitted\" rel=\"noreferrer\" target=\"_blank\" href=\"https://scikit-learn.org/1.4/modules/generated/sklearn.naive_bayes.GaussianNB.html\">?<span>Documentation for GaussianNB</span></a><span class=\"sk-estimator-doc-link fitted\">i<span>Fitted</span></span></label><div class=\"sk-toggleable__content fitted\"><pre>GaussianNB()</pre></div> </div></div></div></div>"
      ],
      "text/plain": [
       "GaussianNB()"
      ]
     },
     "execution_count": 36,
     "metadata": {},
     "output_type": "execute_result"
    }
   ],
   "source": [
    "nb.fit(x, y)"
   ]
  },
  {
   "cell_type": "code",
   "execution_count": 37,
   "id": "cfffdc8c-dbd2-4212-9aeb-7dad0824424d",
   "metadata": {},
   "outputs": [],
   "source": [
    "tomato = [[6,5]]"
   ]
  },
  {
   "cell_type": "code",
   "execution_count": 38,
   "id": "3ff34e58-5060-43dd-9352-3bdecf364254",
   "metadata": {},
   "outputs": [
    {
     "data": {
      "text/plain": [
       "class\n",
       "protein      5\n",
       "vegetable    5\n",
       "fruit        5\n",
       "Name: count, dtype: int64"
      ]
     },
     "execution_count": 38,
     "metadata": {},
     "output_type": "execute_result"
    }
   ],
   "source": [
    "y.value_counts()"
   ]
  },
  {
   "cell_type": "code",
   "execution_count": 39,
   "id": "b21697be-66d9-411e-8e5d-cc6446372482",
   "metadata": {},
   "outputs": [
    {
     "data": {
      "text/plain": [
       "array([[7.52797491e-07, 5.67640640e+00, 9.43235928e+01]])"
      ]
     },
     "execution_count": 39,
     "metadata": {},
     "output_type": "execute_result"
    }
   ],
   "source": [
    "nb.predict_proba(tomato) * 100"
   ]
  },
  {
   "cell_type": "code",
   "execution_count": 40,
   "id": "76def8bc-8757-4a22-af11-34c3ef096a0b",
   "metadata": {},
   "outputs": [
    {
     "data": {
      "text/plain": [
       "array(['vegetable'], dtype='<U9')"
      ]
     },
     "execution_count": 40,
     "metadata": {},
     "output_type": "execute_result"
    }
   ],
   "source": [
    "nb.predict(tomato)"
   ]
  },
  {
   "cell_type": "code",
   "execution_count": 41,
   "id": "289888ce-f7b7-47f7-8316-c9fc63ef672f",
   "metadata": {},
   "outputs": [
    {
     "data": {
      "text/plain": [
       "99.99999999999999"
      ]
     },
     "execution_count": 41,
     "metadata": {},
     "output_type": "execute_result"
    }
   ],
   "source": [
    "sum(nb.predict_proba(tomato)[0] * 100)"
   ]
  },
  {
   "cell_type": "markdown",
   "id": "8744cb16",
   "metadata": {},
   "source": [
    "df =read_csv('Social_Network_Ads.csv')"
   ]
  },
  {
   "cell_type": "code",
   "execution_count": 42,
   "id": "dfbdcb52-f286-4c96-86ed-f9db5a468cdf",
   "metadata": {},
   "outputs": [],
   "source": [
    "# Dataset: Social_Networl_Ads.csv\n",
    "#Locaton: C:\\Users\\duasp\\Analytics & Visualization"
   ]
  },
  {
   "cell_type": "code",
   "execution_count": 43,
   "id": "b7580af9-55c1-4c99-b3b2-2a24f4c07f9f",
   "metadata": {},
   "outputs": [],
   "source": [
    "#df =pd.read_csv('Social_Network_Ads.csv')"
   ]
  },
  {
   "cell_type": "code",
   "execution_count": 44,
   "id": "07284a8e-5d97-4747-b529-7a78e1a02d6a",
   "metadata": {},
   "outputs": [],
   "source": [
    "#df.head()"
   ]
  },
  {
   "cell_type": "code",
   "execution_count": 45,
   "id": "55713d32-2e03-4af0-a6ba-452fadb23289",
   "metadata": {},
   "outputs": [
    {
     "ename": "AttributeError",
     "evalue": "'DataFrame' object has no attribute 'EstimatedSalary'",
     "output_type": "error",
     "traceback": [
      "\u001b[1;31m---------------------------------------------------------------------------\u001b[0m",
      "\u001b[1;31mAttributeError\u001b[0m                            Traceback (most recent call last)",
      "\u001b[1;32m~\\AppData\\Local\\Temp\\ipykernel_14956\\3487118515.py\u001b[0m in \u001b[0;36m?\u001b[1;34m()\u001b[0m\n\u001b[0;32m      1\u001b[0m \u001b[0mplt\u001b[0m\u001b[1;33m.\u001b[0m\u001b[0mxlabel\u001b[0m\u001b[1;33m(\u001b[0m\u001b[1;34m'EstimatedSalary'\u001b[0m\u001b[1;33m)\u001b[0m\u001b[1;33m\u001b[0m\u001b[1;33m\u001b[0m\u001b[0m\n\u001b[0;32m      2\u001b[0m \u001b[0mplt\u001b[0m\u001b[1;33m.\u001b[0m\u001b[0mylabel\u001b[0m\u001b[1;33m(\u001b[0m\u001b[1;34m'Purchased'\u001b[0m\u001b[1;33m)\u001b[0m\u001b[1;33m\u001b[0m\u001b[1;33m\u001b[0m\u001b[0m\n\u001b[1;32m----> 3\u001b[1;33m \u001b[0mplt\u001b[0m\u001b[1;33m.\u001b[0m\u001b[0mscatter\u001b[0m\u001b[1;33m(\u001b[0m\u001b[0mdf\u001b[0m\u001b[1;33m.\u001b[0m\u001b[0mEstimatedSalary\u001b[0m\u001b[1;33m,\u001b[0m\u001b[0mdf\u001b[0m\u001b[1;33m.\u001b[0m\u001b[0mPurchased\u001b[0m\u001b[1;33m,\u001b[0m\u001b[1;33m)\u001b[0m\u001b[1;33m\u001b[0m\u001b[1;33m\u001b[0m\u001b[0m\n\u001b[0m\u001b[0;32m      4\u001b[0m \u001b[1;33m\u001b[0m\u001b[0m\n",
      "\u001b[1;32m~\\AppData\\Roaming\\Python\\Python311\\site-packages\\pandas\\core\\generic.py\u001b[0m in \u001b[0;36m?\u001b[1;34m(self, name)\u001b[0m\n\u001b[0;32m   6292\u001b[0m             \u001b[1;32mand\u001b[0m \u001b[0mname\u001b[0m \u001b[1;32mnot\u001b[0m \u001b[1;32min\u001b[0m \u001b[0mself\u001b[0m\u001b[1;33m.\u001b[0m\u001b[0m_accessors\u001b[0m\u001b[1;33m\u001b[0m\u001b[1;33m\u001b[0m\u001b[0m\n\u001b[0;32m   6293\u001b[0m             \u001b[1;32mand\u001b[0m \u001b[0mself\u001b[0m\u001b[1;33m.\u001b[0m\u001b[0m_info_axis\u001b[0m\u001b[1;33m.\u001b[0m\u001b[0m_can_hold_identifiers_and_holds_name\u001b[0m\u001b[1;33m(\u001b[0m\u001b[0mname\u001b[0m\u001b[1;33m)\u001b[0m\u001b[1;33m\u001b[0m\u001b[1;33m\u001b[0m\u001b[0m\n\u001b[0;32m   6294\u001b[0m         ):\n\u001b[0;32m   6295\u001b[0m             \u001b[1;32mreturn\u001b[0m \u001b[0mself\u001b[0m\u001b[1;33m[\u001b[0m\u001b[0mname\u001b[0m\u001b[1;33m]\u001b[0m\u001b[1;33m\u001b[0m\u001b[1;33m\u001b[0m\u001b[0m\n\u001b[1;32m-> 6296\u001b[1;33m         \u001b[1;32mreturn\u001b[0m \u001b[0mobject\u001b[0m\u001b[1;33m.\u001b[0m\u001b[0m__getattribute__\u001b[0m\u001b[1;33m(\u001b[0m\u001b[0mself\u001b[0m\u001b[1;33m,\u001b[0m \u001b[0mname\u001b[0m\u001b[1;33m)\u001b[0m\u001b[1;33m\u001b[0m\u001b[1;33m\u001b[0m\u001b[0m\n\u001b[0m",
      "\u001b[1;31mAttributeError\u001b[0m: 'DataFrame' object has no attribute 'EstimatedSalary'"
     ]
    },
    {
     "data": {
      "image/png": "[encoded data removed]",
      "text/plain": [
       "<Figure size 640x480 with 1 Axes>"
      ]
     },
     "metadata": {},
     "output_type": "display_data"
    }
   ],
   "source": [
    "plt.xlabel('EstimatedSalary')\n",
    "plt.ylabel('Purchased')\n",
    "plt.scatter(df.EstimatedSalary,df.Purchased,)\n",
    "\n"
   ]
  },
  {
   "cell_type": "code",
   "execution_count": null,
   "id": "f7111cfa-d948-4515-9ed9-257f288ad92b",
   "metadata": {},
   "outputs": [],
   "source": [
    "#x=df[['Age','EstimatedSalary']]\n",
    "#y=df[['Purchased']]"
   ]
  },
  {
   "cell_type": "code",
   "execution_count": null,
   "id": "10ef5c90",
   "metadata": {},
   "outputs": [],
   "source": [
    "y.value_counts()"
   ]
  },
  {
   "cell_type": "code",
   "execution_count": null,
   "id": "8106537b",
   "metadata": {},
   "outputs": [],
   "source": [
    "nb = GaussianNB()\n",
    "nb.fit(x,y)"
   ]
  },
  {
   "cell_type": "code",
   "execution_count": null,
   "id": "5a9e75d2",
   "metadata": {},
   "outputs": [],
   "source": [
    "new = pd.DataFrame({\n",
    "    'Age':[23,58,43],\n",
    "    'EstimatedSalary':[45000,134000,78000]\n",
    "    \n",
    "})\n",
    "\n",
    "new"
   ]
  },
  {
   "cell_type": "code",
   "execution_count": null,
   "id": "b3ad57bf",
   "metadata": {},
   "outputs": [],
   "source": [
    "df"
   ]
  },
  {
   "cell_type": "code",
   "execution_count": null,
   "id": "85ce5460",
   "metadata": {},
   "outputs": [],
   "source": [
    "nb.predict_proba(new)"
   ]
  },
  {
   "cell_type": "code",
   "execution_count": null,
   "id": "bef72524",
   "metadata": {},
   "outputs": [],
   "source": [
    "nb.predict(new)"
   ]
  },
  {
   "cell_type": "markdown",
   "id": "4803d6b4",
   "metadata": {},
   "source": [
    "## Simulation & Risk Analysis"
   ]
  },
  {
   "cell_type": "markdown",
   "id": "537d9e56",
   "metadata": {},
   "source": [
    "### Dataset"
   ]
  },
  {
   "cell_type": "code",
   "execution_count": 46,
   "id": "34a4499e",
   "metadata": {},
   "outputs": [],
   "source": []
  },
  {
   "cell_type": "code",
   "execution_count": 47,
   "id": "79983d09",
   "metadata": {},
   "outputs": [
    {
     "data": {
      "text/html": [
       "<div>\n",
       "<style scoped>\n",
       "    .dataframe tbody tr th:only-of-type {\n",
       "        vertical-align: middle;\n",
       "    }\n",
       "\n",
       "    .dataframe tbody tr th {\n",
       "        vertical-align: top;\n",
       "    }\n",
       "\n",
       "    .dataframe thead th {\n",
       "        text-align: right;\n",
       "    }\n",
       "</style>\n",
       "<table border=\"1\" class=\"dataframe\">\n",
       "  <thead>\n",
       "    <tr style=\"text-align: right;\">\n",
       "      <th></th>\n",
       "      <th>Loan_ID</th>\n",
       "      <th>Gender</th>\n",
       "      <th>Married</th>\n",
       "      <th>Dependents</th>\n",
       "      <th>Education</th>\n",
       "      <th>Self_Employed</th>\n",
       "      <th>ApplicantIncome</th>\n",
       "      <th>CoapplicantIncome</th>\n",
       "      <th>LoanAmount</th>\n",
       "      <th>Loan_Amount_Term</th>\n",
       "      <th>Credit_History</th>\n",
       "      <th>Property_Area</th>\n",
       "      <th>Loan_Status</th>\n",
       "    </tr>\n",
       "  </thead>\n",
       "  <tbody>\n",
       "    <tr>\n",
       "      <th>0</th>\n",
       "      <td>LP001002</td>\n",
       "      <td>Male</td>\n",
       "      <td>No</td>\n",
       "      <td>0</td>\n",
       "      <td>Graduate</td>\n",
       "      <td>No</td>\n",
       "      <td>5849</td>\n",
       "      <td>0.0</td>\n",
       "      <td>NaN</td>\n",
       "      <td>360.0</td>\n",
       "      <td>1.0</td>\n",
       "      <td>Urban</td>\n",
       "      <td>Y</td>\n",
       "    </tr>\n",
       "    <tr>\n",
       "      <th>1</th>\n",
       "      <td>LP001003</td>\n",
       "      <td>Male</td>\n",
       "      <td>Yes</td>\n",
       "      <td>1</td>\n",
       "      <td>Graduate</td>\n",
       "      <td>No</td>\n",
       "      <td>4583</td>\n",
       "      <td>1508.0</td>\n",
       "      <td>128.0</td>\n",
       "      <td>360.0</td>\n",
       "      <td>1.0</td>\n",
       "      <td>Rural</td>\n",
       "      <td>N</td>\n",
       "    </tr>\n",
       "    <tr>\n",
       "      <th>2</th>\n",
       "      <td>LP001005</td>\n",
       "      <td>Male</td>\n",
       "      <td>Yes</td>\n",
       "      <td>0</td>\n",
       "      <td>Graduate</td>\n",
       "      <td>Yes</td>\n",
       "      <td>3000</td>\n",
       "      <td>0.0</td>\n",
       "      <td>66.0</td>\n",
       "      <td>360.0</td>\n",
       "      <td>1.0</td>\n",
       "      <td>Urban</td>\n",
       "      <td>Y</td>\n",
       "    </tr>\n",
       "    <tr>\n",
       "      <th>3</th>\n",
       "      <td>LP001006</td>\n",
       "      <td>Male</td>\n",
       "      <td>Yes</td>\n",
       "      <td>0</td>\n",
       "      <td>Not Graduate</td>\n",
       "      <td>No</td>\n",
       "      <td>2583</td>\n",
       "      <td>2358.0</td>\n",
       "      <td>120.0</td>\n",
       "      <td>360.0</td>\n",
       "      <td>1.0</td>\n",
       "      <td>Urban</td>\n",
       "      <td>Y</td>\n",
       "    </tr>\n",
       "    <tr>\n",
       "      <th>4</th>\n",
       "      <td>LP001008</td>\n",
       "      <td>Male</td>\n",
       "      <td>No</td>\n",
       "      <td>0</td>\n",
       "      <td>Graduate</td>\n",
       "      <td>No</td>\n",
       "      <td>6000</td>\n",
       "      <td>0.0</td>\n",
       "      <td>141.0</td>\n",
       "      <td>360.0</td>\n",
       "      <td>1.0</td>\n",
       "      <td>Urban</td>\n",
       "      <td>Y</td>\n",
       "    </tr>\n",
       "    <tr>\n",
       "      <th>...</th>\n",
       "      <td>...</td>\n",
       "      <td>...</td>\n",
       "      <td>...</td>\n",
       "      <td>...</td>\n",
       "      <td>...</td>\n",
       "      <td>...</td>\n",
       "      <td>...</td>\n",
       "      <td>...</td>\n",
       "      <td>...</td>\n",
       "      <td>...</td>\n",
       "      <td>...</td>\n",
       "      <td>...</td>\n",
       "      <td>...</td>\n",
       "    </tr>\n",
       "    <tr>\n",
       "      <th>609</th>\n",
       "      <td>LP002978</td>\n",
       "      <td>Female</td>\n",
       "      <td>No</td>\n",
       "      <td>0</td>\n",
       "      <td>Graduate</td>\n",
       "      <td>No</td>\n",
       "      <td>2900</td>\n",
       "      <td>0.0</td>\n",
       "      <td>71.0</td>\n",
       "      <td>360.0</td>\n",
       "      <td>1.0</td>\n",
       "      <td>Rural</td>\n",
       "      <td>Y</td>\n",
       "    </tr>\n",
       "    <tr>\n",
       "      <th>610</th>\n",
       "      <td>LP002979</td>\n",
       "      <td>Male</td>\n",
       "      <td>Yes</td>\n",
       "      <td>3+</td>\n",
       "      <td>Graduate</td>\n",
       "      <td>No</td>\n",
       "      <td>4106</td>\n",
       "      <td>0.0</td>\n",
       "      <td>40.0</td>\n",
       "      <td>180.0</td>\n",
       "      <td>1.0</td>\n",
       "      <td>Rural</td>\n",
       "      <td>Y</td>\n",
       "    </tr>\n",
       "    <tr>\n",
       "      <th>611</th>\n",
       "      <td>LP002983</td>\n",
       "      <td>Male</td>\n",
       "      <td>Yes</td>\n",
       "      <td>1</td>\n",
       "      <td>Graduate</td>\n",
       "      <td>No</td>\n",
       "      <td>8072</td>\n",
       "      <td>240.0</td>\n",
       "      <td>253.0</td>\n",
       "      <td>360.0</td>\n",
       "      <td>1.0</td>\n",
       "      <td>Urban</td>\n",
       "      <td>Y</td>\n",
       "    </tr>\n",
       "    <tr>\n",
       "      <th>612</th>\n",
       "      <td>LP002984</td>\n",
       "      <td>Male</td>\n",
       "      <td>Yes</td>\n",
       "      <td>2</td>\n",
       "      <td>Graduate</td>\n",
       "      <td>No</td>\n",
       "      <td>7583</td>\n",
       "      <td>0.0</td>\n",
       "      <td>187.0</td>\n",
       "      <td>360.0</td>\n",
       "      <td>1.0</td>\n",
       "      <td>Urban</td>\n",
       "      <td>Y</td>\n",
       "    </tr>\n",
       "    <tr>\n",
       "      <th>613</th>\n",
       "      <td>LP002990</td>\n",
       "      <td>Female</td>\n",
       "      <td>No</td>\n",
       "      <td>0</td>\n",
       "      <td>Graduate</td>\n",
       "      <td>Yes</td>\n",
       "      <td>4583</td>\n",
       "      <td>0.0</td>\n",
       "      <td>133.0</td>\n",
       "      <td>360.0</td>\n",
       "      <td>0.0</td>\n",
       "      <td>Semiurban</td>\n",
       "      <td>N</td>\n",
       "    </tr>\n",
       "  </tbody>\n",
       "</table>\n",
       "<p>614 rows × 13 columns</p>\n",
       "</div>"
      ],
      "text/plain": [
       "      Loan_ID  Gender Married Dependents     Education Self_Employed  \\\n",
       "0    LP001002    Male      No          0      Graduate            No   \n",
       "1    LP001003    Male     Yes          1      Graduate            No   \n",
       "2    LP001005    Male     Yes          0      Graduate           Yes   \n",
       "3    LP001006    Male     Yes          0  Not Graduate            No   \n",
       "4    LP001008    Male      No          0      Graduate            No   \n",
       "..        ...     ...     ...        ...           ...           ...   \n",
       "609  LP002978  Female      No          0      Graduate            No   \n",
       "610  LP002979    Male     Yes         3+      Graduate            No   \n",
       "611  LP002983    Male     Yes          1      Graduate            No   \n",
       "612  LP002984    Male     Yes          2      Graduate            No   \n",
       "613  LP002990  Female      No          0      Graduate           Yes   \n",
       "\n",
       "     ApplicantIncome  CoapplicantIncome  LoanAmount  Loan_Amount_Term  \\\n",
       "0               5849                0.0         NaN             360.0   \n",
       "1               4583             1508.0       128.0             360.0   \n",
       "2               3000                0.0        66.0             360.0   \n",
       "3               2583             2358.0       120.0             360.0   \n",
       "4               6000                0.0       141.0             360.0   \n",
       "..               ...                ...         ...               ...   \n",
       "609             2900                0.0        71.0             360.0   \n",
       "610             4106                0.0        40.0             180.0   \n",
       "611             8072              240.0       253.0             360.0   \n",
       "612             7583                0.0       187.0             360.0   \n",
       "613             4583                0.0       133.0             360.0   \n",
       "\n",
       "     Credit_History Property_Area Loan_Status  \n",
       "0               1.0         Urban           Y  \n",
       "1               1.0         Rural           N  \n",
       "2               1.0         Urban           Y  \n",
       "3               1.0         Urban           Y  \n",
       "4               1.0         Urban           Y  \n",
       "..              ...           ...         ...  \n",
       "609             1.0         Rural           Y  \n",
       "610             1.0         Rural           Y  \n",
       "611             1.0         Urban           Y  \n",
       "612             1.0         Urban           Y  \n",
       "613             0.0     Semiurban           N  \n",
       "\n",
       "[614 rows x 13 columns]"
      ]
     },
     "execution_count": 47,
     "metadata": {},
     "output_type": "execute_result"
    }
   ],
   "source": []
  },
  {
   "cell_type": "markdown",
   "id": "0e78ad6c",
   "metadata": {},
   "source": []
  },
  {
   "cell_type": "code",
   "execution_count": 48,
   "id": "ec2fc568",
   "metadata": {},
   "outputs": [
    {
     "data": {
      "text/plain": [
       "Index(['Loan_ID', 'Gender', 'Married', 'Dependents', 'Education',\n",
       "       'Self_Employed', 'ApplicantIncome', 'CoapplicantIncome', 'LoanAmount',\n",
       "       'Loan_Amount_Term', 'Credit_History', 'Property_Area', 'Loan_Status'],\n",
       "      dtype='object')"
      ]
     },
     "execution_count": 48,
     "metadata": {},
     "output_type": "execute_result"
    }
   ],
   "source": []
  },
  {
   "cell_type": "code",
   "execution_count": 49,
   "id": "013a48eb",
   "metadata": {},
   "outputs": [
    {
     "ename": "SyntaxError",
     "evalue": "unterminated string literal (detected at line 5) (1268398611.py, line 5)",
     "output_type": "error",
     "traceback": [
      "\u001b[1;36m  Cell \u001b[1;32mIn[49], line 5\u001b[1;36m\u001b[0m\n\u001b[1;33m    y=df[[Loan_Status']]\u001b[0m\n\u001b[1;37m                     ^\u001b[0m\n\u001b[1;31mSyntaxError\u001b[0m\u001b[1;31m:\u001b[0m unterminated string literal (detected at line 5)\n"
     ]
    }
   ],
   "source": []
  },
  {
   "cell_type": "code",
   "execution_count": 50,
   "id": "46a2cae4",
   "metadata": {},
   "outputs": [
    {
     "data": {
      "text/plain": [
       "class\n",
       "protein      5\n",
       "vegetable    5\n",
       "fruit        5\n",
       "Name: count, dtype: int64"
      ]
     },
     "execution_count": 50,
     "metadata": {},
     "output_type": "execute_result"
    }
   ],
   "source": []
  },
  {
   "cell_type": "code",
   "execution_count": null,
   "id": "722bbd4f",
   "metadata": {},
   "outputs": [],
   "source": []
  },
  {
   "cell_type": "code",
   "execution_count": null,
   "id": "8ba78f07",
   "metadata": {},
   "outputs": [],
   "source": []
  },
  {
   "cell_type": "code",
   "execution_count": null,
   "id": "98a53ad8",
   "metadata": {},
   "outputs": [],
   "source": []
  },
  {
   "cell_type": "code",
   "execution_count": null,
   "id": "5f0dba8f",
   "metadata": {},
   "outputs": [],
   "source": []
  },
  {
   "cell_type": "code",
   "execution_count": null,
   "id": "635a4f19",
   "metadata": {},
   "outputs": [],
   "source": []
  },
  {
   "cell_type": "code",
   "execution_count": null,
   "id": "3ff8d455",
   "metadata": {},
   "outputs": [],
   "source": []
  },
  {
   "cell_type": "code",
   "execution_count": null,
   "id": "33583d63",
   "metadata": {},
   "outputs": [],
   "source": []
  },
  {
   "cell_type": "code",
   "execution_count": null,
   "id": "42134665",
   "metadata": {},
   "outputs": [],
   "source": []
  },
  {
   "cell_type": "code",
   "execution_count": null,
   "id": "c91494c1",
   "metadata": {},
   "outputs": [],
   "source": []
  },
  {
   "cell_type": "code",
   "execution_count": null,
   "id": "5c91240a",
   "metadata": {},
   "outputs": [],
   "source": []
  },
  {
   "cell_type": "code",
   "execution_count": null,
   "id": "29bc2bb3",
   "metadata": {},
   "outputs": [],
   "source": []
  },
  {
   "cell_type": "code",
   "execution_count": null,
   "id": "b3377b67",
   "metadata": {},
   "outputs": [],
   "source": []
  },
  {
   "cell_type": "code",
   "execution_count": null,
   "id": "7a5e1bdb",
   "metadata": {},
   "outputs": [],
   "source": []
  },
  {
   "cell_type": "code",
   "execution_count": null,
   "id": "b68e2250",
   "metadata": {},
   "outputs": [],
   "source": []
  },
  {
   "cell_type": "code",
   "execution_count": null,
   "id": "10b82bec",
   "metadata": {},
   "outputs": [],
   "source": []
  },
  {
   "cell_type": "code",
   "execution_count": null,
   "id": "881b80ad",
   "metadata": {},
   "outputs": [],
   "source": []
  },
  {
   "cell_type": "code",
   "execution_count": null,
   "id": "ace60f40",
   "metadata": {},
   "outputs": [],
   "source": []
  },
  {
   "cell_type": "code",
   "execution_count": null,
   "id": "222e2e62",
   "metadata": {},
   "outputs": [],
   "source": []
  },
  {
   "cell_type": "code",
   "execution_count": null,
   "id": "c3ea86e7",
   "metadata": {},
   "outputs": [],
   "source": []
  },
  {
   "cell_type": "code",
   "execution_count": null,
   "id": "8639cb28",
   "metadata": {},
   "outputs": [],
   "source": []
  },
  {
   "cell_type": "code",
   "execution_count": null,
   "id": "696e6b84",
   "metadata": {},
   "outputs": [],
   "source": []
  },
  {
   "cell_type": "code",
   "execution_count": null,
   "id": "55b2efda",
   "metadata": {},
   "outputs": [],
   "source": []
  },
  {
   "cell_type": "code",
   "execution_count": null,
   "id": "27f72486",
   "metadata": {},
   "outputs": [],
   "source": []
  },
  {
   "cell_type": "code",
   "execution_count": null,
   "id": "08943493",
   "metadata": {},
   "outputs": [],
   "source": []
  },
  {
   "cell_type": "code",
   "execution_count": null,
   "id": "2af31696",
   "metadata": {},
   "outputs": [],
   "source": []
  },
  {
   "cell_type": "code",
   "execution_count": null,
   "id": "ed7984cb",
   "metadata": {},
   "outputs": [],
   "source": []
  },
  {
   "cell_type": "code",
   "execution_count": null,
   "id": "fa711bf2",
   "metadata": {},
   "outputs": [],
   "source": []
  },
  {
   "cell_type": "code",
   "execution_count": null,
   "id": "84e2f156",
   "metadata": {},
   "outputs": [],
   "source": []
  },
  {
   "cell_type": "code",
   "execution_count": null,
   "id": "9e937313",
   "metadata": {},
   "outputs": [],
   "source": []
  }
 ],
 "metadata": {
  "kernelspec": {
   "display_name": "Python 3 (ipykernel)",
   "language": "python",
   "name": "python3"
  },
  "language_info": {
   "codemirror_mode": {
    "name": "ipython",
    "version": 3
   },
   "file_extension": ".py",
   "mimetype": "text/x-python",
   "name": "python",
   "nbconvert_exporter": "python",
   "pygments_lexer": "ipython3",
   "version": "3.11.5"
  }
 },
 "nbformat": 4,
 "nbformat_minor": 5
}
