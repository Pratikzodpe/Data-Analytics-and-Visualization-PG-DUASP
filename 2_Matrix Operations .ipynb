{
 "cells": [
  {
   "cell_type": "markdown",
   "id": "77ca320a",
   "metadata": {},
   "source": [
    "### Creation of Matrix"
   ]
  },
  {
   "cell_type": "code",
   "execution_count": 1,
   "id": "5bd6596d",
   "metadata": {},
   "outputs": [],
   "source": [
    "import numpy as np\n",
    "import matplotlib.pyplot as plt"
   ]
  },
  {
   "cell_type": "code",
   "execution_count": 2,
   "id": "f2ebaeac",
   "metadata": {},
   "outputs": [
    {
     "data": {
      "text/plain": [
       "array([[3, 4],\n",
       "       [2, 9],\n",
       "       [7, 2]])"
      ]
     },
     "execution_count": 2,
     "metadata": {},
     "output_type": "execute_result"
    }
   ],
   "source": [
    "m = np.array([[3,4],[2,9],[7,2]])\n",
    "m"
   ]
  },
  {
   "cell_type": "code",
   "execution_count": 3,
   "id": "8dd57d68",
   "metadata": {},
   "outputs": [
    {
     "data": {
      "text/plain": [
       "(3, 2)"
      ]
     },
     "execution_count": 3,
     "metadata": {},
     "output_type": "execute_result"
    }
   ],
   "source": [
    "m.shape"
   ]
  },
  {
   "cell_type": "code",
   "execution_count": 4,
   "id": "b0b17703",
   "metadata": {},
   "outputs": [
    {
     "data": {
      "text/plain": [
       "\"class Person:\\n    def __init__(self,n,a):\\n        self.name = n\\n        self.age = a\\n    def show(self):\\n        print('Values are:', self.name,self.age)\""
      ]
     },
     "execution_count": 4,
     "metadata": {},
     "output_type": "execute_result"
    }
   ],
   "source": [
    "\"\"\"class Person:\n",
    "    def __init__(self,n,a):\n",
    "        self.name = n\n",
    "        self.age = a\n",
    "    def show(self):\n",
    "        print('Values are:', self.name,self.age)\"\"\""
   ]
  },
  {
   "cell_type": "code",
   "execution_count": 5,
   "id": "b611c77d",
   "metadata": {},
   "outputs": [
    {
     "data": {
      "text/plain": [
       "2"
      ]
     },
     "execution_count": 5,
     "metadata": {},
     "output_type": "execute_result"
    }
   ],
   "source": [
    "m.min()"
   ]
  },
  {
   "cell_type": "code",
   "execution_count": 6,
   "id": "68e63513",
   "metadata": {},
   "outputs": [
    {
     "data": {
      "text/plain": [
       "numpy.ndarray"
      ]
     },
     "execution_count": 6,
     "metadata": {},
     "output_type": "execute_result"
    }
   ],
   "source": [
    "type(m)"
   ]
  },
  {
   "cell_type": "code",
   "execution_count": 7,
   "id": "81f94861",
   "metadata": {},
   "outputs": [
    {
     "data": {
      "text/plain": [
       "6"
      ]
     },
     "execution_count": 7,
     "metadata": {},
     "output_type": "execute_result"
    }
   ],
   "source": [
    "m.size"
   ]
  },
  {
   "cell_type": "code",
   "execution_count": 8,
   "id": "e23f833f",
   "metadata": {},
   "outputs": [
    {
     "data": {
      "text/plain": [
       "4.5"
      ]
     },
     "execution_count": 8,
     "metadata": {},
     "output_type": "execute_result"
    }
   ],
   "source": [
    "m.mean()"
   ]
  },
  {
   "cell_type": "code",
   "execution_count": 9,
   "id": "1a0d8404",
   "metadata": {},
   "outputs": [
    {
     "data": {
      "text/plain": [
       "9"
      ]
     },
     "execution_count": 9,
     "metadata": {},
     "output_type": "execute_result"
    }
   ],
   "source": [
    "m.max()"
   ]
  },
  {
   "cell_type": "code",
   "execution_count": 10,
   "id": "1b92838e",
   "metadata": {},
   "outputs": [
    {
     "data": {
      "text/plain": [
       "array([3, 7, 8, 5, 9, 1, 6, 3])"
      ]
     },
     "execution_count": 10,
     "metadata": {},
     "output_type": "execute_result"
    }
   ],
   "source": [
    "v = np.array([3,7,8,5,9,1,6,3])\n",
    "v"
   ]
  },
  {
   "cell_type": "code",
   "execution_count": 11,
   "id": "d7dc5af5",
   "metadata": {},
   "outputs": [
    {
     "data": {
      "text/plain": [
       "8"
      ]
     },
     "execution_count": 11,
     "metadata": {},
     "output_type": "execute_result"
    }
   ],
   "source": [
    "v.size"
   ]
  },
  {
   "cell_type": "code",
   "execution_count": 12,
   "id": "f4bd81ca",
   "metadata": {},
   "outputs": [
    {
     "data": {
      "text/plain": [
       "array([[3, 7, 8, 5],\n",
       "       [9, 1, 6, 3]])"
      ]
     },
     "execution_count": 12,
     "metadata": {},
     "output_type": "execute_result"
    }
   ],
   "source": [
    "v.reshape(2,4)"
   ]
  },
  {
   "cell_type": "code",
   "execution_count": 13,
   "id": "11b49a54",
   "metadata": {},
   "outputs": [
    {
     "data": {
      "text/plain": [
       "dtype('int32')"
      ]
     },
     "execution_count": 13,
     "metadata": {},
     "output_type": "execute_result"
    }
   ],
   "source": [
    "v.dtype"
   ]
  },
  {
   "cell_type": "code",
   "execution_count": 14,
   "id": "8fd9224c",
   "metadata": {},
   "outputs": [],
   "source": [
    "m = np.array([[3,4,8,0],[2,8,1,3],[1,9,5,6]], dtype=np.int8)"
   ]
  },
  {
   "cell_type": "code",
   "execution_count": 15,
   "id": "8503b487",
   "metadata": {},
   "outputs": [
    {
     "data": {
      "text/plain": [
       "array([[3, 4, 8, 0],\n",
       "       [2, 8, 1, 3],\n",
       "       [1, 9, 5, 6]], dtype=int8)"
      ]
     },
     "execution_count": 15,
     "metadata": {},
     "output_type": "execute_result"
    }
   ],
   "source": [
    "m"
   ]
  },
  {
   "cell_type": "code",
   "execution_count": 16,
   "id": "bce1a4d6",
   "metadata": {},
   "outputs": [
    {
     "data": {
      "text/plain": [
       "array([3, 4, 8, 0, 2, 8, 1, 3, 1, 9, 5, 6], dtype=int8)"
      ]
     },
     "execution_count": 16,
     "metadata": {},
     "output_type": "execute_result"
    }
   ],
   "source": [
    "m.flatten()"
   ]
  },
  {
   "cell_type": "code",
   "execution_count": 17,
   "id": "05cde7fa",
   "metadata": {},
   "outputs": [
    {
     "data": {
      "text/plain": [
       "array([[3, 4, 8],\n",
       "       [0, 2, 8],\n",
       "       [1, 3, 1],\n",
       "       [9, 5, 6]], dtype=int8)"
      ]
     },
     "execution_count": 17,
     "metadata": {},
     "output_type": "execute_result"
    }
   ],
   "source": [
    "m.reshape(-1,3)"
   ]
  },
  {
   "cell_type": "code",
   "execution_count": 18,
   "id": "6d2f3fbb",
   "metadata": {},
   "outputs": [
    {
     "data": {
      "text/plain": [
       "array([[3, 4, 8, 0],\n",
       "       [2, 8, 1, 3],\n",
       "       [1, 9, 5, 6]], dtype=int8)"
      ]
     },
     "execution_count": 18,
     "metadata": {},
     "output_type": "execute_result"
    }
   ],
   "source": [
    "m.reshape(-1,4)"
   ]
  },
  {
   "cell_type": "code",
   "execution_count": 19,
   "id": "237a1745",
   "metadata": {},
   "outputs": [
    {
     "data": {
      "text/plain": [
       "array([3, 4, 8, 0, 2, 8, 1, 3, 1, 9, 5, 6], dtype=int8)"
      ]
     },
     "execution_count": 19,
     "metadata": {},
     "output_type": "execute_result"
    }
   ],
   "source": [
    "m.reshape(-1)"
   ]
  },
  {
   "cell_type": "markdown",
   "id": "4e178f9d",
   "metadata": {},
   "source": [
    "### Matrix Operations"
   ]
  },
  {
   "cell_type": "code",
   "execution_count": 20,
   "id": "dc69745c",
   "metadata": {},
   "outputs": [
    {
     "data": {
      "text/plain": [
       "array([[3, 4, 8, 0],\n",
       "       [2, 8, 1, 3],\n",
       "       [1, 9, 5, 6]], dtype=int8)"
      ]
     },
     "execution_count": 20,
     "metadata": {},
     "output_type": "execute_result"
    }
   ],
   "source": [
    "m"
   ]
  },
  {
   "cell_type": "code",
   "execution_count": 21,
   "id": "b738d02c",
   "metadata": {},
   "outputs": [
    {
     "data": {
      "text/plain": [
       "1"
      ]
     },
     "execution_count": 21,
     "metadata": {},
     "output_type": "execute_result"
    }
   ],
   "source": [
    "m[1][2]"
   ]
  },
  {
   "cell_type": "code",
   "execution_count": 22,
   "id": "3c1cb441",
   "metadata": {},
   "outputs": [
    {
     "name": "stdout",
     "output_type": "stream",
     "text": [
      "[3 4 8 0]\n",
      "[2 8 1 3]\n",
      "[1 9 5 6]\n"
     ]
    }
   ],
   "source": [
    "for row in m:\n",
    "    print(row)"
   ]
  },
  {
   "cell_type": "code",
   "execution_count": 23,
   "id": "e37d2a7d",
   "metadata": {},
   "outputs": [
    {
     "name": "stdout",
     "output_type": "stream",
     "text": [
      "3 4 8 0 \n",
      "2 8 1 3 \n",
      "1 9 5 6 \n"
     ]
    }
   ],
   "source": [
    "for i in range(0,3):\n",
    "    for j in range(0,4):\n",
    "        print(f\"{m[i][j]}\", end=\" \")\n",
    "    print()"
   ]
  },
  {
   "cell_type": "code",
   "execution_count": 24,
   "id": "64b07a3b",
   "metadata": {},
   "outputs": [
    {
     "name": "stdout",
     "output_type": "stream",
     "text": [
      "3 4 8 0 \n",
      "2 8 1 3 \n",
      "1 9 5 6 \n"
     ]
    }
   ],
   "source": [
    "for row in m:\n",
    "    for value in row:\n",
    "        print(value, end=\" \")\n",
    "    print()"
   ]
  },
  {
   "cell_type": "code",
   "execution_count": 25,
   "id": "4f3e94b7",
   "metadata": {},
   "outputs": [
    {
     "name": "stdout",
     "output_type": "stream",
     "text": [
      "3 4 8 0\n",
      "2 8 1 3\n",
      "1 9 5 6\n"
     ]
    }
   ],
   "source": [
    "for row in m:\n",
    "    print(*row)"
   ]
  },
  {
   "cell_type": "markdown",
   "id": "ab73cdc0",
   "metadata": {},
   "source": [
    "### Addition "
   ]
  },
  {
   "cell_type": "code",
   "execution_count": 26,
   "id": "7cc332f9",
   "metadata": {},
   "outputs": [],
   "source": [
    "m1 = np.array([[8,5,6],[2,1,6],[0,2,8]])\n",
    "m2 = np.array([[5,8,3],[5,4,7],[1,8,3]])"
   ]
  },
  {
   "cell_type": "code",
   "execution_count": 27,
   "id": "c95bb160",
   "metadata": {},
   "outputs": [
    {
     "data": {
      "text/plain": [
       "array([[13, 13,  9],\n",
       "       [ 7,  5, 13],\n",
       "       [ 1, 10, 11]])"
      ]
     },
     "execution_count": 27,
     "metadata": {},
     "output_type": "execute_result"
    }
   ],
   "source": [
    "m3 = m1 + m2\n",
    "m3"
   ]
  },
  {
   "cell_type": "code",
   "execution_count": 28,
   "id": "95b7c277",
   "metadata": {},
   "outputs": [
    {
     "data": {
      "text/plain": [
       "array([[40, 40, 18],\n",
       "       [10,  4, 42],\n",
       "       [ 0, 16, 24]])"
      ]
     },
     "execution_count": 28,
     "metadata": {},
     "output_type": "execute_result"
    }
   ],
   "source": [
    "m3 = m1 * m2\n",
    "m3"
   ]
  },
  {
   "cell_type": "code",
   "execution_count": 29,
   "id": "e59e603a",
   "metadata": {},
   "outputs": [
    {
     "data": {
      "text/plain": [
       "array([[ 71, 132,  77],\n",
       "       [ 21,  68,  31],\n",
       "       [ 18,  72,  38]])"
      ]
     },
     "execution_count": 29,
     "metadata": {},
     "output_type": "execute_result"
    }
   ],
   "source": [
    "m1.dot(m2)"
   ]
  },
  {
   "cell_type": "markdown",
   "id": "17f14513",
   "metadata": {},
   "source": [
    "### Subtraction"
   ]
  },
  {
   "cell_type": "code",
   "execution_count": 30,
   "id": "44b9b53f",
   "metadata": {},
   "outputs": [
    {
     "data": {
      "text/plain": [
       "array([[-3,  3, -3],\n",
       "       [ 3,  3,  1],\n",
       "       [ 1,  6, -5]])"
      ]
     },
     "execution_count": 30,
     "metadata": {},
     "output_type": "execute_result"
    }
   ],
   "source": [
    "m3 = m2 - m1\n",
    "m3"
   ]
  },
  {
   "cell_type": "markdown",
   "id": "a02ee1a0",
   "metadata": {},
   "source": [
    "### Scalar Multiplication"
   ]
  },
  {
   "cell_type": "code",
   "execution_count": 31,
   "id": "9ec0babf",
   "metadata": {},
   "outputs": [
    {
     "data": {
      "text/plain": [
       "(array([[8, 5, 6],\n",
       "        [2, 1, 6],\n",
       "        [0, 2, 8]]),\n",
       " array([[16, 10, 12],\n",
       "        [ 4,  2, 12],\n",
       "        [ 0,  4, 16]]))"
      ]
     },
     "execution_count": 31,
     "metadata": {},
     "output_type": "execute_result"
    }
   ],
   "source": [
    "m1, m1 * 2"
   ]
  },
  {
   "cell_type": "code",
   "execution_count": 32,
   "id": "bdb554a3",
   "metadata": {},
   "outputs": [],
   "source": [
    "m3 = 2 * (m1 + m2)"
   ]
  },
  {
   "cell_type": "code",
   "execution_count": 33,
   "id": "accec30a",
   "metadata": {},
   "outputs": [],
   "source": [
    "m4 = 2 * m1 + 2 * m2"
   ]
  },
  {
   "cell_type": "code",
   "execution_count": 34,
   "id": "759c0c2d",
   "metadata": {},
   "outputs": [
    {
     "data": {
      "text/plain": [
       "(array([[26, 26, 18],\n",
       "        [14, 10, 26],\n",
       "        [ 2, 20, 22]]),\n",
       " array([[26, 26, 18],\n",
       "        [14, 10, 26],\n",
       "        [ 2, 20, 22]]))"
      ]
     },
     "execution_count": 34,
     "metadata": {},
     "output_type": "execute_result"
    }
   ],
   "source": [
    "m3, m4"
   ]
  },
  {
   "cell_type": "code",
   "execution_count": 35,
   "id": "8502d30d",
   "metadata": {},
   "outputs": [],
   "source": [
    "m5 = (4 + 5)*m1"
   ]
  },
  {
   "cell_type": "code",
   "execution_count": 36,
   "id": "62727f04",
   "metadata": {},
   "outputs": [],
   "source": [
    "m6 = 4*m1 + 5*m1"
   ]
  },
  {
   "cell_type": "code",
   "execution_count": 37,
   "id": "bb709d7a",
   "metadata": {},
   "outputs": [
    {
     "data": {
      "text/plain": [
       "(array([[72, 45, 54],\n",
       "        [18,  9, 54],\n",
       "        [ 0, 18, 72]]),\n",
       " array([[72, 45, 54],\n",
       "        [18,  9, 54],\n",
       "        [ 0, 18, 72]]))"
      ]
     },
     "execution_count": 37,
     "metadata": {},
     "output_type": "execute_result"
    }
   ],
   "source": [
    "m5, m6"
   ]
  },
  {
   "cell_type": "code",
   "execution_count": 38,
   "id": "67208412",
   "metadata": {},
   "outputs": [
    {
     "data": {
      "text/plain": [
       "array([[-72, -45, -54],\n",
       "       [-18,  -9, -54],\n",
       "       [  0, -18, -72]])"
      ]
     },
     "execution_count": 38,
     "metadata": {},
     "output_type": "execute_result"
    }
   ],
   "source": [
    "-1 * m5"
   ]
  },
  {
   "cell_type": "markdown",
   "id": "329012c4",
   "metadata": {},
   "source": [
    "### Matrix Multiplication"
   ]
  },
  {
   "cell_type": "code",
   "execution_count": 39,
   "id": "26b1e343",
   "metadata": {},
   "outputs": [
    {
     "data": {
      "text/plain": [
       "(array([[8, 5, 6],\n",
       "        [2, 1, 6],\n",
       "        [0, 2, 8]]),\n",
       " array([[5, 8, 3],\n",
       "        [5, 4, 7],\n",
       "        [1, 8, 3]]))"
      ]
     },
     "execution_count": 39,
     "metadata": {},
     "output_type": "execute_result"
    }
   ],
   "source": [
    "m1, m2"
   ]
  },
  {
   "cell_type": "code",
   "execution_count": 40,
   "id": "b7dea6f3",
   "metadata": {},
   "outputs": [
    {
     "data": {
      "text/plain": [
       "array([[ 71, 132,  77],\n",
       "       [ 21,  68,  31],\n",
       "       [ 18,  72,  38]])"
      ]
     },
     "execution_count": 40,
     "metadata": {},
     "output_type": "execute_result"
    }
   ],
   "source": [
    "#NOTE:\n",
    "#@ Symbol for matrix multiplication\n",
    "#matmul() function for matrix multiplication\n",
    "\n",
    "m1 @ m2"
   ]
  },
  {
   "cell_type": "code",
   "execution_count": 41,
   "id": "9ff3da07",
   "metadata": {},
   "outputs": [
    {
     "data": {
      "text/plain": [
       "(array([[ 71, 132,  77],\n",
       "        [ 21,  68,  31],\n",
       "        [ 18,  72,  38]]),\n",
       " array([[ 56,  39, 102],\n",
       "        [ 48,  43, 110],\n",
       "        [ 24,  19,  78]]))"
      ]
     },
     "execution_count": 41,
     "metadata": {},
     "output_type": "execute_result"
    }
   ],
   "source": [
    "(m1 @ m2), (m2 @ m1)"
   ]
  },
  {
   "cell_type": "code",
   "execution_count": 42,
   "id": "64bdf938",
   "metadata": {},
   "outputs": [
    {
     "data": {
      "text/plain": [
       "array([[ 71, 132,  77],\n",
       "       [ 21,  68,  31],\n",
       "       [ 18,  72,  38]])"
      ]
     },
     "execution_count": 42,
     "metadata": {},
     "output_type": "execute_result"
    }
   ],
   "source": [
    "np.matmul(m1,m2)"
   ]
  },
  {
   "cell_type": "markdown",
   "id": "cf4013a8",
   "metadata": {},
   "source": [
    "### Matrix Transpose"
   ]
  },
  {
   "cell_type": "code",
   "execution_count": 43,
   "id": "b4a4610d",
   "metadata": {},
   "outputs": [
    {
     "data": {
      "text/plain": [
       "array([[8, 2, 0],\n",
       "       [5, 1, 2],\n",
       "       [6, 6, 8]])"
      ]
     },
     "execution_count": 43,
     "metadata": {},
     "output_type": "execute_result"
    }
   ],
   "source": [
    "#NOTE:-\n",
    "#T is used for transpose the matrix also we can use np.transpose().\n",
    "\n",
    "m1.T"
   ]
  },
  {
   "cell_type": "code",
   "execution_count": 44,
   "id": "9ad4b75d",
   "metadata": {},
   "outputs": [
    {
     "data": {
      "text/plain": [
       "array([[8, 5, 6],\n",
       "       [2, 1, 6],\n",
       "       [0, 2, 8]])"
      ]
     },
     "execution_count": 44,
     "metadata": {},
     "output_type": "execute_result"
    }
   ],
   "source": [
    "m1"
   ]
  },
  {
   "cell_type": "code",
   "execution_count": 45,
   "id": "c13cea6e",
   "metadata": {},
   "outputs": [
    {
     "data": {
      "text/plain": [
       "array([[8, 2, 0],\n",
       "       [5, 1, 2],\n",
       "       [6, 6, 8]])"
      ]
     },
     "execution_count": 45,
     "metadata": {},
     "output_type": "execute_result"
    }
   ],
   "source": [
    "np.transpose(m1)"
   ]
  },
  {
   "cell_type": "code",
   "execution_count": 46,
   "id": "e420dff3",
   "metadata": {},
   "outputs": [
    {
     "name": "stdout",
     "output_type": "stream",
     "text": [
      "Enter number of rows:2\n",
      "Enter number of columns:2\n",
      "Enter Values:2\n",
      "Enter Values:3\n",
      "Enter Values:4\n",
      "Enter Values:5\n"
     ]
    },
    {
     "data": {
      "text/plain": [
       "array([[2., 3.],\n",
       "       [4., 5.]])"
      ]
     },
     "execution_count": 46,
     "metadata": {},
     "output_type": "execute_result"
    }
   ],
   "source": [
    "x = int(input(\"Enter number of rows:\"))\n",
    "y = int(input(\"Enter number of columns:\"))\n",
    "a = np.zeros((x,y))\n",
    "for i in range(x):\n",
    "    for j in range(y):\n",
    "        b = input(\"Enter Values:\")\n",
    "        a[i][j] = b\n",
    "a"
   ]
  },
  {
   "cell_type": "code",
   "execution_count": 47,
   "id": "47410855",
   "metadata": {},
   "outputs": [
    {
     "data": {
      "text/plain": [
       "array([[2., 4.],\n",
       "       [3., 5.]])"
      ]
     },
     "execution_count": 47,
     "metadata": {},
     "output_type": "execute_result"
    }
   ],
   "source": [
    "a.T"
   ]
  },
  {
   "cell_type": "code",
   "execution_count": 48,
   "id": "453ddf83",
   "metadata": {},
   "outputs": [
    {
     "name": "stdout",
     "output_type": "stream",
     "text": [
      "Enter number of rows:2\n",
      "Enter number of columns:2\n",
      "Enter Values:3\n",
      "Enter Values:4\n",
      "Enter Values:5\n",
      "Enter Values:6\n",
      "Matrix:\n",
      " [[3. 4.]\n",
      " [5. 6.]]\n",
      "Transpose:\n",
      " [[3. 5.]\n",
      " [4. 6.]]\n"
     ]
    }
   ],
   "source": [
    "x = int(input(\"Enter number of rows:\"))\n",
    "y = int(input(\"Enter number of columns:\"))\n",
    "mat = np.zeros(x * y)\n",
    "for i in range(len(mat)):\n",
    "    mat[i] = int(input(\"Enter Values:\"))\n",
    "    \n",
    "mat = mat.reshape(x,y)\n",
    "print(\"Matrix:\\n\", mat)\n",
    "print(\"Transpose:\\n\",mat.T)"
   ]
  },
  {
   "cell_type": "code",
   "execution_count": 49,
   "id": "1ccd1676",
   "metadata": {},
   "outputs": [
    {
     "data": {
      "text/plain": [
       "(array([[ 71,  21,  18],\n",
       "        [132,  68,  72],\n",
       "        [ 77,  31,  38]]),\n",
       " array([[ 71,  21,  18],\n",
       "        [132,  68,  72],\n",
       "        [ 77,  31,  38]]))"
      ]
     },
     "execution_count": 49,
     "metadata": {},
     "output_type": "execute_result"
    }
   ],
   "source": [
    "(m1 @ m2).T,  m2.T @ m1.T"
   ]
  },
  {
   "cell_type": "code",
   "execution_count": 50,
   "id": "1ceb199c",
   "metadata": {},
   "outputs": [
    {
     "data": {
      "text/plain": [
       "(array([[13,  7,  1],\n",
       "        [13,  5, 10],\n",
       "        [ 9, 13, 11]]),\n",
       " array([[13,  7,  1],\n",
       "        [13,  5, 10],\n",
       "        [ 9, 13, 11]]))"
      ]
     },
     "execution_count": 50,
     "metadata": {},
     "output_type": "execute_result"
    }
   ],
   "source": [
    "m1.T + m2.T, (m1 + m2).T"
   ]
  },
  {
   "cell_type": "markdown",
   "id": "2e5e2a02",
   "metadata": {},
   "source": [
    "### Trace of Matrix "
   ]
  },
  {
   "cell_type": "code",
   "execution_count": 51,
   "id": "d45c84c2",
   "metadata": {},
   "outputs": [
    {
     "data": {
      "text/plain": [
       "array([[8, 5, 6],\n",
       "       [2, 1, 6],\n",
       "       [0, 2, 8]])"
      ]
     },
     "execution_count": 51,
     "metadata": {},
     "output_type": "execute_result"
    }
   ],
   "source": [
    "m1"
   ]
  },
  {
   "cell_type": "code",
   "execution_count": 52,
   "id": "a81c2a9c",
   "metadata": {},
   "outputs": [
    {
     "data": {
      "text/plain": [
       "17"
      ]
     },
     "execution_count": 52,
     "metadata": {},
     "output_type": "execute_result"
    }
   ],
   "source": [
    "m1[0][0] + m1[1][1] + m1[2][2]"
   ]
  },
  {
   "cell_type": "code",
   "execution_count": 53,
   "id": "ba124983",
   "metadata": {},
   "outputs": [],
   "source": [
    "m1[2] = 12"
   ]
  },
  {
   "cell_type": "code",
   "execution_count": 54,
   "id": "be48f7d2",
   "metadata": {},
   "outputs": [
    {
     "data": {
      "text/plain": [
       "array([[ 8,  5,  6],\n",
       "       [ 2,  1,  6],\n",
       "       [12, 12, 12]])"
      ]
     },
     "execution_count": 54,
     "metadata": {},
     "output_type": "execute_result"
    }
   ],
   "source": [
    "m1"
   ]
  },
  {
   "cell_type": "code",
   "execution_count": 55,
   "id": "03d18d88",
   "metadata": {},
   "outputs": [],
   "source": [
    "m1[2][1] = 9"
   ]
  },
  {
   "cell_type": "code",
   "execution_count": 56,
   "id": "fb341553",
   "metadata": {},
   "outputs": [],
   "source": [
    "m1[2][2] = 11"
   ]
  },
  {
   "cell_type": "code",
   "execution_count": 57,
   "id": "0b0c73d3",
   "metadata": {},
   "outputs": [
    {
     "data": {
      "text/plain": [
       "array([[ 8,  5,  6],\n",
       "       [ 2,  1,  6],\n",
       "       [12,  9, 11]])"
      ]
     },
     "execution_count": 57,
     "metadata": {},
     "output_type": "execute_result"
    }
   ],
   "source": [
    "m1"
   ]
  },
  {
   "cell_type": "code",
   "execution_count": 58,
   "id": "ea7aff68",
   "metadata": {},
   "outputs": [],
   "source": [
    "add = 0\n",
    "rn = 0\n",
    "for row in m1:\n",
    "    add = add + row[rn]\n",
    "    rn += 1"
   ]
  },
  {
   "cell_type": "code",
   "execution_count": 59,
   "id": "46d48f87",
   "metadata": {},
   "outputs": [
    {
     "data": {
      "text/plain": [
       "20"
      ]
     },
     "execution_count": 59,
     "metadata": {},
     "output_type": "execute_result"
    }
   ],
   "source": [
    "add"
   ]
  },
  {
   "cell_type": "code",
   "execution_count": 60,
   "id": "2d498a26",
   "metadata": {},
   "outputs": [
    {
     "data": {
      "text/plain": [
       "3"
      ]
     },
     "execution_count": 60,
     "metadata": {},
     "output_type": "execute_result"
    }
   ],
   "source": [
    "rn"
   ]
  },
  {
   "cell_type": "code",
   "execution_count": 61,
   "id": "00d1c124",
   "metadata": {},
   "outputs": [
    {
     "data": {
      "text/plain": [
       "20"
      ]
     },
     "execution_count": 61,
     "metadata": {},
     "output_type": "execute_result"
    }
   ],
   "source": [
    "np.trace(m1)"
   ]
  },
  {
   "cell_type": "code",
   "execution_count": 62,
   "id": "6202e88d",
   "metadata": {},
   "outputs": [
    {
     "data": {
      "text/plain": [
       "array([[ 71, 132,  77],\n",
       "       [ 21,  68,  31],\n",
       "       [116, 220, 132]])"
      ]
     },
     "execution_count": 62,
     "metadata": {},
     "output_type": "execute_result"
    }
   ],
   "source": [
    "m1 @ m2"
   ]
  },
  {
   "cell_type": "code",
   "execution_count": 63,
   "id": "40c0aaa3",
   "metadata": {},
   "outputs": [
    {
     "data": {
      "text/plain": [
       "array([[ 92,  60, 111],\n",
       "       [132,  92, 131],\n",
       "       [ 60,  40,  87]])"
      ]
     },
     "execution_count": 63,
     "metadata": {},
     "output_type": "execute_result"
    }
   ],
   "source": [
    "m2 @ m1"
   ]
  },
  {
   "cell_type": "code",
   "execution_count": 64,
   "id": "f76fc885",
   "metadata": {},
   "outputs": [
    {
     "data": {
      "text/plain": [
       "(271, 271)"
      ]
     },
     "execution_count": 64,
     "metadata": {},
     "output_type": "execute_result"
    }
   ],
   "source": [
    "np.trace(m1 @ m2), np.trace(m2 @ m1)"
   ]
  },
  {
   "cell_type": "code",
   "execution_count": 65,
   "id": "e709535f",
   "metadata": {},
   "outputs": [
    {
     "data": {
      "text/plain": [
       "(20, 20)"
      ]
     },
     "execution_count": 65,
     "metadata": {},
     "output_type": "execute_result"
    }
   ],
   "source": [
    "np.trace(m1), np.trace(m1.T)"
   ]
  },
  {
   "cell_type": "code",
   "execution_count": 66,
   "id": "7dcb88a7",
   "metadata": {},
   "outputs": [
    {
     "data": {
      "text/plain": [
       "(40, 40)"
      ]
     },
     "execution_count": 66,
     "metadata": {},
     "output_type": "execute_result"
    }
   ],
   "source": [
    "2 * np.trace(m1), np.trace(2 * m1)"
   ]
  },
  {
   "cell_type": "markdown",
   "id": "f9a41c87",
   "metadata": {},
   "source": [
    "### Determinant of Matrix"
   ]
  },
  {
   "cell_type": "code",
   "execution_count": 67,
   "id": "3222f109",
   "metadata": {},
   "outputs": [
    {
     "data": {
      "text/plain": [
       "array([[ 8,  5,  6],\n",
       "       [ 2,  1,  6],\n",
       "       [12,  9, 11]])"
      ]
     },
     "execution_count": 67,
     "metadata": {},
     "output_type": "execute_result"
    }
   ],
   "source": [
    "m1"
   ]
  },
  {
   "cell_type": "code",
   "execution_count": 68,
   "id": "073574df",
   "metadata": {},
   "outputs": [
    {
     "data": {
      "text/plain": [
       "-57.999999999999986"
      ]
     },
     "execution_count": 68,
     "metadata": {},
     "output_type": "execute_result"
    }
   ],
   "source": [
    "np.linalg.det(m1)"
   ]
  },
  {
   "cell_type": "code",
   "execution_count": 69,
   "id": "1a4f4d26",
   "metadata": {},
   "outputs": [
    {
     "data": {
      "text/plain": [
       "-58"
      ]
     },
     "execution_count": 69,
     "metadata": {},
     "output_type": "execute_result"
    }
   ],
   "source": [
    "8 * (11-54) - 5 * (22-72) + 6 * (18-12)"
   ]
  },
  {
   "cell_type": "code",
   "execution_count": 70,
   "id": "839b53d8",
   "metadata": {},
   "outputs": [
    {
     "data": {
      "text/plain": [
       "-176.00000000000009"
      ]
     },
     "execution_count": 70,
     "metadata": {},
     "output_type": "execute_result"
    }
   ],
   "source": [
    "np.linalg.det(m2)"
   ]
  },
  {
   "cell_type": "markdown",
   "id": "ecbcfcd2",
   "metadata": {},
   "source": [
    "### Inverse of the matrix"
   ]
  },
  {
   "cell_type": "code",
   "execution_count": 71,
   "id": "94a62222",
   "metadata": {},
   "outputs": [
    {
     "data": {
      "text/plain": [
       "array([[ 0.74137931,  0.01724138, -0.4137931 ],\n",
       "       [-0.86206897, -0.27586207,  0.62068966],\n",
       "       [-0.10344828,  0.20689655,  0.03448276]])"
      ]
     },
     "execution_count": 71,
     "metadata": {},
     "output_type": "execute_result"
    }
   ],
   "source": [
    "np.linalg.inv(m1)"
   ]
  },
  {
   "cell_type": "markdown",
   "id": "f02b79de",
   "metadata": {},
   "source": [
    "### Rank of the Matrix"
   ]
  },
  {
   "cell_type": "code",
   "execution_count": 72,
   "id": "fac379e8",
   "metadata": {},
   "outputs": [
    {
     "data": {
      "text/plain": [
       "array([[1, 2],\n",
       "       [2, 4]])"
      ]
     },
     "execution_count": 72,
     "metadata": {},
     "output_type": "execute_result"
    }
   ],
   "source": [
    "a1 = np.array([[1,2],[2,4]])\n",
    "a1"
   ]
  },
  {
   "cell_type": "code",
   "execution_count": 73,
   "id": "d9a6f23d",
   "metadata": {},
   "outputs": [
    {
     "data": {
      "text/plain": [
       "1"
      ]
     },
     "execution_count": 73,
     "metadata": {},
     "output_type": "execute_result"
    }
   ],
   "source": [
    "np.linalg.matrix_rank(a1)"
   ]
  },
  {
   "cell_type": "code",
   "execution_count": 74,
   "id": "dd3cd367",
   "metadata": {},
   "outputs": [
    {
     "data": {
      "text/plain": [
       "array([[1, 2],\n",
       "       [3, 4]])"
      ]
     },
     "execution_count": 74,
     "metadata": {},
     "output_type": "execute_result"
    }
   ],
   "source": [
    "a2 = np.array([[1,2],[3,4]])\n",
    "a2"
   ]
  },
  {
   "cell_type": "code",
   "execution_count": 75,
   "id": "d0981872",
   "metadata": {},
   "outputs": [
    {
     "data": {
      "text/plain": [
       "2"
      ]
     },
     "execution_count": 75,
     "metadata": {},
     "output_type": "execute_result"
    }
   ],
   "source": [
    "np.linalg.matrix_rank(a2)"
   ]
  },
  {
   "cell_type": "code",
   "execution_count": 80,
   "id": "0f9c7a4e",
   "metadata": {},
   "outputs": [
    {
     "data": {
      "text/plain": [
       "2"
      ]
     },
     "execution_count": 80,
     "metadata": {},
     "output_type": "execute_result"
    }
   ],
   "source": [
    "a3 = np.array([[1,2,3],[4,5,6],[7,8,9]])\n",
    "np.linalg.matrix_rank(a3)"
   ]
  },
  {
   "cell_type": "code",
   "execution_count": 81,
   "id": "40d7b5a8",
   "metadata": {},
   "outputs": [
    {
     "data": {
      "text/plain": [
       "array([[1, 2, 3],\n",
       "       [4, 5, 6],\n",
       "       [7, 8, 9]])"
      ]
     },
     "execution_count": 81,
     "metadata": {},
     "output_type": "execute_result"
    }
   ],
   "source": [
    "a3"
   ]
  },
  {
   "cell_type": "markdown",
   "id": "03771ce0",
   "metadata": {},
   "source": [
    "### Row Matrix"
   ]
  },
  {
   "cell_type": "code",
   "execution_count": 83,
   "id": "7127e6b9",
   "metadata": {},
   "outputs": [
    {
     "data": {
      "text/plain": [
       "array([[1, 2, 3],\n",
       "       [4, 5, 6],\n",
       "       [7, 8, 9]])"
      ]
     },
     "execution_count": 83,
     "metadata": {},
     "output_type": "execute_result"
    }
   ],
   "source": [
    "a3"
   ]
  },
  {
   "cell_type": "code",
   "execution_count": 86,
   "id": "c250c8ed",
   "metadata": {},
   "outputs": [
    {
     "data": {
      "text/plain": [
       "array([[1, 2, 3, 4, 5, 6, 7, 8, 9]])"
      ]
     },
     "execution_count": 86,
     "metadata": {},
     "output_type": "execute_result"
    }
   ],
   "source": [
    "R = a3.reshape(1,-1)\n",
    "R"
   ]
  },
  {
   "cell_type": "code",
   "execution_count": 87,
   "id": "2318124e",
   "metadata": {},
   "outputs": [
    {
     "data": {
      "text/plain": [
       "(1, 9)"
      ]
     },
     "execution_count": 87,
     "metadata": {},
     "output_type": "execute_result"
    }
   ],
   "source": [
    "R.shape"
   ]
  },
  {
   "cell_type": "markdown",
   "id": "06679594",
   "metadata": {},
   "source": [
    "### Column Matrix"
   ]
  },
  {
   "cell_type": "code",
   "execution_count": 89,
   "id": "11fb5dc8",
   "metadata": {},
   "outputs": [
    {
     "data": {
      "text/plain": [
       "array([[1],\n",
       "       [2],\n",
       "       [3],\n",
       "       [4],\n",
       "       [5],\n",
       "       [6],\n",
       "       [7],\n",
       "       [8],\n",
       "       [9]])"
      ]
     },
     "execution_count": 89,
     "metadata": {},
     "output_type": "execute_result"
    }
   ],
   "source": [
    "C = R.T\n",
    "C"
   ]
  },
  {
   "cell_type": "code",
   "execution_count": 90,
   "id": "81d90b52",
   "metadata": {},
   "outputs": [
    {
     "data": {
      "text/plain": [
       "array([[1],\n",
       "       [2],\n",
       "       [3],\n",
       "       [4],\n",
       "       [5],\n",
       "       [6],\n",
       "       [7],\n",
       "       [8],\n",
       "       [9]])"
      ]
     },
     "execution_count": 90,
     "metadata": {},
     "output_type": "execute_result"
    }
   ],
   "source": [
    "C1 = R.reshape(-1,1)\n",
    "C1"
   ]
  },
  {
   "cell_type": "code",
   "execution_count": 91,
   "id": "54c9b072",
   "metadata": {},
   "outputs": [
    {
     "data": {
      "text/plain": [
       "(9, 1)"
      ]
     },
     "execution_count": 91,
     "metadata": {},
     "output_type": "execute_result"
    }
   ],
   "source": [
    "C.shape"
   ]
  },
  {
   "cell_type": "markdown",
   "id": "91c1cd11",
   "metadata": {},
   "source": [
    "### Square Matrix"
   ]
  },
  {
   "cell_type": "code",
   "execution_count": 98,
   "id": "7785fe66",
   "metadata": {},
   "outputs": [],
   "source": [
    "def isSquareMatrix(a3):\n",
    "    if a3.shape[0] == a3.shape[1]:\n",
    "        return True\n",
    "    else:\n",
    "        return False"
   ]
  },
  {
   "cell_type": "code",
   "execution_count": 100,
   "id": "4f9319f9",
   "metadata": {},
   "outputs": [
    {
     "data": {
      "text/plain": [
       "True"
      ]
     },
     "execution_count": 100,
     "metadata": {},
     "output_type": "execute_result"
    }
   ],
   "source": [
    "isSquareMatrix(a3)"
   ]
  },
  {
   "cell_type": "code",
   "execution_count": 106,
   "id": "f98d5c28",
   "metadata": {},
   "outputs": [],
   "source": [
    "s=np.zeros([4,4], dtype=np.int8)\n",
    "s = s+4"
   ]
  },
  {
   "cell_type": "code",
   "execution_count": 107,
   "id": "c9f0863b",
   "metadata": {},
   "outputs": [
    {
     "data": {
      "text/plain": [
       "array([[4, 4, 4, 4],\n",
       "       [4, 4, 4, 4],\n",
       "       [4, 4, 4, 4],\n",
       "       [4, 4, 4, 4]], dtype=int8)"
      ]
     },
     "execution_count": 107,
     "metadata": {},
     "output_type": "execute_result"
    }
   ],
   "source": [
    "s"
   ]
  },
  {
   "cell_type": "markdown",
   "id": "ddbbae91",
   "metadata": {},
   "source": [
    "### Rectangular Matrix"
   ]
  },
  {
   "cell_type": "code",
   "execution_count": 110,
   "id": "e220890f",
   "metadata": {},
   "outputs": [],
   "source": [
    "def isRectangularMatrix(a3):\n",
    "    if a3.shape[0] != a3.shape[1]:\n",
    "        return True\n",
    "    else:\n",
    "        return False"
   ]
  },
  {
   "cell_type": "code",
   "execution_count": 111,
   "id": "f0a63494",
   "metadata": {},
   "outputs": [
    {
     "data": {
      "text/plain": [
       "False"
      ]
     },
     "execution_count": 111,
     "metadata": {},
     "output_type": "execute_result"
    }
   ],
   "source": [
    "isRectangularMatrix(a3)"
   ]
  },
  {
   "cell_type": "code",
   "execution_count": 112,
   "id": "36e2b11f",
   "metadata": {},
   "outputs": [
    {
     "data": {
      "text/plain": [
       "array([[1, 2, 3],\n",
       "       [4, 5, 6],\n",
       "       [7, 8, 9]])"
      ]
     },
     "execution_count": 112,
     "metadata": {},
     "output_type": "execute_result"
    }
   ],
   "source": [
    "a3"
   ]
  },
  {
   "cell_type": "code",
   "execution_count": 113,
   "id": "528ebfef",
   "metadata": {},
   "outputs": [
    {
     "data": {
      "text/plain": [
       "True"
      ]
     },
     "execution_count": 113,
     "metadata": {},
     "output_type": "execute_result"
    }
   ],
   "source": [
    "isRectangularMatrix(C)"
   ]
  },
  {
   "cell_type": "code",
   "execution_count": 114,
   "id": "b0272324",
   "metadata": {},
   "outputs": [
    {
     "data": {
      "text/plain": [
       "False"
      ]
     },
     "execution_count": 114,
     "metadata": {},
     "output_type": "execute_result"
    }
   ],
   "source": [
    "isRectangularMatrix(m1)"
   ]
  },
  {
   "cell_type": "code",
   "execution_count": 120,
   "id": "5ac3b4f3",
   "metadata": {},
   "outputs": [
    {
     "data": {
      "text/plain": [
       "array([[4, 0, 0, 0],\n",
       "       [0, 4, 0, 0],\n",
       "       [0, 0, 4, 0],\n",
       "       [0, 0, 0, 4]], dtype=int8)"
      ]
     },
     "execution_count": 120,
     "metadata": {},
     "output_type": "execute_result"
    }
   ],
   "source": [
    "b=np.zeros([4,4], dtype=np.int8)\n",
    "for i in range(4):\n",
    "    b[i][i] = 4\n",
    "    \n",
    "b"
   ]
  },
  {
   "cell_type": "code",
   "execution_count": 145,
   "id": "a383548c",
   "metadata": {},
   "outputs": [],
   "source": [
    "def isDiagonalMatrix(a3):\n",
    "    for i in range(a3.shape[0]):\n",
    "        for j in range(a3.shape[1]):\n",
    "            if i != j and a3[i][j] != 0:\n",
    "                return False\n",
    "    return True"
   ]
  },
  {
   "cell_type": "code",
   "execution_count": 146,
   "id": "9f30b2ae",
   "metadata": {},
   "outputs": [
    {
     "data": {
      "text/plain": [
       "False"
      ]
     },
     "execution_count": 146,
     "metadata": {},
     "output_type": "execute_result"
    }
   ],
   "source": [
    "isDiagonalMatrix(a3)"
   ]
  },
  {
   "cell_type": "code",
   "execution_count": 147,
   "id": "3d3fe5f6",
   "metadata": {},
   "outputs": [
    {
     "data": {
      "text/plain": [
       "array([[1, 2, 3],\n",
       "       [4, 5, 6],\n",
       "       [7, 8, 9]])"
      ]
     },
     "execution_count": 147,
     "metadata": {},
     "output_type": "execute_result"
    }
   ],
   "source": [
    "a3"
   ]
  },
  {
   "cell_type": "markdown",
   "id": "648d9816",
   "metadata": {},
   "source": [
    "### Identity Matrix"
   ]
  },
  {
   "cell_type": "code",
   "execution_count": 148,
   "id": "ddbe71e1",
   "metadata": {},
   "outputs": [
    {
     "data": {
      "text/plain": [
       "array([[1, 0, 0, 0],\n",
       "       [0, 1, 0, 0],\n",
       "       [0, 0, 1, 0],\n",
       "       [0, 0, 0, 1]], dtype=int8)"
      ]
     },
     "execution_count": 148,
     "metadata": {},
     "output_type": "execute_result"
    }
   ],
   "source": [
    "I = np.zeros([4,4], dtype=np.int8)\n",
    "for i in range(4):\n",
    "    I[i][i] = 1\n",
    "    \n",
    "I"
   ]
  },
  {
   "cell_type": "code",
   "execution_count": 149,
   "id": "3e0b4805",
   "metadata": {},
   "outputs": [
    {
     "data": {
      "text/plain": [
       "array([1, 1, 1, 1], dtype=int8)"
      ]
     },
     "execution_count": 149,
     "metadata": {},
     "output_type": "execute_result"
    }
   ],
   "source": [
    "np.diag(I)"
   ]
  },
  {
   "cell_type": "markdown",
   "id": "5471a5e8",
   "metadata": {},
   "source": [
    "### Symmetric Matrix"
   ]
  },
  {
   "cell_type": "code",
   "execution_count": 155,
   "id": "7a041862",
   "metadata": {},
   "outputs": [
    {
     "data": {
      "text/plain": [
       "array([[2, 3, 6],\n",
       "       [3, 4, 5],\n",
       "       [6, 5, 9]])"
      ]
     },
     "execution_count": 155,
     "metadata": {},
     "output_type": "execute_result"
    }
   ],
   "source": [
    "S1 = np.array([[2,3,6],[3,4,5],[6,5,9]])\n",
    "S1"
   ]
  },
  {
   "cell_type": "code",
   "execution_count": 171,
   "id": "462db7c4",
   "metadata": {},
   "outputs": [
    {
     "data": {
      "text/plain": [
       "9"
      ]
     },
     "execution_count": 171,
     "metadata": {},
     "output_type": "execute_result"
    }
   ],
   "source": [
    "(S1 == S1.T).sum()"
   ]
  },
  {
   "cell_type": "code",
   "execution_count": 173,
   "id": "1af33713",
   "metadata": {},
   "outputs": [
    {
     "data": {
      "text/plain": [
       "9"
      ]
     },
     "execution_count": 173,
     "metadata": {},
     "output_type": "execute_result"
    }
   ],
   "source": [
    "S1.size"
   ]
  },
  {
   "cell_type": "code",
   "execution_count": 174,
   "id": "a5e96b72",
   "metadata": {},
   "outputs": [
    {
     "data": {
      "text/plain": [
       "True"
      ]
     },
     "execution_count": 174,
     "metadata": {},
     "output_type": "execute_result"
    }
   ],
   "source": [
    "((S1 == S1.T).sum()) == S1.size"
   ]
  },
  {
   "cell_type": "code",
   "execution_count": 177,
   "id": "ed7484d7",
   "metadata": {},
   "outputs": [],
   "source": [
    "def isSymmetric(S1):\n",
    "    if (S1 == S1.T).sum() == S1.size:\n",
    "        return True\n",
    "    return False"
   ]
  },
  {
   "cell_type": "code",
   "execution_count": 178,
   "id": "c7f478cc",
   "metadata": {},
   "outputs": [
    {
     "data": {
      "text/plain": [
       "True"
      ]
     },
     "execution_count": 178,
     "metadata": {},
     "output_type": "execute_result"
    }
   ],
   "source": [
    "isSymmetric(S1)"
   ]
  },
  {
   "cell_type": "markdown",
   "id": "971f16d4",
   "metadata": {},
   "source": [
    "### Skew-Symmetric Matrix"
   ]
  },
  {
   "cell_type": "code",
   "execution_count": 179,
   "id": "18f49804",
   "metadata": {},
   "outputs": [
    {
     "data": {
      "text/plain": [
       "array([[ 0,  3],\n",
       "       [-3,  0]])"
      ]
     },
     "execution_count": 179,
     "metadata": {},
     "output_type": "execute_result"
    }
   ],
   "source": [
    "S2 = np.array([[0,3],[-3,0]])\n",
    "S2"
   ]
  },
  {
   "cell_type": "code",
   "execution_count": 180,
   "id": "c6f5b2c0",
   "metadata": {},
   "outputs": [
    {
     "data": {
      "text/plain": [
       "array([[ 0, -3],\n",
       "       [ 3,  0]])"
      ]
     },
     "execution_count": 180,
     "metadata": {},
     "output_type": "execute_result"
    }
   ],
   "source": [
    "-S2"
   ]
  },
  {
   "cell_type": "code",
   "execution_count": 181,
   "id": "2a81defa",
   "metadata": {},
   "outputs": [
    {
     "data": {
      "text/plain": [
       "array([[ 0, -3],\n",
       "       [ 3,  0]])"
      ]
     },
     "execution_count": 181,
     "metadata": {},
     "output_type": "execute_result"
    }
   ],
   "source": [
    "S2.T"
   ]
  },
  {
   "cell_type": "code",
   "execution_count": 188,
   "id": "3a4cd35a",
   "metadata": {},
   "outputs": [],
   "source": [
    "def isSkewSymmetric(S2):\n",
    "    if (-S2 == S2.T).sum() == S2.size:\n",
    "        return True\n",
    "    return False"
   ]
  },
  {
   "cell_type": "code",
   "execution_count": 191,
   "id": "3701b45e",
   "metadata": {},
   "outputs": [
    {
     "data": {
      "text/plain": [
       "True"
      ]
     },
     "execution_count": 191,
     "metadata": {},
     "output_type": "execute_result"
    }
   ],
   "source": [
    "isSkewSymmetric(S2)"
   ]
  },
  {
   "cell_type": "markdown",
   "id": "645a2d2a",
   "metadata": {},
   "source": [
    "### Eigen Vectors"
   ]
  },
  {
   "cell_type": "code",
   "execution_count": 193,
   "id": "ce8d98fd",
   "metadata": {},
   "outputs": [
    {
     "name": "stdout",
     "output_type": "stream",
     "text": [
      "Eigenvalues:\n",
      "[-7.  6.]\n",
      "Eigenvectors:\n",
      "[[-0.9486833  -0.24253563]\n",
      " [ 0.31622777 -0.9701425 ]]\n"
     ]
    }
   ],
   "source": [
    "A = np.array([[-6,3],[4,5]])\n",
    "\n",
    "eigenvalues, eigenvectors = np.linalg.eig(A)\n",
    "\n",
    "print(\"Eigenvalues:\")\n",
    "print(eigenvalues)\n",
    "\n",
    "print(\"Eigenvectors:\")\n",
    "print(eigenvectors)"
   ]
  },
  {
   "cell_type": "code",
   "execution_count": 201,
   "id": "2e3b2bfb",
   "metadata": {},
   "outputs": [
    {
     "data": {
      "text/plain": [
       "array([[ 6.64078309, -1.45521375],\n",
       "       [-2.21359436, -5.820855  ]])"
      ]
     },
     "execution_count": 201,
     "metadata": {},
     "output_type": "execute_result"
    }
   ],
   "source": [
    "A @ eigenvectors"
   ]
  },
  {
   "cell_type": "code",
   "execution_count": 202,
   "id": "1555da7f",
   "metadata": {},
   "outputs": [
    {
     "data": {
      "text/plain": [
       "array([[ 6.64078309, -1.45521375],\n",
       "       [-2.21359436, -5.820855  ]])"
      ]
     },
     "execution_count": 202,
     "metadata": {},
     "output_type": "execute_result"
    }
   ],
   "source": [
    "eigenvalues * eigenvectors"
   ]
  },
  {
   "cell_type": "code",
   "execution_count": null,
   "id": "58b1abde",
   "metadata": {},
   "outputs": [],
   "source": []
  },
  {
   "cell_type": "code",
   "execution_count": null,
   "id": "c3d250ab",
   "metadata": {},
   "outputs": [],
   "source": []
  },
  {
   "cell_type": "code",
   "execution_count": null,
   "id": "e73dd66d",
   "metadata": {},
   "outputs": [],
   "source": []
  },
  {
   "cell_type": "code",
   "execution_count": null,
   "id": "14ad5493",
   "metadata": {},
   "outputs": [],
   "source": []
  },
  {
   "cell_type": "code",
   "execution_count": null,
   "id": "c6d450d5",
   "metadata": {},
   "outputs": [],
   "source": []
  },
  {
   "cell_type": "code",
   "execution_count": null,
   "id": "a2025c32",
   "metadata": {},
   "outputs": [],
   "source": []
  },
  {
   "cell_type": "code",
   "execution_count": null,
   "id": "dcdbe72e",
   "metadata": {},
   "outputs": [],
   "source": []
  },
  {
   "cell_type": "code",
   "execution_count": null,
   "id": "51512590",
   "metadata": {},
   "outputs": [],
   "source": []
  },
  {
   "cell_type": "code",
   "execution_count": null,
   "id": "6997a5d9",
   "metadata": {},
   "outputs": [],
   "source": []
  },
  {
   "cell_type": "code",
   "execution_count": null,
   "id": "f71da94a",
   "metadata": {},
   "outputs": [],
   "source": []
  },
  {
   "cell_type": "code",
   "execution_count": null,
   "id": "bde4f137",
   "metadata": {},
   "outputs": [],
   "source": []
  },
  {
   "cell_type": "code",
   "execution_count": null,
   "id": "45826718",
   "metadata": {},
   "outputs": [],
   "source": []
  },
  {
   "cell_type": "code",
   "execution_count": null,
   "id": "f8afa2db",
   "metadata": {},
   "outputs": [],
   "source": []
  },
  {
   "cell_type": "code",
   "execution_count": null,
   "id": "0c8d94ef",
   "metadata": {},
   "outputs": [],
   "source": []
  },
  {
   "cell_type": "code",
   "execution_count": null,
   "id": "c7e3e036",
   "metadata": {},
   "outputs": [],
   "source": []
  },
  {
   "cell_type": "code",
   "execution_count": null,
   "id": "377b9db3",
   "metadata": {},
   "outputs": [],
   "source": []
  },
  {
   "cell_type": "code",
   "execution_count": null,
   "id": "9f97757e",
   "metadata": {},
   "outputs": [],
   "source": []
  },
  {
   "cell_type": "code",
   "execution_count": null,
   "id": "8b17e451",
   "metadata": {},
   "outputs": [],
   "source": []
  }
 ],
 "metadata": {
  "kernelspec": {
   "display_name": "Python 3 (ipykernel)",
   "language": "python",
   "name": "python3"
  },
  "language_info": {
   "codemirror_mode": {
    "name": "ipython",
    "version": 3
   },
   "file_extension": ".py",
   "mimetype": "text/x-python",
   "name": "python",
   "nbconvert_exporter": "python",
   "pygments_lexer": "ipython3",
   "version": "3.11.5"
  }
 },
 "nbformat": 4,
 "nbformat_minor": 5
}
