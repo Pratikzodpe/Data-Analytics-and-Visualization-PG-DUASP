{
 "cells": [
  {
   "cell_type": "code",
   "execution_count": 1,
   "id": "be31a092",
   "metadata": {},
   "outputs": [
    {
     "name": "stderr",
     "output_type": "stream",
     "text": [
      "C:\\Users\\duasp\\AppData\\Roaming\\Python\\Python311\\site-packages\\pandas\\core\\arrays\\masked.py:60: UserWarning: Pandas requires version '1.3.6' or newer of 'bottleneck' (version '1.3.5' currently installed).\n",
      "  from pandas.core import (\n"
     ]
    }
   ],
   "source": [
    "import numpy as np\n",
    "import matplotlib.pyplot as plt\n",
    "import seaborn as sns\n",
    "import pandas as pd"
   ]
  },
  {
   "cell_type": "code",
   "execution_count": 2,
   "id": "cc9f0d9f",
   "metadata": {},
   "outputs": [
    {
     "data": {
      "text/html": [
       "<div>\n",
       "<style scoped>\n",
       "    .dataframe tbody tr th:only-of-type {\n",
       "        vertical-align: middle;\n",
       "    }\n",
       "\n",
       "    .dataframe tbody tr th {\n",
       "        vertical-align: top;\n",
       "    }\n",
       "\n",
       "    .dataframe thead th {\n",
       "        text-align: right;\n",
       "    }\n",
       "</style>\n",
       "<table border=\"1\" class=\"dataframe\">\n",
       "  <thead>\n",
       "    <tr style=\"text-align: right;\">\n",
       "      <th></th>\n",
       "      <th>Loan_ID</th>\n",
       "      <th>Gender</th>\n",
       "      <th>Married</th>\n",
       "      <th>Dependents</th>\n",
       "      <th>Education</th>\n",
       "      <th>Self_Employed</th>\n",
       "      <th>ApplicantIncome</th>\n",
       "      <th>CoapplicantIncome</th>\n",
       "      <th>LoanAmount</th>\n",
       "      <th>Loan_Amount_Term</th>\n",
       "      <th>Credit_History</th>\n",
       "      <th>Property_Area</th>\n",
       "      <th>Loan_Status</th>\n",
       "    </tr>\n",
       "  </thead>\n",
       "  <tbody>\n",
       "    <tr>\n",
       "      <th>0</th>\n",
       "      <td>LP001002</td>\n",
       "      <td>Male</td>\n",
       "      <td>No</td>\n",
       "      <td>0</td>\n",
       "      <td>Graduate</td>\n",
       "      <td>No</td>\n",
       "      <td>5849</td>\n",
       "      <td>0.0</td>\n",
       "      <td>NaN</td>\n",
       "      <td>360.0</td>\n",
       "      <td>1.0</td>\n",
       "      <td>Urban</td>\n",
       "      <td>Y</td>\n",
       "    </tr>\n",
       "    <tr>\n",
       "      <th>1</th>\n",
       "      <td>LP001003</td>\n",
       "      <td>Male</td>\n",
       "      <td>Yes</td>\n",
       "      <td>1</td>\n",
       "      <td>Graduate</td>\n",
       "      <td>No</td>\n",
       "      <td>4583</td>\n",
       "      <td>1508.0</td>\n",
       "      <td>128.0</td>\n",
       "      <td>360.0</td>\n",
       "      <td>1.0</td>\n",
       "      <td>Rural</td>\n",
       "      <td>N</td>\n",
       "    </tr>\n",
       "    <tr>\n",
       "      <th>2</th>\n",
       "      <td>LP001005</td>\n",
       "      <td>Male</td>\n",
       "      <td>Yes</td>\n",
       "      <td>0</td>\n",
       "      <td>Graduate</td>\n",
       "      <td>Yes</td>\n",
       "      <td>3000</td>\n",
       "      <td>0.0</td>\n",
       "      <td>66.0</td>\n",
       "      <td>360.0</td>\n",
       "      <td>1.0</td>\n",
       "      <td>Urban</td>\n",
       "      <td>Y</td>\n",
       "    </tr>\n",
       "    <tr>\n",
       "      <th>3</th>\n",
       "      <td>LP001006</td>\n",
       "      <td>Male</td>\n",
       "      <td>Yes</td>\n",
       "      <td>0</td>\n",
       "      <td>Not Graduate</td>\n",
       "      <td>No</td>\n",
       "      <td>2583</td>\n",
       "      <td>2358.0</td>\n",
       "      <td>120.0</td>\n",
       "      <td>360.0</td>\n",
       "      <td>1.0</td>\n",
       "      <td>Urban</td>\n",
       "      <td>Y</td>\n",
       "    </tr>\n",
       "    <tr>\n",
       "      <th>4</th>\n",
       "      <td>LP001008</td>\n",
       "      <td>Male</td>\n",
       "      <td>No</td>\n",
       "      <td>0</td>\n",
       "      <td>Graduate</td>\n",
       "      <td>No</td>\n",
       "      <td>6000</td>\n",
       "      <td>0.0</td>\n",
       "      <td>141.0</td>\n",
       "      <td>360.0</td>\n",
       "      <td>1.0</td>\n",
       "      <td>Urban</td>\n",
       "      <td>Y</td>\n",
       "    </tr>\n",
       "    <tr>\n",
       "      <th>...</th>\n",
       "      <td>...</td>\n",
       "      <td>...</td>\n",
       "      <td>...</td>\n",
       "      <td>...</td>\n",
       "      <td>...</td>\n",
       "      <td>...</td>\n",
       "      <td>...</td>\n",
       "      <td>...</td>\n",
       "      <td>...</td>\n",
       "      <td>...</td>\n",
       "      <td>...</td>\n",
       "      <td>...</td>\n",
       "      <td>...</td>\n",
       "    </tr>\n",
       "    <tr>\n",
       "      <th>609</th>\n",
       "      <td>LP002978</td>\n",
       "      <td>Female</td>\n",
       "      <td>No</td>\n",
       "      <td>0</td>\n",
       "      <td>Graduate</td>\n",
       "      <td>No</td>\n",
       "      <td>2900</td>\n",
       "      <td>0.0</td>\n",
       "      <td>71.0</td>\n",
       "      <td>360.0</td>\n",
       "      <td>1.0</td>\n",
       "      <td>Rural</td>\n",
       "      <td>Y</td>\n",
       "    </tr>\n",
       "    <tr>\n",
       "      <th>610</th>\n",
       "      <td>LP002979</td>\n",
       "      <td>Male</td>\n",
       "      <td>Yes</td>\n",
       "      <td>3+</td>\n",
       "      <td>Graduate</td>\n",
       "      <td>No</td>\n",
       "      <td>4106</td>\n",
       "      <td>0.0</td>\n",
       "      <td>40.0</td>\n",
       "      <td>180.0</td>\n",
       "      <td>1.0</td>\n",
       "      <td>Rural</td>\n",
       "      <td>Y</td>\n",
       "    </tr>\n",
       "    <tr>\n",
       "      <th>611</th>\n",
       "      <td>LP002983</td>\n",
       "      <td>Male</td>\n",
       "      <td>Yes</td>\n",
       "      <td>1</td>\n",
       "      <td>Graduate</td>\n",
       "      <td>No</td>\n",
       "      <td>8072</td>\n",
       "      <td>240.0</td>\n",
       "      <td>253.0</td>\n",
       "      <td>360.0</td>\n",
       "      <td>1.0</td>\n",
       "      <td>Urban</td>\n",
       "      <td>Y</td>\n",
       "    </tr>\n",
       "    <tr>\n",
       "      <th>612</th>\n",
       "      <td>LP002984</td>\n",
       "      <td>Male</td>\n",
       "      <td>Yes</td>\n",
       "      <td>2</td>\n",
       "      <td>Graduate</td>\n",
       "      <td>No</td>\n",
       "      <td>7583</td>\n",
       "      <td>0.0</td>\n",
       "      <td>187.0</td>\n",
       "      <td>360.0</td>\n",
       "      <td>1.0</td>\n",
       "      <td>Urban</td>\n",
       "      <td>Y</td>\n",
       "    </tr>\n",
       "    <tr>\n",
       "      <th>613</th>\n",
       "      <td>LP002990</td>\n",
       "      <td>Female</td>\n",
       "      <td>No</td>\n",
       "      <td>0</td>\n",
       "      <td>Graduate</td>\n",
       "      <td>Yes</td>\n",
       "      <td>4583</td>\n",
       "      <td>0.0</td>\n",
       "      <td>133.0</td>\n",
       "      <td>360.0</td>\n",
       "      <td>0.0</td>\n",
       "      <td>Semiurban</td>\n",
       "      <td>N</td>\n",
       "    </tr>\n",
       "  </tbody>\n",
       "</table>\n",
       "<p>614 rows × 13 columns</p>\n",
       "</div>"
      ],
      "text/plain": [
       "      Loan_ID  Gender Married Dependents     Education Self_Employed  \\\n",
       "0    LP001002    Male      No          0      Graduate            No   \n",
       "1    LP001003    Male     Yes          1      Graduate            No   \n",
       "2    LP001005    Male     Yes          0      Graduate           Yes   \n",
       "3    LP001006    Male     Yes          0  Not Graduate            No   \n",
       "4    LP001008    Male      No          0      Graduate            No   \n",
       "..        ...     ...     ...        ...           ...           ...   \n",
       "609  LP002978  Female      No          0      Graduate            No   \n",
       "610  LP002979    Male     Yes         3+      Graduate            No   \n",
       "611  LP002983    Male     Yes          1      Graduate            No   \n",
       "612  LP002984    Male     Yes          2      Graduate            No   \n",
       "613  LP002990  Female      No          0      Graduate           Yes   \n",
       "\n",
       "     ApplicantIncome  CoapplicantIncome  LoanAmount  Loan_Amount_Term  \\\n",
       "0               5849                0.0         NaN             360.0   \n",
       "1               4583             1508.0       128.0             360.0   \n",
       "2               3000                0.0        66.0             360.0   \n",
       "3               2583             2358.0       120.0             360.0   \n",
       "4               6000                0.0       141.0             360.0   \n",
       "..               ...                ...         ...               ...   \n",
       "609             2900                0.0        71.0             360.0   \n",
       "610             4106                0.0        40.0             180.0   \n",
       "611             8072              240.0       253.0             360.0   \n",
       "612             7583                0.0       187.0             360.0   \n",
       "613             4583                0.0       133.0             360.0   \n",
       "\n",
       "     Credit_History Property_Area Loan_Status  \n",
       "0               1.0         Urban           Y  \n",
       "1               1.0         Rural           N  \n",
       "2               1.0         Urban           Y  \n",
       "3               1.0         Urban           Y  \n",
       "4               1.0         Urban           Y  \n",
       "..              ...           ...         ...  \n",
       "609             1.0         Rural           Y  \n",
       "610             1.0         Rural           Y  \n",
       "611             1.0         Urban           Y  \n",
       "612             1.0         Urban           Y  \n",
       "613             0.0     Semiurban           N  \n",
       "\n",
       "[614 rows x 13 columns]"
      ]
     },
     "execution_count": 2,
     "metadata": {},
     "output_type": "execute_result"
    }
   ],
   "source": [
    "df =pd.read_csv('loan-prediction.csv')\n",
    "df"
   ]
  },
  {
   "cell_type": "code",
   "execution_count": 3,
   "id": "76175c51",
   "metadata": {},
   "outputs": [
    {
     "data": {
      "text/plain": [
       "Index(['Loan_ID', 'Gender', 'Married', 'Dependents', 'Education',\n",
       "       'Self_Employed', 'ApplicantIncome', 'CoapplicantIncome', 'LoanAmount',\n",
       "       'Loan_Amount_Term', 'Credit_History', 'Property_Area', 'Loan_Status'],\n",
       "      dtype='object')"
      ]
     },
     "execution_count": 3,
     "metadata": {},
     "output_type": "execute_result"
    }
   ],
   "source": [
    "df.columns"
   ]
  },
  {
   "cell_type": "code",
   "execution_count": 4,
   "id": "6172dfe8",
   "metadata": {},
   "outputs": [],
   "source": [
    "x =df[['Gender', 'Married', 'Dependents', 'Education',\n",
    "       'Self_Employed', 'ApplicantIncome', 'CoapplicantIncome', 'LoanAmount',\n",
    "       'Loan_Amount_Term', 'Credit_History', 'Property_Area']]\n",
    "\n",
    "y =df['Loan_Status']"
   ]
  },
  {
   "cell_type": "code",
   "execution_count": 5,
   "id": "66704c33",
   "metadata": {},
   "outputs": [
    {
     "data": {
      "text/plain": [
       "(614, 11)"
      ]
     },
     "execution_count": 5,
     "metadata": {},
     "output_type": "execute_result"
    }
   ],
   "source": [
    "x.shape"
   ]
  },
  {
   "cell_type": "code",
   "execution_count": 6,
   "id": "ca9cfa7a",
   "metadata": {},
   "outputs": [
    {
     "data": {
      "text/plain": [
       "Loan_Status\n",
       "Y    422\n",
       "N    192\n",
       "Name: count, dtype: int64"
      ]
     },
     "execution_count": 6,
     "metadata": {},
     "output_type": "execute_result"
    }
   ],
   "source": [
    "y.value_counts()"
   ]
  },
  {
   "cell_type": "code",
   "execution_count": 7,
   "id": "b06d7d73",
   "metadata": {},
   "outputs": [
    {
     "data": {
      "image/png": "[encoded data removed]",
      "text/plain": [
       "<Figure size 640x480 with 1 Axes>"
      ]
     },
     "metadata": {},
     "output_type": "display_data"
    }
   ],
   "source": [
    "plt.pie(y.value_counts(), labels=y.value_counts().index,autopct='%2.2f%%');"
   ]
  },
  {
   "cell_type": "code",
   "execution_count": 8,
   "id": "dcdbad23",
   "metadata": {},
   "outputs": [
    {
     "data": {
      "text/plain": [
       "Gender               601\n",
       "Married              611\n",
       "Dependents           599\n",
       "Education            614\n",
       "Self_Employed        582\n",
       "ApplicantIncome      614\n",
       "CoapplicantIncome    614\n",
       "LoanAmount           592\n",
       "Loan_Amount_Term     600\n",
       "Credit_History       564\n",
       "Property_Area        614\n",
       "dtype: int64"
      ]
     },
     "execution_count": 8,
     "metadata": {},
     "output_type": "execute_result"
    }
   ],
   "source": [
    "x.count()"
   ]
  },
  {
   "cell_type": "code",
   "execution_count": 9,
   "id": "cee14b60",
   "metadata": {},
   "outputs": [
    {
     "data": {
      "text/plain": [
       "Gender               13\n",
       "Married               3\n",
       "Dependents           15\n",
       "Education             0\n",
       "Self_Employed        32\n",
       "ApplicantIncome       0\n",
       "CoapplicantIncome     0\n",
       "LoanAmount           22\n",
       "Loan_Amount_Term     14\n",
       "Credit_History       50\n",
       "Property_Area         0\n",
       "dtype: int64"
      ]
     },
     "execution_count": 9,
     "metadata": {},
     "output_type": "execute_result"
    }
   ],
   "source": [
    "x.isnull().sum()"
   ]
  },
  {
   "cell_type": "code",
   "execution_count": 10,
   "id": "39de46f5",
   "metadata": {},
   "outputs": [],
   "source": [
    "df.dropna(inplace=True)"
   ]
  },
  {
   "cell_type": "code",
   "execution_count": 11,
   "id": "9bf7f67b",
   "metadata": {},
   "outputs": [],
   "source": [
    "x = df.drop(['Loan_ID','Loan_Status'], axis = 1)\n",
    "y = df['Loan_Status']"
   ]
  },
  {
   "cell_type": "code",
   "execution_count": 12,
   "id": "88556318",
   "metadata": {},
   "outputs": [
    {
     "data": {
      "text/plain": [
       "(480, 11)"
      ]
     },
     "execution_count": 12,
     "metadata": {},
     "output_type": "execute_result"
    }
   ],
   "source": [
    "x.shape"
   ]
  },
  {
   "cell_type": "code",
   "execution_count": 13,
   "id": "3cc0b853",
   "metadata": {},
   "outputs": [
    {
     "data": {
      "text/plain": [
       "Gender                object\n",
       "Married               object\n",
       "Dependents            object\n",
       "Education             object\n",
       "Self_Employed         object\n",
       "ApplicantIncome        int64\n",
       "CoapplicantIncome    float64\n",
       "LoanAmount           float64\n",
       "Loan_Amount_Term     float64\n",
       "Credit_History       float64\n",
       "Property_Area         object\n",
       "dtype: object"
      ]
     },
     "execution_count": 13,
     "metadata": {},
     "output_type": "execute_result"
    }
   ],
   "source": [
    "x.dtypes"
   ]
  },
  {
   "cell_type": "code",
   "execution_count": 14,
   "id": "2b641f39",
   "metadata": {},
   "outputs": [],
   "source": [
    "x_new = pd.get_dummies(x)"
   ]
  },
  {
   "cell_type": "code",
   "execution_count": 15,
   "id": "df54a90f",
   "metadata": {},
   "outputs": [
    {
     "data": {
      "text/plain": [
       "Index(['ApplicantIncome', 'CoapplicantIncome', 'LoanAmount',\n",
       "       'Loan_Amount_Term', 'Credit_History', 'Gender_Female', 'Gender_Male',\n",
       "       'Married_No', 'Married_Yes', 'Dependents_0', 'Dependents_1',\n",
       "       'Dependents_2', 'Dependents_3+', 'Education_Graduate',\n",
       "       'Education_Not Graduate', 'Self_Employed_No', 'Self_Employed_Yes',\n",
       "       'Property_Area_Rural', 'Property_Area_Semiurban',\n",
       "       'Property_Area_Urban'],\n",
       "      dtype='object')"
      ]
     },
     "execution_count": 15,
     "metadata": {},
     "output_type": "execute_result"
    }
   ],
   "source": [
    "x_new.columns"
   ]
  },
  {
   "cell_type": "code",
   "execution_count": 16,
   "id": "c9c4c445",
   "metadata": {},
   "outputs": [
    {
     "data": {
      "text/html": [
       "<div>\n",
       "<style scoped>\n",
       "    .dataframe tbody tr th:only-of-type {\n",
       "        vertical-align: middle;\n",
       "    }\n",
       "\n",
       "    .dataframe tbody tr th {\n",
       "        vertical-align: top;\n",
       "    }\n",
       "\n",
       "    .dataframe thead th {\n",
       "        text-align: right;\n",
       "    }\n",
       "</style>\n",
       "<table border=\"1\" class=\"dataframe\">\n",
       "  <thead>\n",
       "    <tr style=\"text-align: right;\">\n",
       "      <th></th>\n",
       "      <th>ApplicantIncome</th>\n",
       "      <th>CoapplicantIncome</th>\n",
       "      <th>LoanAmount</th>\n",
       "      <th>Loan_Amount_Term</th>\n",
       "      <th>Credit_History</th>\n",
       "      <th>Gender_Female</th>\n",
       "      <th>Gender_Male</th>\n",
       "      <th>Married_No</th>\n",
       "      <th>Married_Yes</th>\n",
       "      <th>Dependents_0</th>\n",
       "      <th>Dependents_1</th>\n",
       "      <th>Dependents_2</th>\n",
       "      <th>Dependents_3+</th>\n",
       "      <th>Education_Graduate</th>\n",
       "      <th>Education_Not Graduate</th>\n",
       "      <th>Self_Employed_No</th>\n",
       "      <th>Self_Employed_Yes</th>\n",
       "      <th>Property_Area_Rural</th>\n",
       "      <th>Property_Area_Semiurban</th>\n",
       "      <th>Property_Area_Urban</th>\n",
       "    </tr>\n",
       "  </thead>\n",
       "  <tbody>\n",
       "    <tr>\n",
       "      <th>1</th>\n",
       "      <td>4583</td>\n",
       "      <td>1508.0</td>\n",
       "      <td>128.0</td>\n",
       "      <td>360.0</td>\n",
       "      <td>1.0</td>\n",
       "      <td>False</td>\n",
       "      <td>True</td>\n",
       "      <td>False</td>\n",
       "      <td>True</td>\n",
       "      <td>False</td>\n",
       "      <td>True</td>\n",
       "      <td>False</td>\n",
       "      <td>False</td>\n",
       "      <td>True</td>\n",
       "      <td>False</td>\n",
       "      <td>True</td>\n",
       "      <td>False</td>\n",
       "      <td>True</td>\n",
       "      <td>False</td>\n",
       "      <td>False</td>\n",
       "    </tr>\n",
       "    <tr>\n",
       "      <th>2</th>\n",
       "      <td>3000</td>\n",
       "      <td>0.0</td>\n",
       "      <td>66.0</td>\n",
       "      <td>360.0</td>\n",
       "      <td>1.0</td>\n",
       "      <td>False</td>\n",
       "      <td>True</td>\n",
       "      <td>False</td>\n",
       "      <td>True</td>\n",
       "      <td>True</td>\n",
       "      <td>False</td>\n",
       "      <td>False</td>\n",
       "      <td>False</td>\n",
       "      <td>True</td>\n",
       "      <td>False</td>\n",
       "      <td>False</td>\n",
       "      <td>True</td>\n",
       "      <td>False</td>\n",
       "      <td>False</td>\n",
       "      <td>True</td>\n",
       "    </tr>\n",
       "    <tr>\n",
       "      <th>3</th>\n",
       "      <td>2583</td>\n",
       "      <td>2358.0</td>\n",
       "      <td>120.0</td>\n",
       "      <td>360.0</td>\n",
       "      <td>1.0</td>\n",
       "      <td>False</td>\n",
       "      <td>True</td>\n",
       "      <td>False</td>\n",
       "      <td>True</td>\n",
       "      <td>True</td>\n",
       "      <td>False</td>\n",
       "      <td>False</td>\n",
       "      <td>False</td>\n",
       "      <td>False</td>\n",
       "      <td>True</td>\n",
       "      <td>True</td>\n",
       "      <td>False</td>\n",
       "      <td>False</td>\n",
       "      <td>False</td>\n",
       "      <td>True</td>\n",
       "    </tr>\n",
       "    <tr>\n",
       "      <th>4</th>\n",
       "      <td>6000</td>\n",
       "      <td>0.0</td>\n",
       "      <td>141.0</td>\n",
       "      <td>360.0</td>\n",
       "      <td>1.0</td>\n",
       "      <td>False</td>\n",
       "      <td>True</td>\n",
       "      <td>True</td>\n",
       "      <td>False</td>\n",
       "      <td>True</td>\n",
       "      <td>False</td>\n",
       "      <td>False</td>\n",
       "      <td>False</td>\n",
       "      <td>True</td>\n",
       "      <td>False</td>\n",
       "      <td>True</td>\n",
       "      <td>False</td>\n",
       "      <td>False</td>\n",
       "      <td>False</td>\n",
       "      <td>True</td>\n",
       "    </tr>\n",
       "    <tr>\n",
       "      <th>5</th>\n",
       "      <td>5417</td>\n",
       "      <td>4196.0</td>\n",
       "      <td>267.0</td>\n",
       "      <td>360.0</td>\n",
       "      <td>1.0</td>\n",
       "      <td>False</td>\n",
       "      <td>True</td>\n",
       "      <td>False</td>\n",
       "      <td>True</td>\n",
       "      <td>False</td>\n",
       "      <td>False</td>\n",
       "      <td>True</td>\n",
       "      <td>False</td>\n",
       "      <td>True</td>\n",
       "      <td>False</td>\n",
       "      <td>False</td>\n",
       "      <td>True</td>\n",
       "      <td>False</td>\n",
       "      <td>False</td>\n",
       "      <td>True</td>\n",
       "    </tr>\n",
       "    <tr>\n",
       "      <th>...</th>\n",
       "      <td>...</td>\n",
       "      <td>...</td>\n",
       "      <td>...</td>\n",
       "      <td>...</td>\n",
       "      <td>...</td>\n",
       "      <td>...</td>\n",
       "      <td>...</td>\n",
       "      <td>...</td>\n",
       "      <td>...</td>\n",
       "      <td>...</td>\n",
       "      <td>...</td>\n",
       "      <td>...</td>\n",
       "      <td>...</td>\n",
       "      <td>...</td>\n",
       "      <td>...</td>\n",
       "      <td>...</td>\n",
       "      <td>...</td>\n",
       "      <td>...</td>\n",
       "      <td>...</td>\n",
       "      <td>...</td>\n",
       "    </tr>\n",
       "    <tr>\n",
       "      <th>609</th>\n",
       "      <td>2900</td>\n",
       "      <td>0.0</td>\n",
       "      <td>71.0</td>\n",
       "      <td>360.0</td>\n",
       "      <td>1.0</td>\n",
       "      <td>True</td>\n",
       "      <td>False</td>\n",
       "      <td>True</td>\n",
       "      <td>False</td>\n",
       "      <td>True</td>\n",
       "      <td>False</td>\n",
       "      <td>False</td>\n",
       "      <td>False</td>\n",
       "      <td>True</td>\n",
       "      <td>False</td>\n",
       "      <td>True</td>\n",
       "      <td>False</td>\n",
       "      <td>True</td>\n",
       "      <td>False</td>\n",
       "      <td>False</td>\n",
       "    </tr>\n",
       "    <tr>\n",
       "      <th>610</th>\n",
       "      <td>4106</td>\n",
       "      <td>0.0</td>\n",
       "      <td>40.0</td>\n",
       "      <td>180.0</td>\n",
       "      <td>1.0</td>\n",
       "      <td>False</td>\n",
       "      <td>True</td>\n",
       "      <td>False</td>\n",
       "      <td>True</td>\n",
       "      <td>False</td>\n",
       "      <td>False</td>\n",
       "      <td>False</td>\n",
       "      <td>True</td>\n",
       "      <td>True</td>\n",
       "      <td>False</td>\n",
       "      <td>True</td>\n",
       "      <td>False</td>\n",
       "      <td>True</td>\n",
       "      <td>False</td>\n",
       "      <td>False</td>\n",
       "    </tr>\n",
       "    <tr>\n",
       "      <th>611</th>\n",
       "      <td>8072</td>\n",
       "      <td>240.0</td>\n",
       "      <td>253.0</td>\n",
       "      <td>360.0</td>\n",
       "      <td>1.0</td>\n",
       "      <td>False</td>\n",
       "      <td>True</td>\n",
       "      <td>False</td>\n",
       "      <td>True</td>\n",
       "      <td>False</td>\n",
       "      <td>True</td>\n",
       "      <td>False</td>\n",
       "      <td>False</td>\n",
       "      <td>True</td>\n",
       "      <td>False</td>\n",
       "      <td>True</td>\n",
       "      <td>False</td>\n",
       "      <td>False</td>\n",
       "      <td>False</td>\n",
       "      <td>True</td>\n",
       "    </tr>\n",
       "    <tr>\n",
       "      <th>612</th>\n",
       "      <td>7583</td>\n",
       "      <td>0.0</td>\n",
       "      <td>187.0</td>\n",
       "      <td>360.0</td>\n",
       "      <td>1.0</td>\n",
       "      <td>False</td>\n",
       "      <td>True</td>\n",
       "      <td>False</td>\n",
       "      <td>True</td>\n",
       "      <td>False</td>\n",
       "      <td>False</td>\n",
       "      <td>True</td>\n",
       "      <td>False</td>\n",
       "      <td>True</td>\n",
       "      <td>False</td>\n",
       "      <td>True</td>\n",
       "      <td>False</td>\n",
       "      <td>False</td>\n",
       "      <td>False</td>\n",
       "      <td>True</td>\n",
       "    </tr>\n",
       "    <tr>\n",
       "      <th>613</th>\n",
       "      <td>4583</td>\n",
       "      <td>0.0</td>\n",
       "      <td>133.0</td>\n",
       "      <td>360.0</td>\n",
       "      <td>0.0</td>\n",
       "      <td>True</td>\n",
       "      <td>False</td>\n",
       "      <td>True</td>\n",
       "      <td>False</td>\n",
       "      <td>True</td>\n",
       "      <td>False</td>\n",
       "      <td>False</td>\n",
       "      <td>False</td>\n",
       "      <td>True</td>\n",
       "      <td>False</td>\n",
       "      <td>False</td>\n",
       "      <td>True</td>\n",
       "      <td>False</td>\n",
       "      <td>True</td>\n",
       "      <td>False</td>\n",
       "    </tr>\n",
       "  </tbody>\n",
       "</table>\n",
       "<p>480 rows × 20 columns</p>\n",
       "</div>"
      ],
      "text/plain": [
       "     ApplicantIncome  CoapplicantIncome  LoanAmount  Loan_Amount_Term  \\\n",
       "1               4583             1508.0       128.0             360.0   \n",
       "2               3000                0.0        66.0             360.0   \n",
       "3               2583             2358.0       120.0             360.0   \n",
       "4               6000                0.0       141.0             360.0   \n",
       "5               5417             4196.0       267.0             360.0   \n",
       "..               ...                ...         ...               ...   \n",
       "609             2900                0.0        71.0             360.0   \n",
       "610             4106                0.0        40.0             180.0   \n",
       "611             8072              240.0       253.0             360.0   \n",
       "612             7583                0.0       187.0             360.0   \n",
       "613             4583                0.0       133.0             360.0   \n",
       "\n",
       "     Credit_History  Gender_Female  Gender_Male  Married_No  Married_Yes  \\\n",
       "1               1.0          False         True       False         True   \n",
       "2               1.0          False         True       False         True   \n",
       "3               1.0          False         True       False         True   \n",
       "4               1.0          False         True        True        False   \n",
       "5               1.0          False         True       False         True   \n",
       "..              ...            ...          ...         ...          ...   \n",
       "609             1.0           True        False        True        False   \n",
       "610             1.0          False         True       False         True   \n",
       "611             1.0          False         True       False         True   \n",
       "612             1.0          False         True       False         True   \n",
       "613             0.0           True        False        True        False   \n",
       "\n",
       "     Dependents_0  Dependents_1  Dependents_2  Dependents_3+  \\\n",
       "1           False          True         False          False   \n",
       "2            True         False         False          False   \n",
       "3            True         False         False          False   \n",
       "4            True         False         False          False   \n",
       "5           False         False          True          False   \n",
       "..            ...           ...           ...            ...   \n",
       "609          True         False         False          False   \n",
       "610         False         False         False           True   \n",
       "611         False          True         False          False   \n",
       "612         False         False          True          False   \n",
       "613          True         False         False          False   \n",
       "\n",
       "     Education_Graduate  Education_Not Graduate  Self_Employed_No  \\\n",
       "1                  True                   False              True   \n",
       "2                  True                   False             False   \n",
       "3                 False                    True              True   \n",
       "4                  True                   False              True   \n",
       "5                  True                   False             False   \n",
       "..                  ...                     ...               ...   \n",
       "609                True                   False              True   \n",
       "610                True                   False              True   \n",
       "611                True                   False              True   \n",
       "612                True                   False              True   \n",
       "613                True                   False             False   \n",
       "\n",
       "     Self_Employed_Yes  Property_Area_Rural  Property_Area_Semiurban  \\\n",
       "1                False                 True                    False   \n",
       "2                 True                False                    False   \n",
       "3                False                False                    False   \n",
       "4                False                False                    False   \n",
       "5                 True                False                    False   \n",
       "..                 ...                  ...                      ...   \n",
       "609              False                 True                    False   \n",
       "610              False                 True                    False   \n",
       "611              False                False                    False   \n",
       "612              False                False                    False   \n",
       "613               True                False                     True   \n",
       "\n",
       "     Property_Area_Urban  \n",
       "1                  False  \n",
       "2                   True  \n",
       "3                   True  \n",
       "4                   True  \n",
       "5                   True  \n",
       "..                   ...  \n",
       "609                False  \n",
       "610                False  \n",
       "611                 True  \n",
       "612                 True  \n",
       "613                False  \n",
       "\n",
       "[480 rows x 20 columns]"
      ]
     },
     "execution_count": 16,
     "metadata": {},
     "output_type": "execute_result"
    }
   ],
   "source": [
    "x_new"
   ]
  },
  {
   "cell_type": "code",
   "execution_count": 17,
   "id": "ce568aa4",
   "metadata": {},
   "outputs": [
    {
     "data": {
      "text/plain": [
       "ApplicantIncome              int64\n",
       "CoapplicantIncome          float64\n",
       "LoanAmount                 float64\n",
       "Loan_Amount_Term           float64\n",
       "Credit_History             float64\n",
       "Gender_Female                 bool\n",
       "Gender_Male                   bool\n",
       "Married_No                    bool\n",
       "Married_Yes                   bool\n",
       "Dependents_0                  bool\n",
       "Dependents_1                  bool\n",
       "Dependents_2                  bool\n",
       "Dependents_3+                 bool\n",
       "Education_Graduate            bool\n",
       "Education_Not Graduate        bool\n",
       "Self_Employed_No              bool\n",
       "Self_Employed_Yes             bool\n",
       "Property_Area_Rural           bool\n",
       "Property_Area_Semiurban       bool\n",
       "Property_Area_Urban           bool\n",
       "dtype: object"
      ]
     },
     "execution_count": 17,
     "metadata": {},
     "output_type": "execute_result"
    }
   ],
   "source": [
    "x_new.dtypes"
   ]
  },
  {
   "cell_type": "markdown",
   "id": "1d64c0e5",
   "metadata": {},
   "source": [
    "### Build the risk modeler"
   ]
  },
  {
   "cell_type": "code",
   "execution_count": 18,
   "id": "67641877",
   "metadata": {},
   "outputs": [],
   "source": [
    "from sklearn.naive_bayes import GaussianNB\n"
   ]
  },
  {
   "cell_type": "code",
   "execution_count": 19,
   "id": "55da416c",
   "metadata": {},
   "outputs": [],
   "source": [
    "risk_modeler = GaussianNB()"
   ]
  },
  {
   "cell_type": "code",
   "execution_count": 20,
   "id": "56314e30",
   "metadata": {},
   "outputs": [
    {
     "data": {
      "text/html": [
       "<style>#sk-container-id-1 {\n",
       "  /* Definition of color scheme common for light and dark mode */\n",
       "  --sklearn-color-text: black;\n",
       "  --sklearn-color-line: gray;\n",
       "  /* Definition of color scheme for unfitted estimators */\n",
       "  --sklearn-color-unfitted-level-0: #fff5e6;\n",
       "  --sklearn-color-unfitted-level-1: #f6e4d2;\n",
       "  --sklearn-color-unfitted-level-2: #ffe0b3;\n",
       "  --sklearn-color-unfitted-level-3: chocolate;\n",
       "  /* Definition of color scheme for fitted estimators */\n",
       "  --sklearn-color-fitted-level-0: #f0f8ff;\n",
       "  --sklearn-color-fitted-level-1: #d4ebff;\n",
       "  --sklearn-color-fitted-level-2: #b3dbfd;\n",
       "  --sklearn-color-fitted-level-3: cornflowerblue;\n",
       "\n",
       "  /* Specific color for light theme */\n",
       "  --sklearn-color-text-on-default-background: var(--sg-text-color, var(--theme-code-foreground, var(--jp-content-font-color1, black)));\n",
       "  --sklearn-color-background: var(--sg-background-color, var(--theme-background, var(--jp-layout-color0, white)));\n",
       "  --sklearn-color-border-box: var(--sg-text-color, var(--theme-code-foreground, var(--jp-content-font-color1, black)));\n",
       "  --sklearn-color-icon: #696969;\n",
       "\n",
       "  @media (prefers-color-scheme: dark) {\n",
       "    /* Redefinition of color scheme for dark theme */\n",
       "    --sklearn-color-text-on-default-background: var(--sg-text-color, var(--theme-code-foreground, var(--jp-content-font-color1, white)));\n",
       "    --sklearn-color-background: var(--sg-background-color, var(--theme-background, var(--jp-layout-color0, #111)));\n",
       "    --sklearn-color-border-box: var(--sg-text-color, var(--theme-code-foreground, var(--jp-content-font-color1, white)));\n",
       "    --sklearn-color-icon: #878787;\n",
       "  }\n",
       "}\n",
       "\n",
       "#sk-container-id-1 {\n",
       "  color: var(--sklearn-color-text);\n",
       "}\n",
       "\n",
       "#sk-container-id-1 pre {\n",
       "  padding: 0;\n",
       "}\n",
       "\n",
       "#sk-container-id-1 input.sk-hidden--visually {\n",
       "  border: 0;\n",
       "  clip: rect(1px 1px 1px 1px);\n",
       "  clip: rect(1px, 1px, 1px, 1px);\n",
       "  height: 1px;\n",
       "  margin: -1px;\n",
       "  overflow: hidden;\n",
       "  padding: 0;\n",
       "  position: absolute;\n",
       "  width: 1px;\n",
       "}\n",
       "\n",
       "#sk-container-id-1 div.sk-dashed-wrapped {\n",
       "  border: 1px dashed var(--sklearn-color-line);\n",
       "  margin: 0 0.4em 0.5em 0.4em;\n",
       "  box-sizing: border-box;\n",
       "  padding-bottom: 0.4em;\n",
       "  background-color: var(--sklearn-color-background);\n",
       "}\n",
       "\n",
       "#sk-container-id-1 div.sk-container {\n",
       "  /* jupyter's `normalize.less` sets `[hidden] { display: none; }`\n",
       "     but bootstrap.min.css set `[hidden] { display: none !important; }`\n",
       "     so we also need the `!important` here to be able to override the\n",
       "     default hidden behavior on the sphinx rendered scikit-learn.org.\n",
       "     See: https://github.com/scikit-learn/scikit-learn/issues/21755 */\n",
       "  display: inline-block !important;\n",
       "  position: relative;\n",
       "}\n",
       "\n",
       "#sk-container-id-1 div.sk-text-repr-fallback {\n",
       "  display: none;\n",
       "}\n",
       "\n",
       "div.sk-parallel-item,\n",
       "div.sk-serial,\n",
       "div.sk-item {\n",
       "  /* draw centered vertical line to link estimators */\n",
       "  background-image: linear-gradient(var(--sklearn-color-text-on-default-background), var(--sklearn-color-text-on-default-background));\n",
       "  background-size: 2px 100%;\n",
       "  background-repeat: no-repeat;\n",
       "  background-position: center center;\n",
       "}\n",
       "\n",
       "/* Parallel-specific style estimator block */\n",
       "\n",
       "#sk-container-id-1 div.sk-parallel-item::after {\n",
       "  content: \"\";\n",
       "  width: 100%;\n",
       "  border-bottom: 2px solid var(--sklearn-color-text-on-default-background);\n",
       "  flex-grow: 1;\n",
       "}\n",
       "\n",
       "#sk-container-id-1 div.sk-parallel {\n",
       "  display: flex;\n",
       "  align-items: stretch;\n",
       "  justify-content: center;\n",
       "  background-color: var(--sklearn-color-background);\n",
       "  position: relative;\n",
       "}\n",
       "\n",
       "#sk-container-id-1 div.sk-parallel-item {\n",
       "  display: flex;\n",
       "  flex-direction: column;\n",
       "}\n",
       "\n",
       "#sk-container-id-1 div.sk-parallel-item:first-child::after {\n",
       "  align-self: flex-end;\n",
       "  width: 50%;\n",
       "}\n",
       "\n",
       "#sk-container-id-1 div.sk-parallel-item:last-child::after {\n",
       "  align-self: flex-start;\n",
       "  width: 50%;\n",
       "}\n",
       "\n",
       "#sk-container-id-1 div.sk-parallel-item:only-child::after {\n",
       "  width: 0;\n",
       "}\n",
       "\n",
       "/* Serial-specific style estimator block */\n",
       "\n",
       "#sk-container-id-1 div.sk-serial {\n",
       "  display: flex;\n",
       "  flex-direction: column;\n",
       "  align-items: center;\n",
       "  background-color: var(--sklearn-color-background);\n",
       "  padding-right: 1em;\n",
       "  padding-left: 1em;\n",
       "}\n",
       "\n",
       "\n",
       "/* Toggleable style: style used for estimator/Pipeline/ColumnTransformer box that is\n",
       "clickable and can be expanded/collapsed.\n",
       "- Pipeline and ColumnTransformer use this feature and define the default style\n",
       "- Estimators will overwrite some part of the style using the `sk-estimator` class\n",
       "*/\n",
       "\n",
       "/* Pipeline and ColumnTransformer style (default) */\n",
       "\n",
       "#sk-container-id-1 div.sk-toggleable {\n",
       "  /* Default theme specific background. It is overwritten whether we have a\n",
       "  specific estimator or a Pipeline/ColumnTransformer */\n",
       "  background-color: var(--sklearn-color-background);\n",
       "}\n",
       "\n",
       "/* Toggleable label */\n",
       "#sk-container-id-1 label.sk-toggleable__label {\n",
       "  cursor: pointer;\n",
       "  display: block;\n",
       "  width: 100%;\n",
       "  margin-bottom: 0;\n",
       "  padding: 0.5em;\n",
       "  box-sizing: border-box;\n",
       "  text-align: center;\n",
       "}\n",
       "\n",
       "#sk-container-id-1 label.sk-toggleable__label-arrow:before {\n",
       "  /* Arrow on the left of the label */\n",
       "  content: \"▸\";\n",
       "  float: left;\n",
       "  margin-right: 0.25em;\n",
       "  color: var(--sklearn-color-icon);\n",
       "}\n",
       "\n",
       "#sk-container-id-1 label.sk-toggleable__label-arrow:hover:before {\n",
       "  color: var(--sklearn-color-text);\n",
       "}\n",
       "\n",
       "/* Toggleable content - dropdown */\n",
       "\n",
       "#sk-container-id-1 div.sk-toggleable__content {\n",
       "  max-height: 0;\n",
       "  max-width: 0;\n",
       "  overflow: hidden;\n",
       "  text-align: left;\n",
       "  /* unfitted */\n",
       "  background-color: var(--sklearn-color-unfitted-level-0);\n",
       "}\n",
       "\n",
       "#sk-container-id-1 div.sk-toggleable__content.fitted {\n",
       "  /* fitted */\n",
       "  background-color: var(--sklearn-color-fitted-level-0);\n",
       "}\n",
       "\n",
       "#sk-container-id-1 div.sk-toggleable__content pre {\n",
       "  margin: 0.2em;\n",
       "  border-radius: 0.25em;\n",
       "  color: var(--sklearn-color-text);\n",
       "  /* unfitted */\n",
       "  background-color: var(--sklearn-color-unfitted-level-0);\n",
       "}\n",
       "\n",
       "#sk-container-id-1 div.sk-toggleable__content.fitted pre {\n",
       "  /* unfitted */\n",
       "  background-color: var(--sklearn-color-fitted-level-0);\n",
       "}\n",
       "\n",
       "#sk-container-id-1 input.sk-toggleable__control:checked~div.sk-toggleable__content {\n",
       "  /* Expand drop-down */\n",
       "  max-height: 200px;\n",
       "  max-width: 100%;\n",
       "  overflow: auto;\n",
       "}\n",
       "\n",
       "#sk-container-id-1 input.sk-toggleable__control:checked~label.sk-toggleable__label-arrow:before {\n",
       "  content: \"▾\";\n",
       "}\n",
       "\n",
       "/* Pipeline/ColumnTransformer-specific style */\n",
       "\n",
       "#sk-container-id-1 div.sk-label input.sk-toggleable__control:checked~label.sk-toggleable__label {\n",
       "  color: var(--sklearn-color-text);\n",
       "  background-color: var(--sklearn-color-unfitted-level-2);\n",
       "}\n",
       "\n",
       "#sk-container-id-1 div.sk-label.fitted input.sk-toggleable__control:checked~label.sk-toggleable__label {\n",
       "  background-color: var(--sklearn-color-fitted-level-2);\n",
       "}\n",
       "\n",
       "/* Estimator-specific style */\n",
       "\n",
       "/* Colorize estimator box */\n",
       "#sk-container-id-1 div.sk-estimator input.sk-toggleable__control:checked~label.sk-toggleable__label {\n",
       "  /* unfitted */\n",
       "  background-color: var(--sklearn-color-unfitted-level-2);\n",
       "}\n",
       "\n",
       "#sk-container-id-1 div.sk-estimator.fitted input.sk-toggleable__control:checked~label.sk-toggleable__label {\n",
       "  /* fitted */\n",
       "  background-color: var(--sklearn-color-fitted-level-2);\n",
       "}\n",
       "\n",
       "#sk-container-id-1 div.sk-label label.sk-toggleable__label,\n",
       "#sk-container-id-1 div.sk-label label {\n",
       "  /* The background is the default theme color */\n",
       "  color: var(--sklearn-color-text-on-default-background);\n",
       "}\n",
       "\n",
       "/* On hover, darken the color of the background */\n",
       "#sk-container-id-1 div.sk-label:hover label.sk-toggleable__label {\n",
       "  color: var(--sklearn-color-text);\n",
       "  background-color: var(--sklearn-color-unfitted-level-2);\n",
       "}\n",
       "\n",
       "/* Label box, darken color on hover, fitted */\n",
       "#sk-container-id-1 div.sk-label.fitted:hover label.sk-toggleable__label.fitted {\n",
       "  color: var(--sklearn-color-text);\n",
       "  background-color: var(--sklearn-color-fitted-level-2);\n",
       "}\n",
       "\n",
       "/* Estimator label */\n",
       "\n",
       "#sk-container-id-1 div.sk-label label {\n",
       "  font-family: monospace;\n",
       "  font-weight: bold;\n",
       "  display: inline-block;\n",
       "  line-height: 1.2em;\n",
       "}\n",
       "\n",
       "#sk-container-id-1 div.sk-label-container {\n",
       "  text-align: center;\n",
       "}\n",
       "\n",
       "/* Estimator-specific */\n",
       "#sk-container-id-1 div.sk-estimator {\n",
       "  font-family: monospace;\n",
       "  border: 1px dotted var(--sklearn-color-border-box);\n",
       "  border-radius: 0.25em;\n",
       "  box-sizing: border-box;\n",
       "  margin-bottom: 0.5em;\n",
       "  /* unfitted */\n",
       "  background-color: var(--sklearn-color-unfitted-level-0);\n",
       "}\n",
       "\n",
       "#sk-container-id-1 div.sk-estimator.fitted {\n",
       "  /* fitted */\n",
       "  background-color: var(--sklearn-color-fitted-level-0);\n",
       "}\n",
       "\n",
       "/* on hover */\n",
       "#sk-container-id-1 div.sk-estimator:hover {\n",
       "  /* unfitted */\n",
       "  background-color: var(--sklearn-color-unfitted-level-2);\n",
       "}\n",
       "\n",
       "#sk-container-id-1 div.sk-estimator.fitted:hover {\n",
       "  /* fitted */\n",
       "  background-color: var(--sklearn-color-fitted-level-2);\n",
       "}\n",
       "\n",
       "/* Specification for estimator info (e.g. \"i\" and \"?\") */\n",
       "\n",
       "/* Common style for \"i\" and \"?\" */\n",
       "\n",
       ".sk-estimator-doc-link,\n",
       "a:link.sk-estimator-doc-link,\n",
       "a:visited.sk-estimator-doc-link {\n",
       "  float: right;\n",
       "  font-size: smaller;\n",
       "  line-height: 1em;\n",
       "  font-family: monospace;\n",
       "  background-color: var(--sklearn-color-background);\n",
       "  border-radius: 1em;\n",
       "  height: 1em;\n",
       "  width: 1em;\n",
       "  text-decoration: none !important;\n",
       "  margin-left: 1ex;\n",
       "  /* unfitted */\n",
       "  border: var(--sklearn-color-unfitted-level-1) 1pt solid;\n",
       "  color: var(--sklearn-color-unfitted-level-1);\n",
       "}\n",
       "\n",
       ".sk-estimator-doc-link.fitted,\n",
       "a:link.sk-estimator-doc-link.fitted,\n",
       "a:visited.sk-estimator-doc-link.fitted {\n",
       "  /* fitted */\n",
       "  border: var(--sklearn-color-fitted-level-1) 1pt solid;\n",
       "  color: var(--sklearn-color-fitted-level-1);\n",
       "}\n",
       "\n",
       "/* On hover */\n",
       "div.sk-estimator:hover .sk-estimator-doc-link:hover,\n",
       ".sk-estimator-doc-link:hover,\n",
       "div.sk-label-container:hover .sk-estimator-doc-link:hover,\n",
       ".sk-estimator-doc-link:hover {\n",
       "  /* unfitted */\n",
       "  background-color: var(--sklearn-color-unfitted-level-3);\n",
       "  color: var(--sklearn-color-background);\n",
       "  text-decoration: none;\n",
       "}\n",
       "\n",
       "div.sk-estimator.fitted:hover .sk-estimator-doc-link.fitted:hover,\n",
       ".sk-estimator-doc-link.fitted:hover,\n",
       "div.sk-label-container:hover .sk-estimator-doc-link.fitted:hover,\n",
       ".sk-estimator-doc-link.fitted:hover {\n",
       "  /* fitted */\n",
       "  background-color: var(--sklearn-color-fitted-level-3);\n",
       "  color: var(--sklearn-color-background);\n",
       "  text-decoration: none;\n",
       "}\n",
       "\n",
       "/* Span, style for the box shown on hovering the info icon */\n",
       ".sk-estimator-doc-link span {\n",
       "  display: none;\n",
       "  z-index: 9999;\n",
       "  position: relative;\n",
       "  font-weight: normal;\n",
       "  right: .2ex;\n",
       "  padding: .5ex;\n",
       "  margin: .5ex;\n",
       "  width: min-content;\n",
       "  min-width: 20ex;\n",
       "  max-width: 50ex;\n",
       "  color: var(--sklearn-color-text);\n",
       "  box-shadow: 2pt 2pt 4pt #999;\n",
       "  /* unfitted */\n",
       "  background: var(--sklearn-color-unfitted-level-0);\n",
       "  border: .5pt solid var(--sklearn-color-unfitted-level-3);\n",
       "}\n",
       "\n",
       ".sk-estimator-doc-link.fitted span {\n",
       "  /* fitted */\n",
       "  background: var(--sklearn-color-fitted-level-0);\n",
       "  border: var(--sklearn-color-fitted-level-3);\n",
       "}\n",
       "\n",
       ".sk-estimator-doc-link:hover span {\n",
       "  display: block;\n",
       "}\n",
       "\n",
       "/* \"?\"-specific style due to the `<a>` HTML tag */\n",
       "\n",
       "#sk-container-id-1 a.estimator_doc_link {\n",
       "  float: right;\n",
       "  font-size: 1rem;\n",
       "  line-height: 1em;\n",
       "  font-family: monospace;\n",
       "  background-color: var(--sklearn-color-background);\n",
       "  border-radius: 1rem;\n",
       "  height: 1rem;\n",
       "  width: 1rem;\n",
       "  text-decoration: none;\n",
       "  /* unfitted */\n",
       "  color: var(--sklearn-color-unfitted-level-1);\n",
       "  border: var(--sklearn-color-unfitted-level-1) 1pt solid;\n",
       "}\n",
       "\n",
       "#sk-container-id-1 a.estimator_doc_link.fitted {\n",
       "  /* fitted */\n",
       "  border: var(--sklearn-color-fitted-level-1) 1pt solid;\n",
       "  color: var(--sklearn-color-fitted-level-1);\n",
       "}\n",
       "\n",
       "/* On hover */\n",
       "#sk-container-id-1 a.estimator_doc_link:hover {\n",
       "  /* unfitted */\n",
       "  background-color: var(--sklearn-color-unfitted-level-3);\n",
       "  color: var(--sklearn-color-background);\n",
       "  text-decoration: none;\n",
       "}\n",
       "\n",
       "#sk-container-id-1 a.estimator_doc_link.fitted:hover {\n",
       "  /* fitted */\n",
       "  background-color: var(--sklearn-color-fitted-level-3);\n",
       "}\n",
       "</style><div id=\"sk-container-id-1\" class=\"sk-top-container\"><div class=\"sk-text-repr-fallback\"><pre>GaussianNB()</pre><b>In a Jupyter environment, please rerun this cell to show the HTML representation or trust the notebook. <br />On GitHub, the HTML representation is unable to render, please try loading this page with nbviewer.org.</b></div><div class=\"sk-container\" hidden><div class=\"sk-item\"><div class=\"sk-estimator fitted sk-toggleable\"><input class=\"sk-toggleable__control sk-hidden--visually\" id=\"sk-estimator-id-1\" type=\"checkbox\" checked><label for=\"sk-estimator-id-1\" class=\"sk-toggleable__label fitted sk-toggleable__label-arrow fitted\">&nbsp;&nbsp;GaussianNB<a class=\"sk-estimator-doc-link fitted\" rel=\"noreferrer\" target=\"_blank\" href=\"https://scikit-learn.org/1.4/modules/generated/sklearn.naive_bayes.GaussianNB.html\">?<span>Documentation for GaussianNB</span></a><span class=\"sk-estimator-doc-link fitted\">i<span>Fitted</span></span></label><div class=\"sk-toggleable__content fitted\"><pre>GaussianNB()</pre></div> </div></div></div></div>"
      ],
      "text/plain": [
       "GaussianNB()"
      ]
     },
     "execution_count": 20,
     "metadata": {},
     "output_type": "execute_result"
    }
   ],
   "source": [
    "risk_modeler.fit(x_new,y)"
   ]
  },
  {
   "cell_type": "code",
   "execution_count": 21,
   "id": "fdb4257f",
   "metadata": {},
   "outputs": [],
   "source": [
    "new = x_new.iloc[[67],:]"
   ]
  },
  {
   "cell_type": "code",
   "execution_count": 22,
   "id": "f9a89c91",
   "metadata": {},
   "outputs": [
    {
     "data": {
      "text/html": [
       "<div>\n",
       "<style scoped>\n",
       "    .dataframe tbody tr th:only-of-type {\n",
       "        vertical-align: middle;\n",
       "    }\n",
       "\n",
       "    .dataframe tbody tr th {\n",
       "        vertical-align: top;\n",
       "    }\n",
       "\n",
       "    .dataframe thead th {\n",
       "        text-align: right;\n",
       "    }\n",
       "</style>\n",
       "<table border=\"1\" class=\"dataframe\">\n",
       "  <thead>\n",
       "    <tr style=\"text-align: right;\">\n",
       "      <th></th>\n",
       "      <th>ApplicantIncome</th>\n",
       "      <th>CoapplicantIncome</th>\n",
       "      <th>LoanAmount</th>\n",
       "      <th>Loan_Amount_Term</th>\n",
       "      <th>Credit_History</th>\n",
       "      <th>Gender_Female</th>\n",
       "      <th>Gender_Male</th>\n",
       "      <th>Married_No</th>\n",
       "      <th>Married_Yes</th>\n",
       "      <th>Dependents_0</th>\n",
       "      <th>Dependents_1</th>\n",
       "      <th>Dependents_2</th>\n",
       "      <th>Dependents_3+</th>\n",
       "      <th>Education_Graduate</th>\n",
       "      <th>Education_Not Graduate</th>\n",
       "      <th>Self_Employed_No</th>\n",
       "      <th>Self_Employed_Yes</th>\n",
       "      <th>Property_Area_Rural</th>\n",
       "      <th>Property_Area_Semiurban</th>\n",
       "      <th>Property_Area_Urban</th>\n",
       "    </tr>\n",
       "  </thead>\n",
       "  <tbody>\n",
       "    <tr>\n",
       "      <th>85</th>\n",
       "      <td>2366</td>\n",
       "      <td>2531.0</td>\n",
       "      <td>136.0</td>\n",
       "      <td>360.0</td>\n",
       "      <td>1.0</td>\n",
       "      <td>False</td>\n",
       "      <td>True</td>\n",
       "      <td>True</td>\n",
       "      <td>False</td>\n",
       "      <td>True</td>\n",
       "      <td>False</td>\n",
       "      <td>False</td>\n",
       "      <td>False</td>\n",
       "      <td>True</td>\n",
       "      <td>False</td>\n",
       "      <td>True</td>\n",
       "      <td>False</td>\n",
       "      <td>False</td>\n",
       "      <td>True</td>\n",
       "      <td>False</td>\n",
       "    </tr>\n",
       "  </tbody>\n",
       "</table>\n",
       "</div>"
      ],
      "text/plain": [
       "    ApplicantIncome  CoapplicantIncome  LoanAmount  Loan_Amount_Term  \\\n",
       "85             2366             2531.0       136.0             360.0   \n",
       "\n",
       "    Credit_History  Gender_Female  Gender_Male  Married_No  Married_Yes  \\\n",
       "85             1.0          False         True        True        False   \n",
       "\n",
       "    Dependents_0  Dependents_1  Dependents_2  Dependents_3+  \\\n",
       "85          True         False         False          False   \n",
       "\n",
       "    Education_Graduate  Education_Not Graduate  Self_Employed_No  \\\n",
       "85                True                   False              True   \n",
       "\n",
       "    Self_Employed_Yes  Property_Area_Rural  Property_Area_Semiurban  \\\n",
       "85              False                False                     True   \n",
       "\n",
       "    Property_Area_Urban  \n",
       "85                False  "
      ]
     },
     "execution_count": 22,
     "metadata": {},
     "output_type": "execute_result"
    }
   ],
   "source": [
    "new"
   ]
  },
  {
   "cell_type": "code",
   "execution_count": 23,
   "id": "187f8442",
   "metadata": {},
   "outputs": [
    {
     "data": {
      "text/plain": [
       "array([[0.01974009, 0.98025991]])"
      ]
     },
     "execution_count": 23,
     "metadata": {},
     "output_type": "execute_result"
    }
   ],
   "source": [
    "risk_modeler.predict_proba(new)"
   ]
  },
  {
   "cell_type": "code",
   "execution_count": 24,
   "id": "f1a3ff44",
   "metadata": {},
   "outputs": [
    {
     "data": {
      "text/plain": [
       "array(['N', 'Y'], dtype='<U1')"
      ]
     },
     "execution_count": 24,
     "metadata": {},
     "output_type": "execute_result"
    }
   ],
   "source": [
    "risk_modeler.classes_"
   ]
  },
  {
   "cell_type": "code",
   "execution_count": 25,
   "id": "1489a714",
   "metadata": {},
   "outputs": [
    {
     "data": {
      "text/plain": [
       "array([[0.16987411, 0.83012589],\n",
       "       [0.00668451, 0.99331549],\n",
       "       [0.997924  , 0.002076  ],\n",
       "       [0.05729625, 0.94270375],\n",
       "       [0.12864698, 0.87135302]])"
      ]
     },
     "execution_count": 25,
     "metadata": {},
     "output_type": "execute_result"
    }
   ],
   "source": [
    "new = x_new.iloc[[167,305,238,4,226],:]\n",
    "risk_modeler.predict_proba(new)"
   ]
  },
  {
   "cell_type": "code",
   "execution_count": 26,
   "id": "4b83fd8d",
   "metadata": {},
   "outputs": [],
   "source": [
    "###"
   ]
  },
  {
   "cell_type": "code",
   "execution_count": 27,
   "id": "21775c71",
   "metadata": {},
   "outputs": [],
   "source": [
    "from sklearn.datasets import make_classification"
   ]
  },
  {
   "cell_type": "code",
   "execution_count": 28,
   "id": "161b08d0",
   "metadata": {},
   "outputs": [],
   "source": [
    "data = make_classification(n_samples=1000, n_features=10,\n",
    "                          n_classes=3,random_state=0,n_informative=3)"
   ]
  },
  {
   "cell_type": "code",
   "execution_count": 29,
   "id": "9537b0cc",
   "metadata": {},
   "outputs": [
    {
     "data": {
      "text/plain": [
       "(1000, 10)"
      ]
     },
     "execution_count": 29,
     "metadata": {},
     "output_type": "execute_result"
    }
   ],
   "source": [
    "data[0].shape"
   ]
  },
  {
   "cell_type": "code",
   "execution_count": 30,
   "id": "6d683803",
   "metadata": {},
   "outputs": [
    {
     "data": {
      "text/plain": [
       "(1000,)"
      ]
     },
     "execution_count": 30,
     "metadata": {},
     "output_type": "execute_result"
    }
   ],
   "source": [
    "data[1].shape"
   ]
  },
  {
   "cell_type": "code",
   "execution_count": 31,
   "id": "cae049cd",
   "metadata": {},
   "outputs": [
    {
     "data": {
      "text/html": [
       "<div>\n",
       "<style scoped>\n",
       "    .dataframe tbody tr th:only-of-type {\n",
       "        vertical-align: middle;\n",
       "    }\n",
       "\n",
       "    .dataframe tbody tr th {\n",
       "        vertical-align: top;\n",
       "    }\n",
       "\n",
       "    .dataframe thead th {\n",
       "        text-align: right;\n",
       "    }\n",
       "</style>\n",
       "<table border=\"1\" class=\"dataframe\">\n",
       "  <thead>\n",
       "    <tr style=\"text-align: right;\">\n",
       "      <th></th>\n",
       "      <th>0</th>\n",
       "      <th>1</th>\n",
       "      <th>2</th>\n",
       "      <th>3</th>\n",
       "      <th>4</th>\n",
       "      <th>5</th>\n",
       "      <th>6</th>\n",
       "      <th>7</th>\n",
       "      <th>8</th>\n",
       "      <th>9</th>\n",
       "    </tr>\n",
       "  </thead>\n",
       "  <tbody>\n",
       "    <tr>\n",
       "      <th>0</th>\n",
       "      <td>0.819779</td>\n",
       "      <td>-1.209914</td>\n",
       "      <td>-0.722380</td>\n",
       "      <td>1.003950</td>\n",
       "      <td>-0.979971</td>\n",
       "      <td>0.863045</td>\n",
       "      <td>-1.305264</td>\n",
       "      <td>1.931509</td>\n",
       "      <td>-0.218147</td>\n",
       "      <td>1.052379</td>\n",
       "    </tr>\n",
       "    <tr>\n",
       "      <th>1</th>\n",
       "      <td>-0.079849</td>\n",
       "      <td>-1.332187</td>\n",
       "      <td>0.174223</td>\n",
       "      <td>0.362889</td>\n",
       "      <td>0.542220</td>\n",
       "      <td>0.609956</td>\n",
       "      <td>-1.394318</td>\n",
       "      <td>3.261326</td>\n",
       "      <td>0.436210</td>\n",
       "      <td>-0.284100</td>\n",
       "    </tr>\n",
       "    <tr>\n",
       "      <th>2</th>\n",
       "      <td>0.448398</td>\n",
       "      <td>1.467524</td>\n",
       "      <td>1.626891</td>\n",
       "      <td>1.487932</td>\n",
       "      <td>-0.093216</td>\n",
       "      <td>1.365850</td>\n",
       "      <td>0.904803</td>\n",
       "      <td>0.199811</td>\n",
       "      <td>1.066764</td>\n",
       "      <td>-1.343350</td>\n",
       "    </tr>\n",
       "    <tr>\n",
       "      <th>3</th>\n",
       "      <td>-1.188151</td>\n",
       "      <td>-0.976029</td>\n",
       "      <td>1.366291</td>\n",
       "      <td>-0.137204</td>\n",
       "      <td>-0.480942</td>\n",
       "      <td>0.711755</td>\n",
       "      <td>2.501837</td>\n",
       "      <td>-1.601705</td>\n",
       "      <td>1.693881</td>\n",
       "      <td>-2.300939</td>\n",
       "    </tr>\n",
       "    <tr>\n",
       "      <th>4</th>\n",
       "      <td>0.322170</td>\n",
       "      <td>-0.299055</td>\n",
       "      <td>0.229044</td>\n",
       "      <td>0.110691</td>\n",
       "      <td>-0.250154</td>\n",
       "      <td>1.725162</td>\n",
       "      <td>2.018810</td>\n",
       "      <td>-1.081597</td>\n",
       "      <td>1.487460</td>\n",
       "      <td>-2.044366</td>\n",
       "    </tr>\n",
       "    <tr>\n",
       "      <th>...</th>\n",
       "      <td>...</td>\n",
       "      <td>...</td>\n",
       "      <td>...</td>\n",
       "      <td>...</td>\n",
       "      <td>...</td>\n",
       "      <td>...</td>\n",
       "      <td>...</td>\n",
       "      <td>...</td>\n",
       "      <td>...</td>\n",
       "      <td>...</td>\n",
       "    </tr>\n",
       "    <tr>\n",
       "      <th>995</th>\n",
       "      <td>0.857132</td>\n",
       "      <td>-1.592681</td>\n",
       "      <td>-0.571533</td>\n",
       "      <td>0.205845</td>\n",
       "      <td>-2.089823</td>\n",
       "      <td>1.485980</td>\n",
       "      <td>1.145587</td>\n",
       "      <td>-1.272726</td>\n",
       "      <td>0.497331</td>\n",
       "      <td>0.070588</td>\n",
       "    </tr>\n",
       "    <tr>\n",
       "      <th>996</th>\n",
       "      <td>1.345835</td>\n",
       "      <td>0.449556</td>\n",
       "      <td>0.476607</td>\n",
       "      <td>0.363212</td>\n",
       "      <td>-0.031968</td>\n",
       "      <td>-0.933691</td>\n",
       "      <td>1.807801</td>\n",
       "      <td>-1.349057</td>\n",
       "      <td>1.105564</td>\n",
       "      <td>-1.679314</td>\n",
       "    </tr>\n",
       "    <tr>\n",
       "      <th>997</th>\n",
       "      <td>1.201039</td>\n",
       "      <td>-0.106445</td>\n",
       "      <td>0.640789</td>\n",
       "      <td>-2.166358</td>\n",
       "      <td>-0.549258</td>\n",
       "      <td>2.683211</td>\n",
       "      <td>1.355574</td>\n",
       "      <td>-0.975544</td>\n",
       "      <td>0.860544</td>\n",
       "      <td>-1.058197</td>\n",
       "    </tr>\n",
       "    <tr>\n",
       "      <th>998</th>\n",
       "      <td>-0.004350</td>\n",
       "      <td>1.735186</td>\n",
       "      <td>2.102210</td>\n",
       "      <td>-0.815035</td>\n",
       "      <td>0.324706</td>\n",
       "      <td>0.302458</td>\n",
       "      <td>0.870952</td>\n",
       "      <td>-1.102547</td>\n",
       "      <td>0.261084</td>\n",
       "      <td>-0.676430</td>\n",
       "    </tr>\n",
       "    <tr>\n",
       "      <th>999</th>\n",
       "      <td>-0.250030</td>\n",
       "      <td>-0.741401</td>\n",
       "      <td>1.340202</td>\n",
       "      <td>0.270954</td>\n",
       "      <td>-0.922960</td>\n",
       "      <td>-0.633890</td>\n",
       "      <td>2.011343</td>\n",
       "      <td>-1.032956</td>\n",
       "      <td>1.521482</td>\n",
       "      <td>-1.777991</td>\n",
       "    </tr>\n",
       "  </tbody>\n",
       "</table>\n",
       "<p>1000 rows × 10 columns</p>\n",
       "</div>"
      ],
      "text/plain": [
       "            0         1         2         3         4         5         6  \\\n",
       "0    0.819779 -1.209914 -0.722380  1.003950 -0.979971  0.863045 -1.305264   \n",
       "1   -0.079849 -1.332187  0.174223  0.362889  0.542220  0.609956 -1.394318   \n",
       "2    0.448398  1.467524  1.626891  1.487932 -0.093216  1.365850  0.904803   \n",
       "3   -1.188151 -0.976029  1.366291 -0.137204 -0.480942  0.711755  2.501837   \n",
       "4    0.322170 -0.299055  0.229044  0.110691 -0.250154  1.725162  2.018810   \n",
       "..        ...       ...       ...       ...       ...       ...       ...   \n",
       "995  0.857132 -1.592681 -0.571533  0.205845 -2.089823  1.485980  1.145587   \n",
       "996  1.345835  0.449556  0.476607  0.363212 -0.031968 -0.933691  1.807801   \n",
       "997  1.201039 -0.106445  0.640789 -2.166358 -0.549258  2.683211  1.355574   \n",
       "998 -0.004350  1.735186  2.102210 -0.815035  0.324706  0.302458  0.870952   \n",
       "999 -0.250030 -0.741401  1.340202  0.270954 -0.922960 -0.633890  2.011343   \n",
       "\n",
       "            7         8         9  \n",
       "0    1.931509 -0.218147  1.052379  \n",
       "1    3.261326  0.436210 -0.284100  \n",
       "2    0.199811  1.066764 -1.343350  \n",
       "3   -1.601705  1.693881 -2.300939  \n",
       "4   -1.081597  1.487460 -2.044366  \n",
       "..        ...       ...       ...  \n",
       "995 -1.272726  0.497331  0.070588  \n",
       "996 -1.349057  1.105564 -1.679314  \n",
       "997 -0.975544  0.860544 -1.058197  \n",
       "998 -1.102547  0.261084 -0.676430  \n",
       "999 -1.032956  1.521482 -1.777991  \n",
       "\n",
       "[1000 rows x 10 columns]"
      ]
     },
     "execution_count": 31,
     "metadata": {},
     "output_type": "execute_result"
    }
   ],
   "source": [
    "df = pd.DataFrame(data=data[0])\n",
    "df"
   ]
  },
  {
   "cell_type": "code",
   "execution_count": 32,
   "id": "14a69fa4",
   "metadata": {},
   "outputs": [
    {
     "data": {
      "text/html": [
       "<div>\n",
       "<style scoped>\n",
       "    .dataframe tbody tr th:only-of-type {\n",
       "        vertical-align: middle;\n",
       "    }\n",
       "\n",
       "    .dataframe tbody tr th {\n",
       "        vertical-align: top;\n",
       "    }\n",
       "\n",
       "    .dataframe thead th {\n",
       "        text-align: right;\n",
       "    }\n",
       "</style>\n",
       "<table border=\"1\" class=\"dataframe\">\n",
       "  <thead>\n",
       "    <tr style=\"text-align: right;\">\n",
       "      <th></th>\n",
       "      <th>0</th>\n",
       "      <th>1</th>\n",
       "      <th>2</th>\n",
       "      <th>3</th>\n",
       "      <th>4</th>\n",
       "      <th>5</th>\n",
       "      <th>6</th>\n",
       "      <th>7</th>\n",
       "      <th>8</th>\n",
       "      <th>9</th>\n",
       "      <th>class</th>\n",
       "    </tr>\n",
       "  </thead>\n",
       "  <tbody>\n",
       "    <tr>\n",
       "      <th>0</th>\n",
       "      <td>0.819779</td>\n",
       "      <td>-1.209914</td>\n",
       "      <td>-0.722380</td>\n",
       "      <td>1.003950</td>\n",
       "      <td>-0.979971</td>\n",
       "      <td>0.863045</td>\n",
       "      <td>-1.305264</td>\n",
       "      <td>1.931509</td>\n",
       "      <td>-0.218147</td>\n",
       "      <td>1.052379</td>\n",
       "      <td>0</td>\n",
       "    </tr>\n",
       "    <tr>\n",
       "      <th>1</th>\n",
       "      <td>-0.079849</td>\n",
       "      <td>-1.332187</td>\n",
       "      <td>0.174223</td>\n",
       "      <td>0.362889</td>\n",
       "      <td>0.542220</td>\n",
       "      <td>0.609956</td>\n",
       "      <td>-1.394318</td>\n",
       "      <td>3.261326</td>\n",
       "      <td>0.436210</td>\n",
       "      <td>-0.284100</td>\n",
       "      <td>0</td>\n",
       "    </tr>\n",
       "    <tr>\n",
       "      <th>2</th>\n",
       "      <td>0.448398</td>\n",
       "      <td>1.467524</td>\n",
       "      <td>1.626891</td>\n",
       "      <td>1.487932</td>\n",
       "      <td>-0.093216</td>\n",
       "      <td>1.365850</td>\n",
       "      <td>0.904803</td>\n",
       "      <td>0.199811</td>\n",
       "      <td>1.066764</td>\n",
       "      <td>-1.343350</td>\n",
       "      <td>2</td>\n",
       "    </tr>\n",
       "    <tr>\n",
       "      <th>3</th>\n",
       "      <td>-1.188151</td>\n",
       "      <td>-0.976029</td>\n",
       "      <td>1.366291</td>\n",
       "      <td>-0.137204</td>\n",
       "      <td>-0.480942</td>\n",
       "      <td>0.711755</td>\n",
       "      <td>2.501837</td>\n",
       "      <td>-1.601705</td>\n",
       "      <td>1.693881</td>\n",
       "      <td>-2.300939</td>\n",
       "      <td>2</td>\n",
       "    </tr>\n",
       "    <tr>\n",
       "      <th>4</th>\n",
       "      <td>0.322170</td>\n",
       "      <td>-0.299055</td>\n",
       "      <td>0.229044</td>\n",
       "      <td>0.110691</td>\n",
       "      <td>-0.250154</td>\n",
       "      <td>1.725162</td>\n",
       "      <td>2.018810</td>\n",
       "      <td>-1.081597</td>\n",
       "      <td>1.487460</td>\n",
       "      <td>-2.044366</td>\n",
       "      <td>2</td>\n",
       "    </tr>\n",
       "    <tr>\n",
       "      <th>...</th>\n",
       "      <td>...</td>\n",
       "      <td>...</td>\n",
       "      <td>...</td>\n",
       "      <td>...</td>\n",
       "      <td>...</td>\n",
       "      <td>...</td>\n",
       "      <td>...</td>\n",
       "      <td>...</td>\n",
       "      <td>...</td>\n",
       "      <td>...</td>\n",
       "      <td>...</td>\n",
       "    </tr>\n",
       "    <tr>\n",
       "      <th>995</th>\n",
       "      <td>0.857132</td>\n",
       "      <td>-1.592681</td>\n",
       "      <td>-0.571533</td>\n",
       "      <td>0.205845</td>\n",
       "      <td>-2.089823</td>\n",
       "      <td>1.485980</td>\n",
       "      <td>1.145587</td>\n",
       "      <td>-1.272726</td>\n",
       "      <td>0.497331</td>\n",
       "      <td>0.070588</td>\n",
       "      <td>1</td>\n",
       "    </tr>\n",
       "    <tr>\n",
       "      <th>996</th>\n",
       "      <td>1.345835</td>\n",
       "      <td>0.449556</td>\n",
       "      <td>0.476607</td>\n",
       "      <td>0.363212</td>\n",
       "      <td>-0.031968</td>\n",
       "      <td>-0.933691</td>\n",
       "      <td>1.807801</td>\n",
       "      <td>-1.349057</td>\n",
       "      <td>1.105564</td>\n",
       "      <td>-1.679314</td>\n",
       "      <td>2</td>\n",
       "    </tr>\n",
       "    <tr>\n",
       "      <th>997</th>\n",
       "      <td>1.201039</td>\n",
       "      <td>-0.106445</td>\n",
       "      <td>0.640789</td>\n",
       "      <td>-2.166358</td>\n",
       "      <td>-0.549258</td>\n",
       "      <td>2.683211</td>\n",
       "      <td>1.355574</td>\n",
       "      <td>-0.975544</td>\n",
       "      <td>0.860544</td>\n",
       "      <td>-1.058197</td>\n",
       "      <td>2</td>\n",
       "    </tr>\n",
       "    <tr>\n",
       "      <th>998</th>\n",
       "      <td>-0.004350</td>\n",
       "      <td>1.735186</td>\n",
       "      <td>2.102210</td>\n",
       "      <td>-0.815035</td>\n",
       "      <td>0.324706</td>\n",
       "      <td>0.302458</td>\n",
       "      <td>0.870952</td>\n",
       "      <td>-1.102547</td>\n",
       "      <td>0.261084</td>\n",
       "      <td>-0.676430</td>\n",
       "      <td>2</td>\n",
       "    </tr>\n",
       "    <tr>\n",
       "      <th>999</th>\n",
       "      <td>-0.250030</td>\n",
       "      <td>-0.741401</td>\n",
       "      <td>1.340202</td>\n",
       "      <td>0.270954</td>\n",
       "      <td>-0.922960</td>\n",
       "      <td>-0.633890</td>\n",
       "      <td>2.011343</td>\n",
       "      <td>-1.032956</td>\n",
       "      <td>1.521482</td>\n",
       "      <td>-1.777991</td>\n",
       "      <td>2</td>\n",
       "    </tr>\n",
       "  </tbody>\n",
       "</table>\n",
       "<p>1000 rows × 11 columns</p>\n",
       "</div>"
      ],
      "text/plain": [
       "            0         1         2         3         4         5         6  \\\n",
       "0    0.819779 -1.209914 -0.722380  1.003950 -0.979971  0.863045 -1.305264   \n",
       "1   -0.079849 -1.332187  0.174223  0.362889  0.542220  0.609956 -1.394318   \n",
       "2    0.448398  1.467524  1.626891  1.487932 -0.093216  1.365850  0.904803   \n",
       "3   -1.188151 -0.976029  1.366291 -0.137204 -0.480942  0.711755  2.501837   \n",
       "4    0.322170 -0.299055  0.229044  0.110691 -0.250154  1.725162  2.018810   \n",
       "..        ...       ...       ...       ...       ...       ...       ...   \n",
       "995  0.857132 -1.592681 -0.571533  0.205845 -2.089823  1.485980  1.145587   \n",
       "996  1.345835  0.449556  0.476607  0.363212 -0.031968 -0.933691  1.807801   \n",
       "997  1.201039 -0.106445  0.640789 -2.166358 -0.549258  2.683211  1.355574   \n",
       "998 -0.004350  1.735186  2.102210 -0.815035  0.324706  0.302458  0.870952   \n",
       "999 -0.250030 -0.741401  1.340202  0.270954 -0.922960 -0.633890  2.011343   \n",
       "\n",
       "            7         8         9  class  \n",
       "0    1.931509 -0.218147  1.052379      0  \n",
       "1    3.261326  0.436210 -0.284100      0  \n",
       "2    0.199811  1.066764 -1.343350      2  \n",
       "3   -1.601705  1.693881 -2.300939      2  \n",
       "4   -1.081597  1.487460 -2.044366      2  \n",
       "..        ...       ...       ...    ...  \n",
       "995 -1.272726  0.497331  0.070588      1  \n",
       "996 -1.349057  1.105564 -1.679314      2  \n",
       "997 -0.975544  0.860544 -1.058197      2  \n",
       "998 -1.102547  0.261084 -0.676430      2  \n",
       "999 -1.032956  1.521482 -1.777991      2  \n",
       "\n",
       "[1000 rows x 11 columns]"
      ]
     },
     "execution_count": 32,
     "metadata": {},
     "output_type": "execute_result"
    }
   ],
   "source": [
    "df['class']= data[1]\n",
    "df"
   ]
  },
  {
   "cell_type": "markdown",
   "id": "ca574d15",
   "metadata": {},
   "source": [
    "### Regression Dataset"
   ]
  },
  {
   "cell_type": "code",
   "execution_count": 33,
   "id": "2d3537de",
   "metadata": {},
   "outputs": [],
   "source": [
    "from sklearn.datasets import make_regression"
   ]
  },
  {
   "cell_type": "code",
   "execution_count": 34,
   "id": "c5b932fe",
   "metadata": {},
   "outputs": [],
   "source": [
    "reg_data = make_regression(n_samples=500,n_features=5)\n"
   ]
  },
  {
   "cell_type": "code",
   "execution_count": 35,
   "id": "4d95b9b4",
   "metadata": {},
   "outputs": [
    {
     "data": {
      "text/plain": [
       "(500, 5)"
      ]
     },
     "execution_count": 35,
     "metadata": {},
     "output_type": "execute_result"
    }
   ],
   "source": [
    "reg_data[0].shape"
   ]
  },
  {
   "cell_type": "code",
   "execution_count": 36,
   "id": "7cea9630",
   "metadata": {},
   "outputs": [
    {
     "data": {
      "text/plain": [
       "(500,)"
      ]
     },
     "execution_count": 36,
     "metadata": {},
     "output_type": "execute_result"
    }
   ],
   "source": [
    "reg_data[1].shape"
   ]
  },
  {
   "cell_type": "code",
   "execution_count": 37,
   "id": "41adf059",
   "metadata": {},
   "outputs": [
    {
     "data": {
      "text/plain": [
       "array([-194.19801198,  116.39221106,   -6.82857419,   15.94383796,\n",
       "         55.90040574,  -54.44552297,    0.60724698,   49.18181561,\n",
       "       -197.9811998 , -140.87531387,  -48.53746436,  -64.96066009,\n",
       "        -93.15372608,  100.48073004,   55.94542567, -191.75943049,\n",
       "        122.10674485,  277.60459466,   53.98821924,  -84.38391004,\n",
       "        -47.96729286,  163.62672966,  105.49180673,  149.6598802 ,\n",
       "        -61.72966491,   46.31851221,   61.14119013, -171.81756627,\n",
       "        -34.06290939, -123.17486869,   46.50074646,   -4.81049251,\n",
       "        -73.00116965,  127.10450841,  -62.11716489,  -39.33730335,\n",
       "        257.84203031,   56.92685754,   57.09931348,   69.82243528,\n",
       "        105.31482597,   15.23407099,  -53.12030204, -186.79557474,\n",
       "         68.98304524,   34.38326154,  191.65048364,    6.55592592,\n",
       "       -130.64132601,  162.42189947,  -63.54700292,   87.79304456,\n",
       "        213.81931056, -143.23971755,  -25.02142663,  157.91770825,\n",
       "         89.3891009 ,  -85.6708714 ,  -38.54614187,  258.15854515,\n",
       "         63.6385151 , -184.63882463,  227.8461091 ,   61.43212652,\n",
       "        156.00004593, -201.46786936,  224.56551766, -199.3420541 ,\n",
       "        -25.94272791,   68.19883979,  203.9143597 ,  106.50952814,\n",
       "        112.13820058,  -77.14979735, -138.22283491, -198.09174009,\n",
       "         57.86155002,   70.22920013,   18.0079288 ,  -53.66823963,\n",
       "        -42.41294802, -312.80196552,  124.20342054,  228.54516825,\n",
       "         59.59854531,  129.17898708,  187.58767619, -186.37436155,\n",
       "        292.46974694,   57.1679805 ,   71.41272623,  133.36420028,\n",
       "       -116.04485312,  -58.17610896,   69.57517297,   -0.61520065,\n",
       "       -334.89105494, -104.41587584,  -14.36687674,  127.44399642,\n",
       "        250.42193088, -113.11233194,  -32.02517088, -241.16023214,\n",
       "        -45.30698804,  165.85846939, -195.95860266,  -53.46105692,\n",
       "         94.50720808,  269.01882243,  174.70848718, -204.21436841,\n",
       "        192.78661195, -145.94148998,  164.58325899,   72.93635804,\n",
       "        188.1808365 ,   63.69587637,  121.9145643 ,  -90.57977682,\n",
       "        -12.44607322,  114.37623744,   61.64218288,  -94.43636617,\n",
       "         17.25664834,  -54.58497098, -293.85788036,  -49.39166579,\n",
       "       -398.03039659,   61.33120649,  -43.62308452,  -25.54060132,\n",
       "       -134.1073668 ,   51.63993769,  -36.41168158,   -0.88831683,\n",
       "        -51.43200799,  -96.11351852,  233.10812275, -154.02428427,\n",
       "        -46.80871479,   15.62836102,   22.29449851,   54.94610804,\n",
       "         80.44950716,   40.33216472,  -36.69663345,  -13.3157779 ,\n",
       "       -150.49836766, -170.80719084,   36.75097808,  -75.15983518,\n",
       "        351.08556532,  -37.93940123,   52.92749478, -125.69091433,\n",
       "       -144.491519  ,  -61.25927235,  113.60187459,  160.31649208,\n",
       "       -135.4469209 , -172.90650248, -126.25672697,  -61.12901048,\n",
       "        140.41705643,  135.38084259,    9.85665387, -148.56399928,\n",
       "         -7.05694147,  -17.7362256 ,  -84.41566951,   51.77471999,\n",
       "        323.97846988,    2.81186849,   88.96868272, -190.44255556,\n",
       "         56.0203068 ,  -44.06801398,   56.65274417,   13.71444062,\n",
       "        187.9983227 ,  146.46398261,  -57.93151661,  125.90223703,\n",
       "         -7.24170935,   72.85119106,  263.68084577,  190.20289787,\n",
       "        128.67201381,  -74.73861088,  220.16459513,   71.39890675,\n",
       "        -34.07802539,   70.81697629,  198.57270235,  -91.91002125,\n",
       "       -294.61719203,  -16.37180641,  -39.93596398,  -64.16029353,\n",
       "        102.27040215, -100.79354217,   62.445567  ,  -44.34858697,\n",
       "         77.49387926,  -23.20355014,  102.58736562,   20.62006344,\n",
       "       -157.70573473,   96.07381234,  103.12419252,  -20.32490073,\n",
       "        105.0676042 ,  235.71852747,   57.62703583,  -65.96009298,\n",
       "       -214.89945521,  -48.87258014,  -83.13404762,  100.01692824,\n",
       "        183.05035045,   15.87159774,   33.94173438, -237.90833143,\n",
       "         27.06873715, -121.89211651,   20.27642731, -107.16740181,\n",
       "         42.70908821, -184.60983389,   78.97086637, -102.36122089,\n",
       "       -113.33281696, -138.80344291,  201.1126743 ,  211.06964123,\n",
       "       -207.01975578, -157.34070365, -193.72752618,  -31.31691544,\n",
       "         24.49258447,  -34.24378381, -143.16642718,  262.3252967 ,\n",
       "       -159.09214318,  -81.43995385,  -82.92042721,   62.46128393,\n",
       "        181.79      ,   18.98937855,  159.64784556,  265.36844456,\n",
       "        192.71042273, -100.86399735,  193.03208287, -110.2725565 ,\n",
       "        -85.07777523,    6.18187473,  119.34568851,  287.45137414,\n",
       "        300.38541139,  303.90596901,    5.96785875,   62.07201207,\n",
       "        106.75618921,  -47.41011865,  -79.68648582, -145.09247987,\n",
       "         66.86212083,   96.66562683,  -49.69816627,  176.63573316,\n",
       "       -152.93978592,  149.57277147,  -12.1259033 , -247.98352572,\n",
       "        131.95671658,  152.63400769,   13.70877976, -147.64675699,\n",
       "        -18.60067769,  -33.6733214 ,  -89.80918474,  222.3395624 ,\n",
       "       -277.23700402,  213.00778517,  109.52894859,  136.38650624,\n",
       "         49.48440771, -132.11681152, -305.00211715,   51.6171222 ,\n",
       "        -70.67339378,   66.31607923, -111.05388172,  130.32642002,\n",
       "        -88.0132547 ,  -79.94633033,  224.27823545,  160.16888244,\n",
       "       -414.98591713,   81.42356035,   14.77263649,  145.18486458,\n",
       "        321.13867673,   95.43233975,  -87.4666056 , -211.3611969 ,\n",
       "        -51.09724199, -187.27248031,   14.55472103, -118.2854809 ,\n",
       "       -214.3501128 ,  251.88666787, -134.765704  , -121.07721506,\n",
       "        -35.60285187, -111.03107732,  222.03423872,  -50.85471816,\n",
       "         40.21480274, -128.10154466,    2.32330214,  407.70376061,\n",
       "         62.77216051, -105.95251349, -143.64745556,  -25.81435526,\n",
       "         51.33266548, -175.50739638,   38.58555965,   55.47126473,\n",
       "        -25.95018792, -116.45539115,  -47.81852727, -160.76390295,\n",
       "         19.30277223, -180.326906  ,   42.06979343, -123.08268396,\n",
       "        -17.86262424,  125.03552509,   23.469505  ,  -82.07323374,\n",
       "       -158.09917623,    3.50834346,   -8.99048589, -257.99238517,\n",
       "        133.50488186,  123.33925505,   -5.38431469,  107.9214826 ,\n",
       "         28.37264731, -221.78751511,  -58.01534114,   96.59085241,\n",
       "        185.94138019,  279.20662387,  -20.55243758,  118.20308051,\n",
       "       -119.53286288,  179.36712967,  -18.25729397,  -97.72610912,\n",
       "        -15.31889616,   36.47296404,   82.10511952,   21.42752285,\n",
       "         73.71593115,   37.14088804, -144.06240231,  148.1680266 ,\n",
       "        118.47551582,  171.61984022,   94.89952329,  216.77930855,\n",
       "        -82.32156854,   75.51123814,  181.86510493, -178.03145602,\n",
       "       -250.77568145,  139.51196187, -240.21713124,  -52.22785483,\n",
       "        277.28552669,   40.72438954,  -96.32963058,  -19.80796034,\n",
       "        -50.76902048,  198.18530444,   -6.34531287,   64.99775655,\n",
       "       -342.02338064,  100.34711222,  104.60825309,   40.73259481,\n",
       "        401.210083  ,  125.53520665,  224.94899945,  150.7593827 ,\n",
       "        -31.443165  ,  -45.32756042,  -41.72502314,  341.11807583,\n",
       "        -74.45572477,  199.79995444,   14.07502212,  -78.80186366,\n",
       "        116.42928034, -224.02946508, -230.18452823,   75.74143645,\n",
       "        -26.84043856,   93.5105856 , -133.31856423,  -66.33447987,\n",
       "        208.66738467,   19.47358327, -169.94136684,  -89.3030663 ,\n",
       "        -73.12550055,  -98.82743202,  112.70826607,  -82.52798989,\n",
       "        -41.74822898, -104.22421031, -109.84787941,  -28.16342335,\n",
       "       -114.45591333,   40.84473668,  -69.20231228,  120.03145861,\n",
       "         43.99817789,  -93.79150466,  -15.56800108, -212.69522187,\n",
       "          9.71114347,   83.48314345,    0.50402406,  -55.37898578,\n",
       "       -206.63620252,   17.37152632,   55.20820288, -146.71153212,\n",
       "         36.20775521, -195.17557013,  -18.97952384, -173.57412983,\n",
       "       -273.96520121,  296.04269229,  269.25923242,    2.85963217,\n",
       "        -29.12433036,   59.50076438,  -64.84309768, -164.07692617,\n",
       "         81.40512522,  -23.66333047,   36.83368561,   43.71613456,\n",
       "        111.75276862,  226.69754108,  126.01652577, -133.5176844 ,\n",
       "         28.88318513,  -16.49953671,   44.20561031,  -55.22028205,\n",
       "         43.59555321,   80.5491055 ,  -99.25736936,  161.15389014,\n",
       "       -113.36502664,  169.0412015 , -105.40272647,  -17.21245028,\n",
       "         32.03285732,   28.61938958,   22.58238274,  264.72861181,\n",
       "        -28.60063515,  100.85348456,   77.16762681,   41.88255893,\n",
       "         35.79397067,   72.53083995,   67.57114636,    5.13457336,\n",
       "         95.73412931, -144.45126461,  -75.25258823,  -92.45048566,\n",
       "        131.47452505,  116.18222461,   86.86298098,  -88.86686833,\n",
       "       -133.93076668, -183.13533159,   34.768836  ,  108.78164662])"
      ]
     },
     "execution_count": 37,
     "metadata": {},
     "output_type": "execute_result"
    }
   ],
   "source": [
    "reg_data[1]"
   ]
  },
  {
   "cell_type": "markdown",
   "id": "27b7dd6e",
   "metadata": {},
   "source": [
    "### Creating clustering datasets"
   ]
  },
  {
   "cell_type": "code",
   "execution_count": 38,
   "id": "c5270530",
   "metadata": {},
   "outputs": [],
   "source": [
    "from sklearn.datasets import make_blobs"
   ]
  },
  {
   "cell_type": "code",
   "execution_count": 39,
   "id": "3dcd1f56",
   "metadata": {},
   "outputs": [],
   "source": [
    "data_clu = make_blobs(n_samples=700,n_features=7)"
   ]
  },
  {
   "cell_type": "code",
   "execution_count": 40,
   "id": "45d0bd90",
   "metadata": {},
   "outputs": [
    {
     "data": {
      "text/plain": [
       "(700, 7)"
      ]
     },
     "execution_count": 40,
     "metadata": {},
     "output_type": "execute_result"
    }
   ],
   "source": [
    "data_clu[0].shape"
   ]
  },
  {
   "cell_type": "code",
   "execution_count": 41,
   "id": "65ec9f33",
   "metadata": {},
   "outputs": [
    {
     "data": {
      "text/plain": [
       "(700,)"
      ]
     },
     "execution_count": 41,
     "metadata": {},
     "output_type": "execute_result"
    }
   ],
   "source": [
    "data_clu[1].shape"
   ]
  },
  {
   "cell_type": "code",
   "execution_count": 42,
   "id": "664f37d3",
   "metadata": {},
   "outputs": [
    {
     "data": {
      "text/plain": [
       "array([1, 0, 1, 2, 1, 0, 1, 1, 1, 2, 0, 0, 2, 1, 0, 2, 1, 0, 2, 1, 1, 2,\n",
       "       2, 0, 0, 2, 0, 2, 0, 1, 0, 2, 1, 1, 1, 0, 0, 2, 0, 0, 0, 0, 1, 0,\n",
       "       0, 2, 2, 0, 1, 1, 1, 1, 0, 2, 0, 0, 0, 0, 1, 2, 1, 2, 1, 0, 2, 0,\n",
       "       2, 0, 1, 1, 2, 1, 2, 0, 0, 0, 1, 0, 1, 2, 2, 2, 1, 1, 1, 0, 0, 1,\n",
       "       1, 0, 0, 1, 2, 2, 0, 1, 2, 1, 1, 1, 1, 0, 1, 0, 0, 1, 1, 0, 0, 1,\n",
       "       0, 2, 1, 2, 2, 0, 2, 1, 1, 0, 1, 0, 2, 0, 1, 2, 1, 1, 2, 0, 2, 2,\n",
       "       0, 2, 2, 1, 1, 2, 0, 0, 2, 1, 0, 2, 1, 2, 2, 0, 1, 1, 1, 2, 0, 1,\n",
       "       1, 1, 0, 1, 2, 2, 0, 2, 1, 1, 0, 0, 1, 2, 1, 2, 0, 2, 0, 2, 0, 0,\n",
       "       2, 0, 2, 2, 2, 1, 1, 1, 2, 0, 0, 1, 0, 0, 0, 0, 2, 0, 2, 0, 2, 2,\n",
       "       1, 1, 2, 2, 0, 1, 0, 0, 0, 0, 2, 2, 0, 1, 2, 2, 0, 0, 1, 1, 0, 2,\n",
       "       0, 2, 0, 2, 0, 2, 2, 0, 2, 1, 0, 2, 1, 0, 1, 1, 2, 1, 1, 1, 0, 0,\n",
       "       2, 2, 0, 0, 1, 0, 1, 2, 2, 1, 2, 2, 2, 1, 2, 0, 1, 2, 2, 2, 2, 2,\n",
       "       2, 0, 2, 2, 2, 0, 0, 2, 2, 0, 2, 1, 2, 1, 1, 1, 0, 1, 0, 2, 0, 0,\n",
       "       0, 1, 1, 0, 0, 1, 0, 1, 1, 2, 1, 1, 2, 2, 0, 0, 2, 2, 2, 0, 2, 0,\n",
       "       0, 0, 2, 0, 0, 2, 2, 0, 0, 1, 2, 1, 0, 0, 2, 1, 1, 1, 0, 0, 1, 0,\n",
       "       1, 0, 1, 0, 1, 0, 2, 0, 0, 1, 2, 0, 0, 2, 2, 2, 1, 1, 2, 2, 2, 2,\n",
       "       1, 1, 0, 0, 1, 1, 2, 1, 2, 1, 2, 0, 1, 0, 0, 1, 0, 1, 0, 2, 2, 2,\n",
       "       2, 2, 1, 0, 0, 2, 2, 0, 2, 0, 2, 2, 2, 2, 1, 2, 1, 2, 1, 1, 1, 0,\n",
       "       1, 1, 1, 0, 0, 0, 2, 0, 2, 1, 1, 1, 2, 1, 2, 1, 1, 2, 0, 1, 0, 2,\n",
       "       0, 2, 1, 0, 1, 2, 0, 1, 2, 1, 1, 1, 1, 2, 1, 0, 1, 0, 0, 2, 2, 2,\n",
       "       1, 0, 0, 0, 1, 0, 0, 1, 0, 2, 0, 2, 0, 0, 1, 1, 1, 1, 1, 1, 2, 1,\n",
       "       0, 1, 0, 1, 1, 2, 1, 1, 1, 1, 0, 0, 0, 1, 0, 1, 2, 0, 0, 2, 0, 2,\n",
       "       1, 2, 0, 2, 1, 0, 0, 0, 2, 1, 0, 0, 2, 1, 1, 0, 2, 0, 1, 2, 1, 2,\n",
       "       2, 1, 2, 2, 1, 1, 1, 0, 2, 1, 2, 2, 0, 1, 1, 0, 0, 0, 1, 2, 2, 2,\n",
       "       0, 0, 0, 2, 0, 0, 1, 1, 0, 1, 1, 1, 1, 1, 2, 1, 0, 2, 0, 1, 1, 0,\n",
       "       2, 0, 0, 0, 2, 2, 1, 2, 2, 0, 1, 2, 2, 0, 0, 0, 0, 1, 0, 0, 2, 1,\n",
       "       2, 1, 1, 1, 1, 2, 2, 1, 1, 1, 0, 0, 2, 1, 0, 2, 1, 0, 1, 2, 0, 2,\n",
       "       0, 2, 0, 0, 0, 0, 0, 1, 0, 2, 1, 0, 2, 1, 0, 2, 1, 0, 2, 1, 0, 0,\n",
       "       1, 1, 0, 2, 0, 2, 2, 2, 2, 1, 1, 2, 2, 0, 2, 0, 2, 1, 2, 0, 1, 0,\n",
       "       1, 2, 2, 0, 2, 1, 2, 0, 1, 2, 2, 1, 2, 2, 2, 0, 1, 2, 1, 2, 2, 2,\n",
       "       1, 0, 1, 2, 2, 2, 1, 1, 2, 2, 2, 0, 1, 2, 1, 2, 1, 1, 1, 2, 1, 0,\n",
       "       0, 2, 2, 0, 2, 0, 2, 0, 1, 1, 2, 2, 2, 1, 0, 2, 1, 2])"
      ]
     },
     "execution_count": 42,
     "metadata": {},
     "output_type": "execute_result"
    }
   ],
   "source": [
    "data_clu[1]"
   ]
  },
  {
   "cell_type": "markdown",
   "id": "9fb2cf05",
   "metadata": {},
   "source": [
    "### Generate data with Standard Normal Distribution "
   ]
  },
  {
   "cell_type": "code",
   "execution_count": 43,
   "id": "3cb95721",
   "metadata": {},
   "outputs": [],
   "source": [
    "from scipy.stats import norm"
   ]
  },
  {
   "cell_type": "code",
   "execution_count": 44,
   "id": "19e36eb5",
   "metadata": {},
   "outputs": [],
   "source": [
    "samples = norm.rvs(loc=0, scale=1, size=100)"
   ]
  },
  {
   "cell_type": "code",
   "execution_count": 45,
   "id": "5b3db719",
   "metadata": {},
   "outputs": [
    {
     "data": {
      "text/plain": [
       "array([-0.31243378, -1.34269619,  1.23640481, -1.4565965 ,  1.31493068,\n",
       "        1.13651958, -0.84908618,  1.61472344, -0.16439265,  0.58719665,\n",
       "       -0.34758939,  0.67335747, -0.52036868,  1.01740132, -0.04137692,\n",
       "       -1.05749954,  0.27342887, -0.27829108, -1.19480851,  0.7318046 ,\n",
       "       -1.01122375, -0.69179041,  0.07008206,  0.91598409, -1.42658422,\n",
       "        0.87462489, -0.21484948,  0.33086471, -0.84852254, -1.91215958,\n",
       "       -1.25279913,  0.43465586,  0.99521595,  0.53509411, -0.35356299,\n",
       "       -0.58088332,  0.0459105 , -0.17739192,  1.19548846,  0.37727981,\n",
       "        0.53281747, -0.15865652,  0.07265387,  0.50037453, -1.41623695,\n",
       "       -0.69175655,  0.13068445, -2.36522797,  3.11934542, -0.62050267,\n",
       "       -1.22894324,  0.00551921, -0.87846855,  0.08386032, -0.34043823,\n",
       "        0.64543187, -0.19050982,  0.30086101, -0.87949202,  0.08046696,\n",
       "       -0.42647262,  0.19370167, -0.12387621, -0.58155407,  0.88931672,\n",
       "        0.90995689, -2.00251394, -0.40445655,  1.09950732, -2.87250737,\n",
       "        0.81862852,  0.2266685 , -0.77863074,  1.77918068, -0.30261988,\n",
       "        0.57099031,  0.30922577, -0.28659016,  1.11592164, -1.12660002,\n",
       "       -0.09585906, -0.45129674, -1.59644692, -0.64891235, -0.71582742,\n",
       "        0.12365232,  0.96577575, -0.54056748,  0.38620985,  0.10212175,\n",
       "        0.41878473,  0.38285503, -0.73095415, -0.68865604, -0.10641831,\n",
       "       -0.46710431, -0.75522011, -0.71767504,  1.07920885,  0.03261417])"
      ]
     },
     "execution_count": 45,
     "metadata": {},
     "output_type": "execute_result"
    }
   ],
   "source": [
    "samples"
   ]
  },
  {
   "cell_type": "code",
   "execution_count": 46,
   "id": "7a7e4c15",
   "metadata": {},
   "outputs": [
    {
     "data": {
      "text/plain": [
       "-0.09988595354392907"
      ]
     },
     "execution_count": 46,
     "metadata": {},
     "output_type": "execute_result"
    }
   ],
   "source": [
    "samples.mean()"
   ]
  },
  {
   "cell_type": "code",
   "execution_count": 47,
   "id": "e44890c5",
   "metadata": {},
   "outputs": [
    {
     "data": {
      "text/plain": [
       "0.927406046866866"
      ]
     },
     "execution_count": 47,
     "metadata": {},
     "output_type": "execute_result"
    }
   ],
   "source": [
    "samples.std()\n"
   ]
  },
  {
   "cell_type": "code",
   "execution_count": 48,
   "id": "3c09cbd2",
   "metadata": {},
   "outputs": [
    {
     "data": {
      "text/plain": [
       "array([-0.31243378, -1.34269619,  1.23640481, -1.4565965 ,  1.31493068,\n",
       "        1.13651958, -0.84908618,  1.61472344, -0.16439265,  0.58719665,\n",
       "       -0.34758939,  0.67335747, -0.52036868,  1.01740132, -0.04137692,\n",
       "       -1.05749954,  0.27342887, -0.27829108, -1.19480851,  0.7318046 ,\n",
       "       -1.01122375, -0.69179041,  0.07008206,  0.91598409, -1.42658422,\n",
       "        0.87462489, -0.21484948,  0.33086471, -0.84852254, -1.91215958,\n",
       "       -1.25279913,  0.43465586,  0.99521595,  0.53509411, -0.35356299,\n",
       "       -0.58088332,  0.0459105 , -0.17739192,  1.19548846,  0.37727981,\n",
       "        0.53281747, -0.15865652,  0.07265387,  0.50037453, -1.41623695,\n",
       "       -0.69175655,  0.13068445, -2.36522797,  3.11934542, -0.62050267,\n",
       "       -1.22894324,  0.00551921, -0.87846855,  0.08386032, -0.34043823,\n",
       "        0.64543187, -0.19050982,  0.30086101, -0.87949202,  0.08046696,\n",
       "       -0.42647262,  0.19370167, -0.12387621, -0.58155407,  0.88931672,\n",
       "        0.90995689, -2.00251394, -0.40445655,  1.09950732, -2.87250737,\n",
       "        0.81862852,  0.2266685 , -0.77863074,  1.77918068, -0.30261988,\n",
       "        0.57099031,  0.30922577, -0.28659016,  1.11592164, -1.12660002,\n",
       "       -0.09585906, -0.45129674, -1.59644692, -0.64891235, -0.71582742,\n",
       "        0.12365232,  0.96577575, -0.54056748,  0.38620985,  0.10212175,\n",
       "        0.41878473,  0.38285503, -0.73095415, -0.68865604, -0.10641831,\n",
       "       -0.46710431, -0.75522011, -0.71767504,  1.07920885,  0.03261417])"
      ]
     },
     "execution_count": 48,
     "metadata": {},
     "output_type": "execute_result"
    }
   ],
   "source": [
    "(samples)"
   ]
  },
  {
   "cell_type": "code",
   "execution_count": 49,
   "id": "176ce207",
   "metadata": {},
   "outputs": [],
   "source": [
    "### practic"
   ]
  },
  {
   "cell_type": "code",
   "execution_count": 50,
   "id": "ee5ce193",
   "metadata": {},
   "outputs": [
    {
     "data": {
      "text/plain": [
       "(-2.8725073737888067, 3.1193454156725178)"
      ]
     },
     "execution_count": 50,
     "metadata": {},
     "output_type": "execute_result"
    }
   ],
   "source": [
    "samples.min(),samples.max()"
   ]
  },
  {
   "cell_type": "code",
   "execution_count": 51,
   "id": "c0860165",
   "metadata": {},
   "outputs": [],
   "source": [
    "x1=[1,-1,2,-2,3,-3,4,-4,5,-5,6,-6]"
   ]
  },
  {
   "cell_type": "code",
   "execution_count": 52,
   "id": "898ba571",
   "metadata": {},
   "outputs": [
    {
     "data": {
      "text/plain": [
       "0.0"
      ]
     },
     "execution_count": 52,
     "metadata": {},
     "output_type": "execute_result"
    }
   ],
   "source": [
    "np.mean(x1)"
   ]
  },
  {
   "cell_type": "code",
   "execution_count": 53,
   "id": "dd3468e5",
   "metadata": {},
   "outputs": [
    {
     "data": {
      "text/plain": [
       "<Axes: ylabel='Density'>"
      ]
     },
     "execution_count": 53,
     "metadata": {},
     "output_type": "execute_result"
    },
    {
     "data": {
      "image/png": "[encoded data removed]",
      "text/plain": [
       "<Figure size 640x480 with 1 Axes>"
      ]
     },
     "metadata": {},
     "output_type": "display_data"
    }
   ],
   "source": [
    "sns.kdeplot(x1)"
   ]
  },
  {
   "cell_type": "markdown",
   "id": "d5116719",
   "metadata": {},
   "source": [
    "### Generate data with Standard Normal Distribution"
   ]
  },
  {
   "cell_type": "code",
   "execution_count": 54,
   "id": "ce71f90a",
   "metadata": {},
   "outputs": [],
   "source": [
    "from scipy.stats import poisson"
   ]
  },
  {
   "cell_type": "code",
   "execution_count": 55,
   "id": "90e7ff44",
   "metadata": {},
   "outputs": [],
   "source": [
    "mean_customers_per_hours = 5"
   ]
  },
  {
   "cell_type": "code",
   "execution_count": 56,
   "id": "731dbe86",
   "metadata": {},
   "outputs": [],
   "source": [
    "number_of_customers = poisson.rvs(mean_customers_per_hours,size=1)"
   ]
  },
  {
   "cell_type": "code",
   "execution_count": 57,
   "id": "25029833",
   "metadata": {},
   "outputs": [
    {
     "name": "stdout",
     "output_type": "stream",
     "text": [
      "[2]\n"
     ]
    }
   ],
   "source": [
    "print(number_of_customers)"
   ]
  },
  {
   "cell_type": "code",
   "execution_count": 58,
   "id": "ad1d0b56",
   "metadata": {},
   "outputs": [],
   "source": [
    "custs = []\n",
    "for n in range(100):\n",
    "    number_of_customers = poisson.rvs(mean_customers_per_hours,size=1)\n",
    "    custs.append(number_of_customers[0])\n",
    "    "
   ]
  },
  {
   "cell_type": "code",
   "execution_count": 59,
   "id": "c43b0019",
   "metadata": {},
   "outputs": [
    {
     "data": {
      "text/plain": [
       "5.05"
      ]
     },
     "execution_count": 59,
     "metadata": {},
     "output_type": "execute_result"
    }
   ],
   "source": [
    "sum(custs)/len(custs)"
   ]
  },
  {
   "cell_type": "code",
   "execution_count": 60,
   "id": "34e8bb8b",
   "metadata": {},
   "outputs": [
    {
     "data": {
      "text/plain": [
       "<Axes: ylabel='Density'>"
      ]
     },
     "execution_count": 60,
     "metadata": {},
     "output_type": "execute_result"
    },
    {
     "data": {
      "image/png": "[encoded data removed]",
      "text/plain": [
       "<Figure size 640x480 with 1 Axes>"
      ]
     },
     "metadata": {},
     "output_type": "display_data"
    }
   ],
   "source": [
    "sns.kdeplot(custs)"
   ]
  }
 ],
 "metadata": {
  "kernelspec": {
   "display_name": "Python 3 (ipykernel)",
   "language": "python",
   "name": "python3"
  },
  "language_info": {
   "codemirror_mode": {
    "name": "ipython",
    "version": 3
   },
   "file_extension": ".py",
   "mimetype": "text/x-python",
   "name": "python",
   "nbconvert_exporter": "python",
   "pygments_lexer": "ipython3",
   "version": "3.11.5"
  }
 },
 "nbformat": 4,
 "nbformat_minor": 5
}
