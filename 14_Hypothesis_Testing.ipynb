{
 "cells": [
  {
   "cell_type": "code",
   "execution_count": 14,
   "id": "ac0ba2cb",
   "metadata": {},
   "outputs": [],
   "source": [
    "import numpy as np\n",
    "import pandas as pd\n",
    "import seaborn as sns\n",
    "import matplotlib.pyplot as plt\n",
    "import scipy.stats as stats\n",
    "\n",
    "from scipy.stats import chi2_contingency"
   ]
  },
  {
   "cell_type": "code",
   "execution_count": 15,
   "id": "b7954469",
   "metadata": {},
   "outputs": [],
   "source": [
    "from statsmodels.stats.weightstats import ztest as ztest"
   ]
  },
  {
   "cell_type": "code",
   "execution_count": 16,
   "id": "f77e9332",
   "metadata": {},
   "outputs": [],
   "source": [
    "# sample data - population weight in kgs\n",
    "data = [78,62,80,75,61,74,79,93,77,95]"
   ]
  },
  {
   "cell_type": "code",
   "execution_count": 17,
   "id": "62717ae1",
   "metadata": {},
   "outputs": [],
   "source": [
    "# Define the null hypothesis (average population weight = 80)\n",
    "null_mean = 80"
   ]
  },
  {
   "cell_type": "code",
   "execution_count": 18,
   "id": "9fb47855",
   "metadata": {},
   "outputs": [],
   "source": [
    "# Calculate the sample mean and standard deviation\n",
    "sample_mean = np.mean(data)\n",
    "sample_std = np.std(data)"
   ]
  },
  {
   "cell_type": "code",
   "execution_count": 19,
   "id": "2a55130d",
   "metadata": {},
   "outputs": [
    {
     "data": {
      "text/plain": [
       "77.4"
      ]
     },
     "execution_count": 19,
     "metadata": {},
     "output_type": "execute_result"
    }
   ],
   "source": [
    "sample_mean"
   ]
  },
  {
   "cell_type": "code",
   "execution_count": 20,
   "id": "767d1ca0",
   "metadata": {},
   "outputs": [
    {
     "data": {
      "text/plain": [
       "10.423051376636307"
      ]
     },
     "execution_count": 20,
     "metadata": {},
     "output_type": "execute_result"
    }
   ],
   "source": [
    "sample_std"
   ]
  },
  {
   "cell_type": "code",
   "execution_count": 21,
   "id": "7a2197c2",
   "metadata": {},
   "outputs": [
    {
     "data": {
      "text/plain": [
       "-0.2494471058473337"
      ]
     },
     "execution_count": 21,
     "metadata": {},
     "output_type": "execute_result"
    }
   ],
   "source": [
    "# Calculate the Z-score\n",
    "z_score = (sample_mean - null_mean) / sample_std\n",
    "z_score"
   ]
  },
  {
   "cell_type": "code",
   "execution_count": 22,
   "id": "6f720f18",
   "metadata": {},
   "outputs": [
    {
     "data": {
      "text/plain": [
       "0.8030149512456652"
      ]
     },
     "execution_count": 22,
     "metadata": {},
     "output_type": "execute_result"
    }
   ],
   "source": [
    "# Calculate the two-tailed p-value using the z-score\n",
    "p_value = 2 * (1 - stats.norm.cdf(abs(z_score)))\n",
    "p_value"
   ]
  },
  {
   "cell_type": "code",
   "execution_count": 23,
   "id": "f8ab549b",
   "metadata": {},
   "outputs": [
    {
     "name": "stdout",
     "output_type": "stream",
     "text": [
      "Sample Mean: 77.4\n",
      "Sample Standard Deviation: 10.423051376636307\n",
      "Z-score: -0.2494471058473337\n",
      "P-value: 0.8030149512456652\n"
     ]
    }
   ],
   "source": [
    "print(\"Sample Mean:\", sample_mean)\n",
    "print(\"Sample Standard Deviation:\", sample_std)\n",
    "print(\"Z-score:\", z_score)\n",
    "print(\"P-value:\", p_value)"
   ]
  },
  {
   "cell_type": "code",
   "execution_count": 24,
   "id": "9c1b7ed3",
   "metadata": {},
   "outputs": [],
   "source": [
    "alpha = 0.05"
   ]
  },
  {
   "cell_type": "code",
   "execution_count": 28,
   "id": "44505cd8",
   "metadata": {},
   "outputs": [
    {
     "name": "stdout",
     "output_type": "stream",
     "text": [
      "Fail to reject the null hypothesis. There is not enough evidence to conclude the average weight is statistically different from 80 at a significance level of 0.05\n"
     ]
    }
   ],
   "source": [
    "if p_value < alpha:\n",
    "    print(\"Reject the null hypothesis. The average weight is statistically different from 80 at a significance level of\", alpha)\n",
    "else:\n",
    "    print(\"Fail to reject the null hypothesis. There is not enough evidence to conclude the average weight is statistically different from 80 at a significance level of\", alpha)\n",
    "    "
   ]
  },
  {
   "cell_type": "code",
   "execution_count": 29,
   "id": "4da84e0b",
   "metadata": {},
   "outputs": [],
   "source": [
    "data = [88,92,94,94,96,97,97,97,99,99,105,109,109,109,110,112,112,113,114,115]"
   ]
  },
  {
   "cell_type": "code",
   "execution_count": 30,
   "id": "830f3de3",
   "metadata": {},
   "outputs": [
    {
     "data": {
      "text/plain": [
       "(1.5976240527147705, 0.1101266701438426)"
      ]
     },
     "execution_count": 30,
     "metadata": {},
     "output_type": "execute_result"
    }
   ],
   "source": [
    "ztest(data, value = 100)"
   ]
  },
  {
   "cell_type": "markdown",
   "id": "0ffa5413",
   "metadata": {},
   "source": [
    "The test statistic for the one sample z-test is 1.5976 and the corresponding p-value is 0.1101.\n",
    "\n",
    "Since this p-value is not less than 0.05, we do not have sufficient evidence to reject the null hypothesis."
   ]
  },
  {
   "cell_type": "code",
   "execution_count": null,
   "id": "d8c41a09",
   "metadata": {},
   "outputs": [],
   "source": []
  },
  {
   "cell_type": "markdown",
   "id": "8b66aedc",
   "metadata": {},
   "source": [
    "## Chi-square test"
   ]
  },
  {
   "cell_type": "code",
   "execution_count": 32,
   "id": "4d3ccc85",
   "metadata": {},
   "outputs": [],
   "source": [
    "data = [[207, 282, 241], [234, 242, 232]]\n",
    "stat, p, dof, expected = chi2_contingency(data)"
   ]
  },
  {
   "cell_type": "code",
   "execution_count": 33,
   "id": "5b544db9",
   "metadata": {},
   "outputs": [
    {
     "data": {
      "text/plain": [
       "4.542228269825232"
      ]
     },
     "execution_count": 33,
     "metadata": {},
     "output_type": "execute_result"
    }
   ],
   "source": [
    "stat"
   ]
  },
  {
   "cell_type": "code",
   "execution_count": 34,
   "id": "18749293",
   "metadata": {},
   "outputs": [
    {
     "data": {
      "text/plain": [
       "0.1031971404730939"
      ]
     },
     "execution_count": 34,
     "metadata": {},
     "output_type": "execute_result"
    }
   ],
   "source": [
    "p"
   ]
  },
  {
   "cell_type": "code",
   "execution_count": 35,
   "id": "7d3a7b37",
   "metadata": {},
   "outputs": [
    {
     "data": {
      "text/plain": [
       "2"
      ]
     },
     "execution_count": 35,
     "metadata": {},
     "output_type": "execute_result"
    }
   ],
   "source": [
    "dof"
   ]
  },
  {
   "cell_type": "code",
   "execution_count": 36,
   "id": "bc337fde",
   "metadata": {},
   "outputs": [
    {
     "data": {
      "text/plain": [
       "array([[223.87343533, 266.00834492, 240.11821975],\n",
       "       [217.12656467, 257.99165508, 232.88178025]])"
      ]
     },
     "execution_count": 36,
     "metadata": {},
     "output_type": "execute_result"
    }
   ],
   "source": [
    "expected"
   ]
  },
  {
   "cell_type": "code",
   "execution_count": 39,
   "id": "f227d182",
   "metadata": {},
   "outputs": [
    {
     "name": "stdout",
     "output_type": "stream",
     "text": [
      "p value is: 0.1031971404730939\n",
      "Independent (H0 holds true)\n"
     ]
    }
   ],
   "source": [
    "alpha = 0.05\n",
    "print(\"p value is: \" + str(p))\n",
    "if p <= alpha:\n",
    "    print('Dependent (rejected H0)')\n",
    "else:\n",
    "    print('Independent (H0 holds true)')"
   ]
  },
  {
   "cell_type": "markdown",
   "id": "a8881180",
   "metadata": {},
   "source": [
    "### example"
   ]
  },
  {
   "cell_type": "code",
   "execution_count": 40,
   "id": "f7d60662",
   "metadata": {},
   "outputs": [],
   "source": [
    "data = [[20, 5], [10, 15]]\n",
    "stat, p, dof, expected = chi2_contingency(data)"
   ]
  },
  {
   "cell_type": "code",
   "execution_count": 41,
   "id": "8a68b30b",
   "metadata": {},
   "outputs": [
    {
     "data": {
      "text/plain": [
       "array([[15., 10.],\n",
       "       [15., 10.]])"
      ]
     },
     "execution_count": 41,
     "metadata": {},
     "output_type": "execute_result"
    }
   ],
   "source": [
    "expected"
   ]
  },
  {
   "cell_type": "code",
   "execution_count": 42,
   "id": "0a0336e0",
   "metadata": {},
   "outputs": [
    {
     "data": {
      "text/plain": [
       "6.75"
      ]
     },
     "execution_count": 42,
     "metadata": {},
     "output_type": "execute_result"
    }
   ],
   "source": [
    "stat"
   ]
  },
  {
   "cell_type": "code",
   "execution_count": 43,
   "id": "0daa9a2d",
   "metadata": {},
   "outputs": [
    {
     "data": {
      "text/plain": [
       "0.0093747684594349"
      ]
     },
     "execution_count": 43,
     "metadata": {},
     "output_type": "execute_result"
    }
   ],
   "source": [
    "p"
   ]
  },
  {
   "cell_type": "code",
   "execution_count": 44,
   "id": "f7ab4e71",
   "metadata": {},
   "outputs": [
    {
     "data": {
      "text/plain": [
       "1"
      ]
     },
     "execution_count": 44,
     "metadata": {},
     "output_type": "execute_result"
    }
   ],
   "source": [
    "dof"
   ]
  },
  {
   "cell_type": "code",
   "execution_count": 45,
   "id": "3432121f",
   "metadata": {},
   "outputs": [
    {
     "name": "stdout",
     "output_type": "stream",
     "text": [
      "p value is: 0.0093747684594349\n",
      "Dependent (rejected H0)\n"
     ]
    }
   ],
   "source": [
    "alpha = 0.05\n",
    "print(\"p value is: \" + str(p))\n",
    "if p <= alpha:\n",
    "    print('Dependent (rejected H0)')\n",
    "else:\n",
    "    print('Independent (H0 holds true)')"
   ]
  },
  {
   "cell_type": "code",
   "execution_count": null,
   "id": "a1919a4a",
   "metadata": {},
   "outputs": [],
   "source": []
  },
  {
   "cell_type": "markdown",
   "id": "611811f5",
   "metadata": {},
   "source": [
    "### example"
   ]
  },
  {
   "cell_type": "code",
   "execution_count": 53,
   "id": "054ca1bf",
   "metadata": {},
   "outputs": [],
   "source": [
    "data = [[5,10,5], [15,5,0], [5,10,15]]\n",
    "stat, p, dof, expected = chi2_contingency(data)"
   ]
  },
  {
   "cell_type": "code",
   "execution_count": 54,
   "id": "15e62864",
   "metadata": {},
   "outputs": [
    {
     "data": {
      "text/plain": [
       "array([[ 7.14285714,  7.14285714,  5.71428571],\n",
       "       [ 7.14285714,  7.14285714,  5.71428571],\n",
       "       [10.71428571, 10.71428571,  8.57142857]])"
      ]
     },
     "execution_count": 54,
     "metadata": {},
     "output_type": "execute_result"
    }
   ],
   "source": [
    "expected"
   ]
  },
  {
   "cell_type": "code",
   "execution_count": 55,
   "id": "c453e8fb",
   "metadata": {},
   "outputs": [
    {
     "data": {
      "text/plain": [
       "24.791666666666668"
      ]
     },
     "execution_count": 55,
     "metadata": {},
     "output_type": "execute_result"
    }
   ],
   "source": [
    "stat"
   ]
  },
  {
   "cell_type": "code",
   "execution_count": 56,
   "id": "ee497b74",
   "metadata": {},
   "outputs": [
    {
     "data": {
      "text/plain": [
       "5.540229051644113e-05"
      ]
     },
     "execution_count": 56,
     "metadata": {},
     "output_type": "execute_result"
    }
   ],
   "source": [
    "p"
   ]
  },
  {
   "cell_type": "code",
   "execution_count": 57,
   "id": "4d9fb6d7",
   "metadata": {},
   "outputs": [
    {
     "data": {
      "text/plain": [
       "4"
      ]
     },
     "execution_count": 57,
     "metadata": {},
     "output_type": "execute_result"
    }
   ],
   "source": [
    "dof"
   ]
  },
  {
   "cell_type": "code",
   "execution_count": 58,
   "id": "61de46e8",
   "metadata": {},
   "outputs": [
    {
     "name": "stdout",
     "output_type": "stream",
     "text": [
      "p value is: 5.540229051644113e-05\n",
      "Dependent (rejected H0)\n"
     ]
    }
   ],
   "source": [
    "alpha = 0.05\n",
    "print(\"p value is: \" + str(p))\n",
    "if p <= alpha:\n",
    "    print('Dependent (rejected H0)')\n",
    "else:\n",
    "    print('Independent (H0 holds true)')"
   ]
  },
  {
   "cell_type": "markdown",
   "id": "c60e3aaa",
   "metadata": {},
   "source": [
    "### example"
   ]
  },
  {
   "cell_type": "code",
   "execution_count": 59,
   "id": "88ff0936",
   "metadata": {},
   "outputs": [],
   "source": [
    "data = [[15,5,5], [10,10,15], [2,3,5]]\n",
    "stat, p, dof, expected = chi2_contingency(data)"
   ]
  },
  {
   "cell_type": "code",
   "execution_count": 60,
   "id": "83bc9e5d",
   "metadata": {},
   "outputs": [
    {
     "data": {
      "text/plain": [
       "8.07777777777778"
      ]
     },
     "execution_count": 60,
     "metadata": {},
     "output_type": "execute_result"
    }
   ],
   "source": [
    "stat"
   ]
  },
  {
   "cell_type": "code",
   "execution_count": 61,
   "id": "99b2fea4",
   "metadata": {},
   "outputs": [
    {
     "data": {
      "text/plain": [
       "0.08877028710376675"
      ]
     },
     "execution_count": 61,
     "metadata": {},
     "output_type": "execute_result"
    }
   ],
   "source": [
    "p"
   ]
  },
  {
   "cell_type": "code",
   "execution_count": 62,
   "id": "a282d066",
   "metadata": {},
   "outputs": [
    {
     "data": {
      "text/plain": [
       "4"
      ]
     },
     "execution_count": 62,
     "metadata": {},
     "output_type": "execute_result"
    }
   ],
   "source": [
    "dof"
   ]
  },
  {
   "cell_type": "code",
   "execution_count": 63,
   "id": "e8c16f4b",
   "metadata": {},
   "outputs": [
    {
     "data": {
      "text/plain": [
       "array([[ 9.64285714,  6.42857143,  8.92857143],\n",
       "       [13.5       ,  9.        , 12.5       ],\n",
       "       [ 3.85714286,  2.57142857,  3.57142857]])"
      ]
     },
     "execution_count": 63,
     "metadata": {},
     "output_type": "execute_result"
    }
   ],
   "source": [
    "expected"
   ]
  },
  {
   "cell_type": "code",
   "execution_count": 64,
   "id": "db35dd27",
   "metadata": {},
   "outputs": [
    {
     "name": "stdout",
     "output_type": "stream",
     "text": [
      "p value is: 0.08877028710376675\n",
      "Independent (H0 holds true)\n"
     ]
    }
   ],
   "source": [
    "alpha = 0.05\n",
    "print(\"p value is: \" + str(p))\n",
    "if p <= alpha:\n",
    "    print('Dependent (rejected H0)')\n",
    "else:\n",
    "    print('Independent (H0 holds true)')"
   ]
  },
  {
   "cell_type": "code",
   "execution_count": null,
   "id": "558b31c3",
   "metadata": {},
   "outputs": [],
   "source": []
  },
  {
   "cell_type": "code",
   "execution_count": null,
   "id": "0f879a11",
   "metadata": {},
   "outputs": [],
   "source": []
  },
  {
   "cell_type": "code",
   "execution_count": null,
   "id": "5e8b6757",
   "metadata": {},
   "outputs": [],
   "source": []
  },
  {
   "cell_type": "code",
   "execution_count": null,
   "id": "1c86c885",
   "metadata": {},
   "outputs": [],
   "source": []
  },
  {
   "cell_type": "code",
   "execution_count": null,
   "id": "9b33896e",
   "metadata": {},
   "outputs": [],
   "source": []
  },
  {
   "cell_type": "code",
   "execution_count": null,
   "id": "79a7a432",
   "metadata": {},
   "outputs": [],
   "source": []
  },
  {
   "cell_type": "code",
   "execution_count": null,
   "id": "0d4c9fd4",
   "metadata": {},
   "outputs": [],
   "source": []
  }
 ],
 "metadata": {
  "kernelspec": {
   "display_name": "Python 3 (ipykernel)",
   "language": "python",
   "name": "python3"
  },
  "language_info": {
   "codemirror_mode": {
    "name": "ipython",
    "version": 3
   },
   "file_extension": ".py",
   "mimetype": "text/x-python",
   "name": "python",
   "nbconvert_exporter": "python",
   "pygments_lexer": "ipython3",
   "version": "3.11.5"
  }
 },
 "nbformat": 4,
 "nbformat_minor": 5
}
