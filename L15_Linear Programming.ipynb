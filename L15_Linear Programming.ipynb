{
 "cells": [
  {
   "cell_type": "code",
   "execution_count": 1,
   "id": "ac0ba2cb",
   "metadata": {},
   "outputs": [
    {
     "name": "stderr",
     "output_type": "stream",
     "text": [
      "C:\\Users\\duasp\\AppData\\Roaming\\Python\\Python311\\site-packages\\pandas\\core\\arrays\\masked.py:60: UserWarning: Pandas requires version '1.3.6' or newer of 'bottleneck' (version '1.3.5' currently installed).\n",
      "  from pandas.core import (\n"
     ]
    }
   ],
   "source": [
    "import numpy as np\n",
    "import pandas as pd\n",
    "import seaborn as sns\n",
    "import matplotlib.pyplot as plt\n",
    "import scipy.stats as stats\n",
    "\n",
    "from scipy.stats import chi2_contingency"
   ]
  },
  {
   "cell_type": "markdown",
   "id": "9aba6bd5",
   "metadata": {},
   "source": [
    "* A small bakery wants to maximize its daily profit by producing cookies and cakes. They have limited flour and oven space available.\n",
    "\n",
    "Profit per unit:\n",
    "    Cookies: 10rs per cookie\n",
    "    \n",
    "    Cakes: 200rs per cake\n",
    "    \n",
    "Flour requirement per unit:\n",
    "    Cookies: 1 cup per cookie\n",
    "    \n",
    "    Cakes: 2 cups per cake\n",
    "    \n",
    "Oven time per unit:\n",
    "    Cookies: 10 minutes per cookie\n",
    "    \n",
    "    Cake: 15 minutes per cake\n",
    "    \n",
    "Available resources:\n",
    "    Flour: 100 cups\n",
    "    \n",
    "    Oven time: 240 minutes\n",
    "    \n",
    "Objective: Maximize the total daily profit"
   ]
  },
  {
   "cell_type": "code",
   "execution_count": 2,
   "id": "f20937d1",
   "metadata": {},
   "outputs": [],
   "source": [
    "from pulp import LpProblem, LpVariable, LpMaximize, LpStatus, LpMinimize"
   ]
  },
  {
   "cell_type": "code",
   "execution_count": 3,
   "id": "38676505",
   "metadata": {},
   "outputs": [],
   "source": [
    "# Create the optimization problem\n",
    "problem = LpProblem(\"Bakery_Profit_Maximization\", LpMaximize)"
   ]
  },
  {
   "cell_type": "code",
   "execution_count": 4,
   "id": "e70b9961",
   "metadata": {},
   "outputs": [],
   "source": [
    "# Decision variables\n",
    "cookies = LpVariable(\"Cookies\", lowBound = 5)   # Number of cookies to produce (non-negative)\n",
    "cakes = LpVariable(\"Cakes\", lowBound = 0, upBound = 10)    # Number of cakes to produce (non-negative)"
   ]
  },
  {
   "cell_type": "code",
   "execution_count": 5,
   "id": "917d078d",
   "metadata": {},
   "outputs": [],
   "source": [
    "# Objective function (maximize total profit)\n",
    "profit = 10 * cookies + 200 * cakes\n",
    "problem += profit"
   ]
  },
  {
   "cell_type": "code",
   "execution_count": 6,
   "id": "3ec2d7e0",
   "metadata": {},
   "outputs": [
    {
     "data": {
      "text/plain": [
       "Bakery_Profit_Maximization:\n",
       "MAXIMIZE\n",
       "200*Cakes + 10*Cookies + 0\n",
       "VARIABLES\n",
       "Cakes <= 10 Continuous\n",
       "5 <= Cookies Continuous"
      ]
     },
     "execution_count": 6,
     "metadata": {},
     "output_type": "execute_result"
    }
   ],
   "source": [
    "problem"
   ]
  },
  {
   "cell_type": "code",
   "execution_count": 7,
   "id": "c33724d0",
   "metadata": {},
   "outputs": [
    {
     "data": {
      "text/plain": [
       "pulp.pulp.LpProblem"
      ]
     },
     "execution_count": 7,
     "metadata": {},
     "output_type": "execute_result"
    }
   ],
   "source": [
    "type(problem)"
   ]
  },
  {
   "cell_type": "code",
   "execution_count": 8,
   "id": "8fe638bf",
   "metadata": {},
   "outputs": [],
   "source": [
    "# Constraints 1: Flour limitation\n",
    "problem += 1 * cookies + 2 * cakes <= 100\n",
    "# Flour requirement per unit * number of units <= total flour"
   ]
  },
  {
   "cell_type": "code",
   "execution_count": 9,
   "id": "d8085c65",
   "metadata": {},
   "outputs": [
    {
     "data": {
      "text/plain": [
       "Bakery_Profit_Maximization:\n",
       "MAXIMIZE\n",
       "200*Cakes + 10*Cookies + 0\n",
       "SUBJECT TO\n",
       "_C1: 2 Cakes + Cookies <= 100\n",
       "\n",
       "VARIABLES\n",
       "Cakes <= 10 Continuous\n",
       "5 <= Cookies Continuous"
      ]
     },
     "execution_count": 9,
     "metadata": {},
     "output_type": "execute_result"
    }
   ],
   "source": [
    "problem"
   ]
  },
  {
   "cell_type": "code",
   "execution_count": 10,
   "id": "0e399d2b",
   "metadata": {},
   "outputs": [],
   "source": [
    "# Constraints 2: Oven time limitation\n",
    "problem += 10 * cookies + 15 * cakes <= 240\n",
    "# Oven time per unit * number of units <= total oven time"
   ]
  },
  {
   "cell_type": "code",
   "execution_count": 11,
   "id": "6c2f94ae",
   "metadata": {},
   "outputs": [
    {
     "data": {
      "text/plain": [
       "Bakery_Profit_Maximization:\n",
       "MAXIMIZE\n",
       "200*Cakes + 10*Cookies + 0\n",
       "SUBJECT TO\n",
       "_C1: 2 Cakes + Cookies <= 100\n",
       "\n",
       "_C2: 15 Cakes + 10 Cookies <= 240\n",
       "\n",
       "VARIABLES\n",
       "Cakes <= 10 Continuous\n",
       "5 <= Cookies Continuous"
      ]
     },
     "execution_count": 11,
     "metadata": {},
     "output_type": "execute_result"
    }
   ],
   "source": [
    "problem"
   ]
  },
  {
   "cell_type": "code",
   "execution_count": 12,
   "id": "7cfb937b",
   "metadata": {},
   "outputs": [],
   "source": [
    "# Solve the problem\n",
    "status = problem.solve()"
   ]
  },
  {
   "cell_type": "code",
   "execution_count": 13,
   "id": "7fd9bdd4",
   "metadata": {},
   "outputs": [
    {
     "data": {
      "text/plain": [
       "'Optimal'"
      ]
     },
     "execution_count": 13,
     "metadata": {},
     "output_type": "execute_result"
    }
   ],
   "source": [
    "LpStatus[status]"
   ]
  },
  {
   "cell_type": "code",
   "execution_count": 14,
   "id": "cc8641fa",
   "metadata": {},
   "outputs": [
    {
     "name": "stdout",
     "output_type": "stream",
     "text": [
      "Optimal number of cookies: 9.0\n",
      "Optimal number of cakes: 10.0\n",
      "Maximum daily profit: 2090.0\n"
     ]
    }
   ],
   "source": [
    "print(\"Optimal number of cookies:\", cookies.varValue)\n",
    "print(\"Optimal number of cakes:\", cakes.varValue)\n",
    "print(\"Maximum daily profit:\", problem.objective.value())"
   ]
  },
  {
   "cell_type": "code",
   "execution_count": null,
   "id": "21b75638",
   "metadata": {},
   "outputs": [],
   "source": []
  },
  {
   "cell_type": "markdown",
   "id": "9b1b4942",
   "metadata": {},
   "source": [
    "A juice company needs to produce two types of juice blends:\n",
    "\n",
    "    Blend A: This requires 2 units of orange juice and 1 unit of apple juice per litre.\n",
    "    Blend B: This requires 1 unit of orange juice and 3 units of apple juice per litre.\n",
    "    \n",
    "The company wants to minimize the cost of producing a certain amount of each blend while considering the following factors:\n",
    "\n",
    "    Orange Juice Cost: $1 per unit\n",
    "    Apple Juice Cost: $0.5 per unit\n",
    "    \n",
    "    Production Target:\n",
    "        100 liters of Blend A\n",
    "        150 liters of Blend B"
   ]
  },
  {
   "cell_type": "code",
   "execution_count": 15,
   "id": "efd15bc3",
   "metadata": {},
   "outputs": [
    {
     "name": "stderr",
     "output_type": "stream",
     "text": [
      "C:\\Users\\duasp\\AppData\\Roaming\\Python\\Python311\\site-packages\\pulp\\pulp.py:1316: UserWarning: Spaces are not permitted in the name. Converted to '_'\n",
      "  warnings.warn(\"Spaces are not permitted in the name. Converted to '_'\")\n"
     ]
    }
   ],
   "source": [
    "# Create the optimization problem\n",
    "problem = LpProblem(\"MinimizeBlending Cost\", LpMinimize)"
   ]
  },
  {
   "cell_type": "code",
   "execution_count": 16,
   "id": "86821435",
   "metadata": {},
   "outputs": [],
   "source": [
    "# Decision variables\n",
    "orange_juice = LpVariable(\"Orange Juice\", lowBound = 0)   \n",
    "apple_juice = LpVariable(\"Apple Juice\", lowBound = 0)    "
   ]
  },
  {
   "cell_type": "code",
   "execution_count": 17,
   "id": "31546f21",
   "metadata": {},
   "outputs": [],
   "source": [
    "objective = 1 * orange_juice + 0.5 * apple_juice"
   ]
  },
  {
   "cell_type": "code",
   "execution_count": 18,
   "id": "10a909fd",
   "metadata": {},
   "outputs": [],
   "source": [
    "problem += objective"
   ]
  },
  {
   "cell_type": "code",
   "execution_count": 19,
   "id": "b01c3414",
   "metadata": {},
   "outputs": [],
   "source": [
    "problem += 2 * orange_juice + apple_juice <= 200"
   ]
  },
  {
   "cell_type": "code",
   "execution_count": 20,
   "id": "def20059",
   "metadata": {},
   "outputs": [],
   "source": [
    "problem += orange_juice + 3 * apple_juice <= 300"
   ]
  },
  {
   "cell_type": "code",
   "execution_count": 21,
   "id": "d6d0a216",
   "metadata": {},
   "outputs": [],
   "source": [
    "problem += orange_juice >= 100"
   ]
  },
  {
   "cell_type": "code",
   "execution_count": 22,
   "id": "ea625f91",
   "metadata": {},
   "outputs": [],
   "source": [
    "problem += apple_juice >= 150"
   ]
  },
  {
   "cell_type": "code",
   "execution_count": 23,
   "id": "c72f753b",
   "metadata": {},
   "outputs": [
    {
     "data": {
      "text/plain": [
       "MinimizeBlending_Cost:\n",
       "MINIMIZE\n",
       "0.5*Apple_Juice + 1*Orange_Juice + 0.0\n",
       "SUBJECT TO\n",
       "_C1: Apple_Juice + 2 Orange_Juice <= 200\n",
       "\n",
       "_C2: 3 Apple_Juice + Orange_Juice <= 300\n",
       "\n",
       "_C3: Orange_Juice >= 100\n",
       "\n",
       "_C4: Apple_Juice >= 150\n",
       "\n",
       "VARIABLES\n",
       "Apple_Juice Continuous\n",
       "Orange_Juice Continuous"
      ]
     },
     "execution_count": 23,
     "metadata": {},
     "output_type": "execute_result"
    }
   ],
   "source": [
    "problem"
   ]
  },
  {
   "cell_type": "code",
   "execution_count": 24,
   "id": "7551090d",
   "metadata": {},
   "outputs": [],
   "source": [
    "status = problem.solve()"
   ]
  },
  {
   "cell_type": "code",
   "execution_count": 25,
   "id": "f5ee44ed",
   "metadata": {},
   "outputs": [
    {
     "data": {
      "text/plain": [
       "'Infeasible'"
      ]
     },
     "execution_count": 25,
     "metadata": {},
     "output_type": "execute_result"
    }
   ],
   "source": [
    "LpStatus[status]"
   ]
  },
  {
   "cell_type": "code",
   "execution_count": 26,
   "id": "0f5503a6",
   "metadata": {},
   "outputs": [
    {
     "name": "stdout",
     "output_type": "stream",
     "text": [
      "Optimal number of Orange Juice: 100.0\n",
      "Optimal number of Apple Juice: 150.0\n",
      "Minimum Total Cost: 175.0\n"
     ]
    }
   ],
   "source": [
    "print(\"Optimal number of Orange Juice:\", orange_juice.varValue)\n",
    "print(\"Optimal number of Apple Juice:\", apple_juice.varValue)\n",
    "print(\"Minimum Total Cost:\", objective.value())"
   ]
  },
  {
   "cell_type": "code",
   "execution_count": null,
   "id": "2f80ed6a",
   "metadata": {},
   "outputs": [],
   "source": []
  },
  {
   "cell_type": "code",
   "execution_count": null,
   "id": "ee1dc84e",
   "metadata": {},
   "outputs": [],
   "source": []
  },
  {
   "cell_type": "code",
   "execution_count": null,
   "id": "40bde903",
   "metadata": {},
   "outputs": [],
   "source": []
  },
  {
   "cell_type": "code",
   "execution_count": null,
   "id": "56356fae",
   "metadata": {},
   "outputs": [],
   "source": []
  },
  {
   "cell_type": "code",
   "execution_count": null,
   "id": "496697cc",
   "metadata": {},
   "outputs": [],
   "source": []
  },
  {
   "cell_type": "code",
   "execution_count": null,
   "id": "597b0532",
   "metadata": {},
   "outputs": [],
   "source": []
  },
  {
   "cell_type": "code",
   "execution_count": null,
   "id": "cfcaec34",
   "metadata": {},
   "outputs": [],
   "source": []
  },
  {
   "cell_type": "code",
   "execution_count": null,
   "id": "44d4e8c9",
   "metadata": {},
   "outputs": [],
   "source": []
  },
  {
   "cell_type": "code",
   "execution_count": null,
   "id": "b89e0e3b",
   "metadata": {},
   "outputs": [],
   "source": []
  },
  {
   "cell_type": "code",
   "execution_count": null,
   "id": "8f77c7d3",
   "metadata": {},
   "outputs": [],
   "source": []
  },
  {
   "cell_type": "code",
   "execution_count": null,
   "id": "f8711414",
   "metadata": {},
   "outputs": [],
   "source": []
  },
  {
   "cell_type": "code",
   "execution_count": null,
   "id": "fc0f394a",
   "metadata": {},
   "outputs": [],
   "source": []
  },
  {
   "cell_type": "code",
   "execution_count": null,
   "id": "88847b51",
   "metadata": {},
   "outputs": [],
   "source": []
  },
  {
   "cell_type": "code",
   "execution_count": null,
   "id": "bd6452e3",
   "metadata": {},
   "outputs": [],
   "source": []
  },
  {
   "cell_type": "code",
   "execution_count": null,
   "id": "c481f213",
   "metadata": {},
   "outputs": [],
   "source": []
  },
  {
   "cell_type": "code",
   "execution_count": null,
   "id": "9d8cb141",
   "metadata": {},
   "outputs": [],
   "source": []
  },
  {
   "cell_type": "code",
   "execution_count": null,
   "id": "f391f219",
   "metadata": {},
   "outputs": [],
   "source": []
  },
  {
   "cell_type": "code",
   "execution_count": null,
   "id": "5c54cb66",
   "metadata": {},
   "outputs": [],
   "source": []
  },
  {
   "cell_type": "code",
   "execution_count": null,
   "id": "d30830d9",
   "metadata": {},
   "outputs": [],
   "source": []
  },
  {
   "cell_type": "code",
   "execution_count": null,
   "id": "237571a6",
   "metadata": {},
   "outputs": [],
   "source": []
  },
  {
   "cell_type": "code",
   "execution_count": null,
   "id": "d5fc0310",
   "metadata": {},
   "outputs": [],
   "source": []
  },
  {
   "cell_type": "code",
   "execution_count": null,
   "id": "21bfb961",
   "metadata": {},
   "outputs": [],
   "source": []
  },
  {
   "cell_type": "code",
   "execution_count": null,
   "id": "cb583169",
   "metadata": {},
   "outputs": [],
   "source": []
  },
  {
   "cell_type": "code",
   "execution_count": null,
   "id": "0d4c9fd4",
   "metadata": {},
   "outputs": [],
   "source": []
  }
 ],
 "metadata": {
  "kernelspec": {
   "display_name": "Python 3 (ipykernel)",
   "language": "python",
   "name": "python3"
  },
  "language_info": {
   "codemirror_mode": {
    "name": "ipython",
    "version": 3
   },
   "file_extension": ".py",
   "mimetype": "text/x-python",
   "name": "python",
   "nbconvert_exporter": "python",
   "pygments_lexer": "ipython3",
   "version": "3.11.5"
  }
 },
 "nbformat": 4,
 "nbformat_minor": 5
}
